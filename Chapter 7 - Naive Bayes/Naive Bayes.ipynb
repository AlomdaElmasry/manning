{
 "cells": [
  {
   "cell_type": "markdown",
   "metadata": {},
   "source": [
    "# Coding a spam classifier with naive Bayes\n",
    "\n",
    "### 1. Imports and pre-processing data\n",
    "\n",
    "We load the data into a Turi Create SFrame, and then preprocess it by adding a string with the (non-repeated) words in the email."
   ]
  },
  {
   "cell_type": "code",
   "execution_count": 1,
   "metadata": {},
   "outputs": [],
   "source": [
    "import turicreate\n",
    "import numpy as np"
   ]
  },
  {
   "cell_type": "code",
   "execution_count": 2,
   "metadata": {},
   "outputs": [],
   "source": [
    "import pandas as pd\n",
    "emails = pd.read_csv('./emails.csv')"
   ]
  },
  {
   "cell_type": "code",
   "execution_count": 3,
   "metadata": {},
   "outputs": [],
   "source": [
    "#emails = turicreate.SFrame('./emails.csv')"
   ]
  },
  {
   "cell_type": "code",
   "execution_count": 5,
   "metadata": {},
   "outputs": [
    {
     "data": {
      "text/html": [
       "<div>\n",
       "<style scoped>\n",
       "    .dataframe tbody tr th:only-of-type {\n",
       "        vertical-align: middle;\n",
       "    }\n",
       "\n",
       "    .dataframe tbody tr th {\n",
       "        vertical-align: top;\n",
       "    }\n",
       "\n",
       "    .dataframe thead th {\n",
       "        text-align: right;\n",
       "    }\n",
       "</style>\n",
       "<table border=\"1\" class=\"dataframe\">\n",
       "  <thead>\n",
       "    <tr style=\"text-align: right;\">\n",
       "      <th></th>\n",
       "      <th>text</th>\n",
       "      <th>spam</th>\n",
       "    </tr>\n",
       "  </thead>\n",
       "  <tbody>\n",
       "    <tr>\n",
       "      <th>0</th>\n",
       "      <td>Subject: naturally irresistible your corporate...</td>\n",
       "      <td>1</td>\n",
       "    </tr>\n",
       "    <tr>\n",
       "      <th>1</th>\n",
       "      <td>Subject: the stock trading gunslinger  fanny i...</td>\n",
       "      <td>1</td>\n",
       "    </tr>\n",
       "    <tr>\n",
       "      <th>2</th>\n",
       "      <td>Subject: unbelievable new homes made easy  im ...</td>\n",
       "      <td>1</td>\n",
       "    </tr>\n",
       "    <tr>\n",
       "      <th>3</th>\n",
       "      <td>Subject: 4 color printing special  request add...</td>\n",
       "      <td>1</td>\n",
       "    </tr>\n",
       "    <tr>\n",
       "      <th>4</th>\n",
       "      <td>Subject: do not have money , get software cds ...</td>\n",
       "      <td>1</td>\n",
       "    </tr>\n",
       "    <tr>\n",
       "      <th>5</th>\n",
       "      <td>Subject: great nnews  hello , welcome to medzo...</td>\n",
       "      <td>1</td>\n",
       "    </tr>\n",
       "    <tr>\n",
       "      <th>6</th>\n",
       "      <td>Subject: here ' s a hot play in motion  homela...</td>\n",
       "      <td>1</td>\n",
       "    </tr>\n",
       "    <tr>\n",
       "      <th>7</th>\n",
       "      <td>Subject: save your money buy getting this thin...</td>\n",
       "      <td>1</td>\n",
       "    </tr>\n",
       "    <tr>\n",
       "      <th>8</th>\n",
       "      <td>Subject: undeliverable : home based business f...</td>\n",
       "      <td>1</td>\n",
       "    </tr>\n",
       "    <tr>\n",
       "      <th>9</th>\n",
       "      <td>Subject: save your money buy getting this thin...</td>\n",
       "      <td>1</td>\n",
       "    </tr>\n",
       "  </tbody>\n",
       "</table>\n",
       "</div>"
      ],
      "text/plain": [
       "                                                text  spam\n",
       "0  Subject: naturally irresistible your corporate...     1\n",
       "1  Subject: the stock trading gunslinger  fanny i...     1\n",
       "2  Subject: unbelievable new homes made easy  im ...     1\n",
       "3  Subject: 4 color printing special  request add...     1\n",
       "4  Subject: do not have money , get software cds ...     1\n",
       "5  Subject: great nnews  hello , welcome to medzo...     1\n",
       "6  Subject: here ' s a hot play in motion  homela...     1\n",
       "7  Subject: save your money buy getting this thin...     1\n",
       "8  Subject: undeliverable : home based business f...     1\n",
       "9  Subject: save your money buy getting this thin...     1"
      ]
     },
     "execution_count": 5,
     "metadata": {},
     "output_type": "execute_result"
    }
   ],
   "source": [
    "emails[:10]"
   ]
  },
  {
   "cell_type": "code",
   "execution_count": 6,
   "metadata": {},
   "outputs": [],
   "source": [
    "def process_email(text):\n",
    "    return list(set(text.split()))\n",
    "\n",
    "emails['words'] = emails['text'].apply(process_email)"
   ]
  },
  {
   "cell_type": "code",
   "execution_count": 7,
   "metadata": {},
   "outputs": [],
   "source": [
    "#emails['word_count'] = turicreate.text_analytics.count_words(emails['text'])"
   ]
  },
  {
   "cell_type": "code",
   "execution_count": 9,
   "metadata": {},
   "outputs": [
    {
     "data": {
      "text/html": [
       "<div>\n",
       "<style scoped>\n",
       "    .dataframe tbody tr th:only-of-type {\n",
       "        vertical-align: middle;\n",
       "    }\n",
       "\n",
       "    .dataframe tbody tr th {\n",
       "        vertical-align: top;\n",
       "    }\n",
       "\n",
       "    .dataframe thead th {\n",
       "        text-align: right;\n",
       "    }\n",
       "</style>\n",
       "<table border=\"1\" class=\"dataframe\">\n",
       "  <thead>\n",
       "    <tr style=\"text-align: right;\">\n",
       "      <th></th>\n",
       "      <th>text</th>\n",
       "      <th>spam</th>\n",
       "      <th>words</th>\n",
       "    </tr>\n",
       "  </thead>\n",
       "  <tbody>\n",
       "    <tr>\n",
       "      <th>0</th>\n",
       "      <td>Subject: naturally irresistible your corporate...</td>\n",
       "      <td>1</td>\n",
       "      <td>[all, through, portfolio, its, guaranteed, ,, ...</td>\n",
       "    </tr>\n",
       "    <tr>\n",
       "      <th>1</th>\n",
       "      <td>Subject: the stock trading gunslinger  fanny i...</td>\n",
       "      <td>1</td>\n",
       "      <td>[and, merrill, is, nameable, clockwork, libret...</td>\n",
       "    </tr>\n",
       "    <tr>\n",
       "      <th>2</th>\n",
       "      <td>Subject: unbelievable new homes made easy  im ...</td>\n",
       "      <td>1</td>\n",
       "      <td>[pre, and, all, show, being, visit, loan, 454,...</td>\n",
       "    </tr>\n",
       "    <tr>\n",
       "      <th>3</th>\n",
       "      <td>Subject: 4 color printing special  request add...</td>\n",
       "      <td>1</td>\n",
       "      <td>[and, golden, 5110, 626, color, ca, an, canyon...</td>\n",
       "    </tr>\n",
       "    <tr>\n",
       "      <th>4</th>\n",
       "      <td>Subject: do not have money , get software cds ...</td>\n",
       "      <td>1</td>\n",
       "      <td>[comedies, all, old, tradgedies, be, money, is...</td>\n",
       "    </tr>\n",
       "    <tr>\n",
       "      <th>5</th>\n",
       "      <td>Subject: great nnews  hello , welcome to medzo...</td>\n",
       "      <td>1</td>\n",
       "      <td>[va, groundsel, allusion, ag, tosher, confide,...</td>\n",
       "    </tr>\n",
       "    <tr>\n",
       "      <th>6</th>\n",
       "      <td>Subject: here ' s a hot play in motion  homela...</td>\n",
       "      <td>1</td>\n",
       "      <td>[precise, all, chain, limited, indicating, ena...</td>\n",
       "    </tr>\n",
       "    <tr>\n",
       "      <th>7</th>\n",
       "      <td>Subject: save your money buy getting this thin...</td>\n",
       "      <td>1</td>\n",
       "      <td>[right, want, just, money, is, within, it, rea...</td>\n",
       "    </tr>\n",
       "    <tr>\n",
       "      <th>8</th>\n",
       "      <td>Subject: undeliverable : home based business f...</td>\n",
       "      <td>1</td>\n",
       "      <td>[unknown, grownups, co, telecom, is, mts, 000,...</td>\n",
       "    </tr>\n",
       "    <tr>\n",
       "      <th>9</th>\n",
       "      <td>Subject: save your money buy getting this thin...</td>\n",
       "      <td>1</td>\n",
       "      <td>[right, want, just, money, is, within, it, rea...</td>\n",
       "    </tr>\n",
       "  </tbody>\n",
       "</table>\n",
       "</div>"
      ],
      "text/plain": [
       "                                                text  spam  \\\n",
       "0  Subject: naturally irresistible your corporate...     1   \n",
       "1  Subject: the stock trading gunslinger  fanny i...     1   \n",
       "2  Subject: unbelievable new homes made easy  im ...     1   \n",
       "3  Subject: 4 color printing special  request add...     1   \n",
       "4  Subject: do not have money , get software cds ...     1   \n",
       "5  Subject: great nnews  hello , welcome to medzo...     1   \n",
       "6  Subject: here ' s a hot play in motion  homela...     1   \n",
       "7  Subject: save your money buy getting this thin...     1   \n",
       "8  Subject: undeliverable : home based business f...     1   \n",
       "9  Subject: save your money buy getting this thin...     1   \n",
       "\n",
       "                                               words  \n",
       "0  [all, through, portfolio, its, guaranteed, ,, ...  \n",
       "1  [and, merrill, is, nameable, clockwork, libret...  \n",
       "2  [pre, and, all, show, being, visit, loan, 454,...  \n",
       "3  [and, golden, 5110, 626, color, ca, an, canyon...  \n",
       "4  [comedies, all, old, tradgedies, be, money, is...  \n",
       "5  [va, groundsel, allusion, ag, tosher, confide,...  \n",
       "6  [precise, all, chain, limited, indicating, ena...  \n",
       "7  [right, want, just, money, is, within, it, rea...  \n",
       "8  [unknown, grownups, co, telecom, is, mts, 000,...  \n",
       "9  [right, want, just, money, is, within, it, rea...  "
      ]
     },
     "execution_count": 9,
     "metadata": {},
     "output_type": "execute_result"
    }
   ],
   "source": [
    "emails[:10]"
   ]
  },
  {
   "cell_type": "code",
   "execution_count": 64,
   "metadata": {},
   "outputs": [
    {
     "data": {
      "text/plain": [
       "0.2388268156424581"
      ]
     },
     "execution_count": 64,
     "metadata": {},
     "output_type": "execute_result"
    }
   ],
   "source": [
    "# Calculating the probability \n",
    "1.0*sum(emails['spam']==1)/len(emails)"
   ]
  },
  {
   "cell_type": "markdown",
   "metadata": {},
   "source": [
    "### 2. Coding Naive Bayes\n",
    "\n",
    "We start by counting how many spam and ham emails contain a given word.\n",
    "\n",
    "We check for the words 'money' and 'easy'."
   ]
  },
  {
   "cell_type": "code",
   "execution_count": 15,
   "metadata": {},
   "outputs": [
    {
     "data": {
      "text/plain": [
       "\"\\ndef count_spam_ham(word):\\n    email_count = {'spam': 0, 'ham': 0}\\n    for email in emails:\\n        if word in email['word_count']:\\n            if email['spam']:\\n                email_count['spam'] += 1\\n            else:\\n                email_count['ham'] += 1\\n    return email_count\\n\""
      ]
     },
     "execution_count": 15,
     "metadata": {},
     "output_type": "execute_result"
    }
   ],
   "source": [
    "def count_spam_ham(word):\n",
    "    email_count = {'spam': 0, 'ham': 0}\n",
    "    for email in emails:\n",
    "        if word in email['words']:\n",
    "            if email['spam']:\n",
    "                email_count['spam'] += 1\n",
    "            else:\n",
    "                email_count['ham'] += 1\n",
    "    return email_count\n",
    "\n",
    "# In case it's a dictionary\n",
    "'''\n",
    "def count_spam_ham(word):\n",
    "    email_count = {'spam': 0, 'ham': 0}\n",
    "    for email in emails:\n",
    "        if word in email['word_count']:\n",
    "            if email['spam']:\n",
    "                email_count['spam'] += 1\n",
    "            else:\n",
    "                email_count['ham'] += 1\n",
    "    return email_count\n",
    "'''"
   ]
  },
  {
   "cell_type": "code",
   "execution_count": 16,
   "metadata": {},
   "outputs": [
    {
     "name": "stdout",
     "output_type": "stream",
     "text": [
      "{'ham': 87, 'spam': 280}\n",
      "{'ham': 61, 'spam': 110}\n"
     ]
    }
   ],
   "source": [
    "print count_spam_ham('money')\n",
    "print count_spam_ham('easy')"
   ]
  },
  {
   "cell_type": "markdown",
   "metadata": {},
   "source": [
    "Now we make a function that takes a number of words. The naive Bayes algorithm goes over all these words, multiplies the probabilities that the email containing them are spam, and ham. Finally, calculates the weighted probabilities using Naive Bayes, and returns the probability that the email is spam."
   ]
  },
  {
   "cell_type": "code",
   "execution_count": 17,
   "metadata": {},
   "outputs": [],
   "source": [
    "def prob_spam_bayes(word):\n",
    "    # Returns the probability that the email is spam given that it contains a word\n",
    "    spam, ham = count_spam_ham(word)\n",
    "    if spam==0 and ham==0:\n",
    "        return 0.5\n",
    "    return 1.0*spam/(spam+ham)"
   ]
  },
  {
   "cell_type": "code",
   "execution_count": 18,
   "metadata": {},
   "outputs": [],
   "source": [
    "def prob_spam_naive_bayes(words):\n",
    "    email_counts = [count_spam_ham(word) for word in words]\n",
    "    spams = [count['spam'] for count in email_counts]\n",
    "    hams = [count['ham'] for count in email_counts]\n",
    "    #print spams\n",
    "    #print hams\n",
    "    spam = np.prod([count['spam'] for count in email_counts])\n",
    "    ham = np.prod([count['ham'] for count in email_counts])\n",
    "    if spam==0 and ham==0:\n",
    "        return 0.5\n",
    "    return 1.0*spam/(spam+ham)\n",
    "\n",
    "# In case the email comes as a string\n",
    "def prob_spam_naive_bayes_string(email):\n",
    "    words = email.split()\n",
    "    print words\n",
    "    return prob_spam_naive_bayes(words)"
   ]
  },
  {
   "cell_type": "markdown",
   "metadata": {},
   "source": [
    "### Testing with some sample emails\n",
    "We verify that for non-spammy words, the classifier gives us small probabilities, and for spammy words it gives us large probabilities."
   ]
  },
  {
   "cell_type": "code",
   "execution_count": 19,
   "metadata": {},
   "outputs": [
    {
     "data": {
      "text/plain": [
       "0.8530201899908605"
      ]
     },
     "execution_count": 19,
     "metadata": {},
     "output_type": "execute_result"
    }
   ],
   "source": [
    "prob_spam_naive_bayes(['money', 'easy'])"
   ]
  },
  {
   "cell_type": "code",
   "execution_count": 20,
   "metadata": {},
   "outputs": [
    {
     "data": {
      "text/plain": [
       "0.008857887217413228"
      ]
     },
     "execution_count": 20,
     "metadata": {},
     "output_type": "execute_result"
    }
   ],
   "source": [
    "prob_spam_naive_bayes(['mom','friend','school'])"
   ]
  },
  {
   "cell_type": "code",
   "execution_count": 21,
   "metadata": {},
   "outputs": [
    {
     "data": {
      "text/plain": [
       "1.0"
      ]
     },
     "execution_count": 21,
     "metadata": {},
     "output_type": "execute_result"
    }
   ],
   "source": [
    "prob_spam_naive_bayes(['prince','viagra'])"
   ]
  },
  {
   "cell_type": "code",
   "execution_count": 22,
   "metadata": {},
   "outputs": [
    {
     "name": "stdout",
     "output_type": "stream",
     "text": [
      "['hi', 'mom', 'how', 'are', 'you', 'please', 'buy', 'apples']\n"
     ]
    },
    {
     "data": {
      "text/plain": [
       "0.0"
      ]
     },
     "execution_count": 22,
     "metadata": {},
     "output_type": "execute_result"
    }
   ],
   "source": [
    "prob_spam_naive_bayes_string('hi mom how are you please buy apples')"
   ]
  },
  {
   "cell_type": "code",
   "execution_count": 23,
   "metadata": {},
   "outputs": [
    {
     "name": "stdout",
     "output_type": "stream",
     "text": [
      "['buy', 'cheap', 'viagra', 'get', 'lottery']\n"
     ]
    },
    {
     "data": {
      "text/plain": [
       "1.0"
      ]
     },
     "execution_count": 23,
     "metadata": {},
     "output_type": "execute_result"
    }
   ],
   "source": [
    "prob_spam_naive_bayes_string('buy cheap viagra get lottery')"
   ]
  },
  {
   "cell_type": "code",
   "execution_count": 24,
   "metadata": {},
   "outputs": [
    {
     "name": "stdout",
     "output_type": "stream",
     "text": [
      "['enter', 'in', 'the', 'lottery', 'now', 'win', 'three', 'million', 'dollars']\n"
     ]
    },
    {
     "data": {
      "text/plain": [
       "1.0"
      ]
     },
     "execution_count": 24,
     "metadata": {},
     "output_type": "execute_result"
    }
   ],
   "source": [
    "prob_spam_naive_bayes_string('enter in the lottery now win three million dollars')"
   ]
  },
  {
   "cell_type": "code",
   "execution_count": 25,
   "metadata": {},
   "outputs": [
    {
     "name": "stdout",
     "output_type": "stream",
     "text": [
      "['lets', 'meet', 'at', 'the', 'hotel', 'lobby', 'at', 'nine', 'am', 'tomorrow']\n"
     ]
    },
    {
     "data": {
      "text/plain": [
       "0.0"
      ]
     },
     "execution_count": 25,
     "metadata": {},
     "output_type": "execute_result"
    }
   ],
   "source": [
    "prob_spam_naive_bayes_string('lets meet at the hotel lobby at nine am tomorrow')"
   ]
  },
  {
   "cell_type": "code",
   "execution_count": 26,
   "metadata": {},
   "outputs": [
    {
     "name": "stdout",
     "output_type": "stream",
     "text": [
      "['hi', 'mom', 'make', 'easy', 'money']\n"
     ]
    },
    {
     "data": {
      "text/plain": [
       "0.08279582746750283"
      ]
     },
     "execution_count": 26,
     "metadata": {},
     "output_type": "execute_result"
    }
   ],
   "source": [
    "prob_spam_naive_bayes_string('hi mom make easy money')"
   ]
  },
  {
   "cell_type": "code",
   "execution_count": 27,
   "metadata": {},
   "outputs": [
    {
     "name": "stdout",
     "output_type": "stream",
     "text": [
      "['hi', 'mom']\n"
     ]
    },
    {
     "data": {
      "text/plain": [
       "0.03860711582134747"
      ]
     },
     "execution_count": 27,
     "metadata": {},
     "output_type": "execute_result"
    }
   ],
   "source": [
    "prob_spam_naive_bayes_string('hi mom')"
   ]
  },
  {
   "cell_type": "code",
   "execution_count": 28,
   "metadata": {},
   "outputs": [
    {
     "name": "stdout",
     "output_type": "stream",
     "text": [
      "['make', 'easy', 'money']\n"
     ]
    },
    {
     "data": {
      "text/plain": [
       "0.6921082499793675"
      ]
     },
     "execution_count": 28,
     "metadata": {},
     "output_type": "execute_result"
    }
   ],
   "source": [
    "prob_spam_naive_bayes_string('make easy money')"
   ]
  },
  {
   "cell_type": "code",
   "execution_count": 29,
   "metadata": {},
   "outputs": [
    {
     "name": "stdout",
     "output_type": "stream",
     "text": [
      "['subject']\n"
     ]
    },
    {
     "data": {
      "text/plain": [
       "0.06958657388456815"
      ]
     },
     "execution_count": 29,
     "metadata": {},
     "output_type": "execute_result"
    }
   ],
   "source": [
    "prob_spam_naive_bayes_string('subject')"
   ]
  },
  {
   "cell_type": "code",
   "execution_count": 30,
   "metadata": {},
   "outputs": [
    {
     "name": "stdout",
     "output_type": "stream",
     "text": [
      "['wadlidoo', 'hi', 'mom']\n"
     ]
    },
    {
     "data": {
      "text/plain": [
       "0.5"
      ]
     },
     "execution_count": 30,
     "metadata": {},
     "output_type": "execute_result"
    }
   ],
   "source": [
    "prob_spam_naive_bayes_string('wadlidoo hi mom')"
   ]
  },
  {
   "cell_type": "markdown",
   "metadata": {},
   "source": [
    "### 3. Training an actual model (for efficiency)\n",
    "\n",
    "Our plan is to write a dictionary, and in this dictionary record every word, and its pair of occurrences in spam and ham"
   ]
  },
  {
   "cell_type": "code",
   "execution_count": 31,
   "metadata": {},
   "outputs": [],
   "source": [
    "model = {}\n",
    "\n",
    "# Training process\n",
    "for email in emails:\n",
    "    for word in email['words']:\n",
    "        if word not in model:\n",
    "            model[word] = {'spam': 1, 'ham': 1}\n",
    "        if word in model:\n",
    "            if email['spam']:\n",
    "                model[word]['spam'] += 1\n",
    "            else:\n",
    "                model[word]['ham'] += 1"
   ]
  },
  {
   "cell_type": "code",
   "execution_count": 66,
   "metadata": {},
   "outputs": [
    {
     "data": {
      "text/plain": [
       "{'50088': {'ham': 2, 'spam': 1},\n",
       " '017201846': {'ham': 1, 'spam': 2},\n",
       " 'woods': {'ham': 4, 'spam': 2},\n",
       " 'spiders': {'ham': 1, 'spam': 3},\n",
       " 'hanging': {'ham': 9, 'spam': 2},\n",
       " 'woody': {'ham': 5, 'spam': 1},\n",
       " 'suzana': {'ham': 2, 'spam': 1},\n",
       " 'localized': {'ham': 2, 'spam': 29},\n",
       " '5988': {'ham': 2, 'spam': 1},\n",
       " '5989': {'ham': 6, 'spam': 1},\n",
       " 'hermans': {'ham': 2, 'spam': 1},\n",
       " '5982': {'ham': 2, 'spam': 1},\n",
       " '5984': {'ham': 4, 'spam': 1},\n",
       " 'gaa': {'ham': 2, 'spam': 1},\n",
       " 'hermann': {'ham': 3, 'spam': 1},\n",
       " 'kimmorrell': {'ham': 3, 'spam': 1},\n",
       " 'rawhide': {'ham': 1, 'spam': 2},\n",
       " 'taj': {'ham': 2, 'spam': 1},\n",
       " 'politician': {'ham': 1, 'spam': 2},\n",
       " 'bringing': {'ham': 40, 'spam': 9},\n",
       " 'liaisons': {'ham': 5, 'spam': 1},\n",
       " 'grueling': {'ham': 1, 'spam': 2},\n",
       " 'supportsenron': {'ham': 3, 'spam': 1},\n",
       " 'wednesday': {'ham': 336, 'spam': 7},\n",
       " 'cyberopps': {'ham': 1, 'spam': 2},\n",
       " 'rebuilding': {'ham': 2, 'spam': 1},\n",
       " '0052': {'ham': 1, 'spam': 2},\n",
       " 'fructiferous': {'ham': 1, 'spam': 2},\n",
       " '0057': {'ham': 4, 'spam': 1},\n",
       " 'signifiantly': {'ham': 2, 'spam': 1},\n",
       " '270': {'ham': 7, 'spam': 2},\n",
       " '271': {'ham': 2, 'spam': 1},\n",
       " 'nms': {'ham': 2, 'spam': 1},\n",
       " '273': {'ham': 4, 'spam': 1},\n",
       " '274': {'ham': 7, 'spam': 2},\n",
       " '275': {'ham': 4, 'spam': 3},\n",
       " 'gorman': {'ham': 2, 'spam': 2},\n",
       " '278': {'ham': 1, 'spam': 3},\n",
       " '279': {'ham': 1, 'spam': 9},\n",
       " 'kodak': {'ham': 2, 'spam': 1},\n",
       " 'inanimate': {'ham': 1, 'spam': 2},\n",
       " 'errors': {'ham': 15, 'spam': 22},\n",
       " 'tiered': {'ham': 3, 'spam': 1},\n",
       " 'harslet': {'ham': 1, 'spam': 2},\n",
       " 'gasdat': {'ham': 2, 'spam': 1},\n",
       " 'cooking': {'ham': 3, 'spam': 2},\n",
       " '78752': {'ham': 2, 'spam': 1},\n",
       " 'pawel': {'ham': 2, 'spam': 1},\n",
       " 'trainer': {'ham': 4, 'spam': 1},\n",
       " 'usenet': {'ham': 1, 'spam': 2},\n",
       " 'daiiy': {'ham': 1, 'spam': 12},\n",
       " 'designing': {'ham': 20, 'spam': 3},\n",
       " 'spreadapo': {'ham': 3, 'spam': 1},\n",
       " 'numeral': {'ham': 1, 'spam': 2},\n",
       " 'comcopyright': {'ham': 1, 'spam': 2},\n",
       " '78751': {'ham': 2, 'spam': 1},\n",
       " 'athas': {'ham': 2, 'spam': 1},\n",
       " 'neighbourship': {'ham': 1, 'spam': 2},\n",
       " 'rla': {'ham': 2, 'spam': 1},\n",
       " 'mailings': {'ham': 10, 'spam': 75},\n",
       " '10700': {'ham': 2, 'spam': 1},\n",
       " 'affiliates': {'ham': 6, 'spam': 17},\n",
       " 'siriam': {'ham': 3, 'spam': 1},\n",
       " 'ching': {'ham': 2, 'spam': 2},\n",
       " 'china': {'ham': 12, 'spam': 24},\n",
       " 'affiliated': {'ham': 3, 'spam': 15},\n",
       " 'linha': {'ham': 1, 'spam': 2},\n",
       " 'kids': {'ham': 4, 'spam': 8},\n",
       " 'uplifting': {'ham': 1, 'spam': 2},\n",
       " 'climbed': {'ham': 3, 'spam': 1},\n",
       " 'controversy': {'ham': 13, 'spam': 1},\n",
       " 'kidd': {'ham': 2, 'spam': 2},\n",
       " 'natures': {'ham': 1, 'spam': 3},\n",
       " 'golden': {'ham': 12, 'spam': 5},\n",
       " 'topography': {'ham': 1, 'spam': 2},\n",
       " 'projection': {'ham': 10, 'spam': 6},\n",
       " 'lengthen': {'ham': 1, 'spam': 2},\n",
       " 'przyjmujemy': {'ham': 2, 'spam': 1},\n",
       " 'battisti': {'ham': 2, 'spam': 1},\n",
       " 'stern': {'ham': 16, 'spam': 2},\n",
       " 'prodigy': {'ham': 2, 'spam': 1},\n",
       " 'virani': {'ham': 5, 'spam': 1},\n",
       " 'dna': {'ham': 1, 'spam': 3},\n",
       " 'discontinueing': {'ham': 3, 'spam': 1},\n",
       " 'catchy': {'ham': 1, 'spam': 25},\n",
       " 'insecurity': {'ham': 1, 'spam': 2},\n",
       " 'wecomed': {'ham': 1, 'spam': 2},\n",
       " 'dni': {'ham': 3, 'spam': 1},\n",
       " 'prospector': {'ham': 1, 'spam': 2},\n",
       " 'music': {'ham': 7, 'spam': 21},\n",
       " 'therefore': {'ham': 129, 'spam': 28},\n",
       " 'dns': {'ham': 2, 'spam': 4},\n",
       " 'est?o': {'ham': 1, 'spam': 2},\n",
       " 'sermons': {'ham': 2, 'spam': 1},\n",
       " 'godziny': {'ham': 2, 'spam': 1},\n",
       " 'benedikt': {'ham': 1, 'spam': 2},\n",
       " 'skewness': {'ham': 2, 'spam': 1},\n",
       " 'populations': {'ham': 1, 'spam': 3},\n",
       " 'hivol': {'ham': 2, 'spam': 1},\n",
       " 'filiform': {'ham': 1, 'spam': 2},\n",
       " 'yahoo': {'ham': 55, 'spam': 46},\n",
       " 'meteorologist': {'ham': 15, 'spam': 1},\n",
       " 'echelon': {'ham': 2, 'spam': 1},\n",
       " 'circumstances': {'ham': 16, 'spam': 4},\n",
       " 'resently': {'ham': 2, 'spam': 1},\n",
       " 'intake': {'ham': 2, 'spam': 3},\n",
       " 'locked': {'ham': 8, 'spam': 2},\n",
       " 'insuranceiq': {'ham': 1, 'spam': 12},\n",
       " 'europhysics': {'ham': 2, 'spam': 1},\n",
       " 'deputy': {'ham': 5, 'spam': 1},\n",
       " '1022002': {'ham': 1, 'spam': 2},\n",
       " 'wang': {'ham': 22, 'spam': 1},\n",
       " '7040115431': {'ham': 1, 'spam': 2},\n",
       " 'hyatt': {'ham': 32, 'spam': 1},\n",
       " 'szczegolnie': {'ham': 3, 'spam': 1},\n",
       " 'unjust': {'ham': 4, 'spam': 2},\n",
       " 'wann': {'ham': 2, 'spam': 1},\n",
       " 'want': {'ham': 522, 'spam': 252},\n",
       " 'pinto': {'ham': 11, 'spam': 1},\n",
       " 'absolute': {'ham': 5, 'spam': 13},\n",
       " 'vicens': {'ham': 3, 'spam': 1},\n",
       " 'vicent': {'ham': 2, 'spam': 1},\n",
       " 'beyer': {'ham': 4, 'spam': 1},\n",
       " 'travel': {'ham': 86, 'spam': 24},\n",
       " '20257': {'ham': 1, 'spam': 2},\n",
       " 'cutback': {'ham': 2, 'spam': 1},\n",
       " 'meclcher': {'ham': 2, 'spam': 1},\n",
       " 'playback': {'ham': 3, 'spam': 1},\n",
       " '1175': {'ham': 7, 'spam': 1},\n",
       " '1179': {'ham': 40, 'spam': 1},\n",
       " 'wrong': {'ham': 35, 'spam': 17},\n",
       " 'pjmcur': {'ham': 2, 'spam': 1},\n",
       " 'confidentiaiity': {'ham': 1, 'spam': 22},\n",
       " 'msmswo': {'ham': 5, 'spam': 1},\n",
       " 'carrozzo': {'ham': 2, 'spam': 1},\n",
       " 'menlo': {'ham': 3, 'spam': 1},\n",
       " 'elledge': {'ham': 2, 'spam': 1},\n",
       " 'nonsensical': {'ham': 1, 'spam': 2},\n",
       " 'welcomel': {'ham': 2, 'spam': 1},\n",
       " '623': {'ham': 2, 'spam': 2},\n",
       " '622': {'ham': 10, 'spam': 1},\n",
       " 'welcomed': {'ham': 4, 'spam': 1},\n",
       " 'concurrence': {'ham': 5, 'spam': 1},\n",
       " 'partnered': {'ham': 2, 'spam': 2},\n",
       " 'abbestellen': {'ham': 1, 'spam': 2},\n",
       " '620': {'ham': 3, 'spam': 1},\n",
       " '8545': {'ham': 2, 'spam': 1},\n",
       " '627': {'ham': 2, 'spam': 1},\n",
       " 'rewarded': {'ham': 1, 'spam': 2},\n",
       " 'dhl?thdhiosca': {'ham': 1, 'spam': 2},\n",
       " 'grzegorz': {'ham': 2, 'spam': 1},\n",
       " 'welcomes': {'ham': 1, 'spam': 2},\n",
       " 'fis': {'ham': 3, 'spam': 1},\n",
       " 'recepiton': {'ham': 1, 'spam': 2},\n",
       " 'fit': {'ham': 124, 'spam': 30},\n",
       " 'screaming': {'ham': 2, 'spam': 2},\n",
       " 'fix': {'ham': 19, 'spam': 4},\n",
       " 'dziekuje': {'ham': 7, 'spam': 1},\n",
       " 'fig': {'ham': 2, 'spam': 1},\n",
       " 'raevsky': {'ham': 2, 'spam': 1},\n",
       " '66503': {'ham': 2, 'spam': 1},\n",
       " 'wales': {'ham': 6, 'spam': 1},\n",
       " 'uoh': {'ham': 5, 'spam': 1},\n",
       " 'fin': {'ham': 16, 'spam': 1},\n",
       " '629': {'ham': 2, 'spam': 2},\n",
       " 'uom': {'ham': 1, 'spam': 2},\n",
       " 'shively': {'ham': 11, 'spam': 1},\n",
       " 'blades': {'ham': 2, 'spam': 1},\n",
       " '8339082': {'ham': 1, 'spam': 2},\n",
       " 'mieszanka': {'ham': 4, 'spam': 1},\n",
       " '000000000025307': {'ham': 2, 'spam': 1},\n",
       " 'btamail': {'ham': 1, 'spam': 10},\n",
       " 'recollections': {'ham': 2, 'spam': 1},\n",
       " 'effects': {'ham': 18, 'spam': 32},\n",
       " 'shadows': {'ham': 3, 'spam': 1},\n",
       " 'sixteen': {'ham': 2, 'spam': 3},\n",
       " 'disconnection': {'ham': 2, 'spam': 1},\n",
       " 'timeout': {'ham': 1, 'spam': 3},\n",
       " 'ingrid': {'ham': 2, 'spam': 1},\n",
       " 'emeeting': {'ham': 2, 'spam': 1},\n",
       " 'windmill': {'ham': 5, 'spam': 1},\n",
       " 'isye': {'ham': 25, 'spam': 1},\n",
       " 'telescope': {'ham': 1, 'spam': 2},\n",
       " 'zuid': {'ham': 1, 'spam': 2},\n",
       " 'allah': {'ham': 1, 'spam': 2},\n",
       " 'allan': {'ham': 15, 'spam': 1},\n",
       " '393': {'ham': 2, 'spam': 1},\n",
       " '392': {'ham': 1, 'spam': 2},\n",
       " '391': {'ham': 3, 'spam': 1},\n",
       " '390': {'ham': 3, 'spam': 4},\n",
       " '397': {'ham': 1, 'spam': 2},\n",
       " '396': {'ham': 1, 'spam': 2},\n",
       " '395': {'ham': 1, 'spam': 2},\n",
       " 'allay': {'ham': 1, 'spam': 2},\n",
       " '398': {'ham': 5, 'spam': 2},\n",
       " 'touts': {'ham': 2, 'spam': 1},\n",
       " 'oprah': {'ham': 1, 'spam': 6},\n",
       " 'mason': {'ham': 10, 'spam': 2},\n",
       " 'toute': {'ham': 7, 'spam': 1},\n",
       " 'combinatorial': {'ham': 6, 'spam': 1},\n",
       " 'encourage': {'ham': 50, 'spam': 8},\n",
       " 'adapt': {'ham': 4, 'spam': 3},\n",
       " 'wctopics': {'ham': 2, 'spam': 1},\n",
       " 'size': {'ham': 60, 'spam': 37},\n",
       " 'ameren': {'ham': 3, 'spam': 1},\n",
       " 'abbott': {'ham': 3, 'spam': 1},\n",
       " 'underfoot': {'ham': 1, 'spam': 2},\n",
       " 'strata': {'ham': 2, 'spam': 1},\n",
       " 'platnosci': {'ham': 2, 'spam': 1},\n",
       " 'jobops': {'ham': 1, 'spam': 2},\n",
       " 'estimate': {'ham': 42, 'spam': 14},\n",
       " 'universally': {'ham': 2, 'spam': 2},\n",
       " 'husbands': {'ham': 1, 'spam': 2},\n",
       " 'nastepujacy': {'ham': 2, 'spam': 1},\n",
       " 'ailures': {'ham': 2, 'spam': 1},\n",
       " '431620': {'ham': 2, 'spam': 1},\n",
       " 'categorical': {'ham': 4, 'spam': 1},\n",
       " 'uhmain': {'ham': 5, 'spam': 1},\n",
       " 'ministries': {'ham': 4, 'spam': 3},\n",
       " 'disturbed': {'ham': 2, 'spam': 2},\n",
       " 'doshier': {'ham': 2, 'spam': 1},\n",
       " 'hollweck': {'ham': 4, 'spam': 1},\n",
       " 'wheel': {'ham': 2, 'spam': 1},\n",
       " 'weekdays': {'ham': 2, 'spam': 2},\n",
       " 'chevron': {'ham': 1, 'spam': 5},\n",
       " 'blodget': {'ham': 2, 'spam': 1},\n",
       " 'households': {'ham': 7, 'spam': 1},\n",
       " 'service': {'ham': 170, 'spam': 109},\n",
       " 'forrester': {'ham': 1, 'spam': 9},\n",
       " 'reuben': {'ham': 1, 'spam': 2},\n",
       " 'needed': {'ham': 133, 'spam': 38},\n",
       " 'master': {'ham': 20, 'spam': 12},\n",
       " 'hiya': {'ham': 1, 'spam': 2},\n",
       " 'berlioz': {'ham': 1, 'spam': 2},\n",
       " 'rewards': {'ham': 4, 'spam': 3},\n",
       " 'popkin': {'ham': 7, 'spam': 1},\n",
       " 'doreen': {'ham': 2, 'spam': 1},\n",
       " 'sspltm': {'ham': 1, 'spam': 3},\n",
       " '0054': {'ham': 2, 'spam': 1},\n",
       " 'horrible': {'ham': 4, 'spam': 3},\n",
       " 'positively': {'ham': 7, 'spam': 3},\n",
       " 'feasibility': {'ham': 5, 'spam': 3},\n",
       " 'anniversaries': {'ham': 2, 'spam': 1},\n",
       " 'kaveljyowkto': {'ham': 1, 'spam': 2},\n",
       " 'idle': {'ham': 4, 'spam': 1},\n",
       " 'feeling': {'ham': 16, 'spam': 12},\n",
       " 'longz': {'ham': 1, 'spam': 5},\n",
       " 'anguel': {'ham': 4, 'spam': 1},\n",
       " '276': {'ham': 2, 'spam': 1},\n",
       " 'longs': {'ham': 3, 'spam': 1},\n",
       " 'reurn': {'ham': 2, 'spam': 1},\n",
       " 'spectrum': {'ham': 9, 'spam': 3},\n",
       " 'koures': {'ham': 6, 'spam': 1},\n",
       " 'increment': {'ham': 7, 'spam': 1},\n",
       " 'pr?venir': {'ham': 1, 'spam': 2},\n",
       " 'g?nderebilirsiniz': {'ham': 1, 'spam': 2},\n",
       " 'krakoski': {'ham': 2, 'spam': 1},\n",
       " 'discretionaryaccrual': {'ham': 2, 'spam': 1},\n",
       " 'dozen': {'ham': 6, 'spam': 2},\n",
       " 'affairs': {'ham': 46, 'spam': 6},\n",
       " 'sitio': {'ham': 1, 'spam': 2},\n",
       " 'bigaaron': {'ham': 1, 'spam': 2},\n",
       " 'beltway': {'ham': 3, 'spam': 1},\n",
       " 'vga': {'ham': 1, 'spam': 2},\n",
       " 'receber': {'ham': 1, 'spam': 3},\n",
       " 'affaire': {'ham': 1, 'spam': 2},\n",
       " 'gdcts': {'ham': 1, 'spam': 2},\n",
       " 'shipments': {'ham': 3, 'spam': 3},\n",
       " 'committing': {'ham': 4, 'spam': 1},\n",
       " 'metrick': {'ham': 2, 'spam': 1},\n",
       " 'limitless': {'ham': 1, 'spam': 2},\n",
       " 'diminishing': {'ham': 2, 'spam': 1},\n",
       " 'metrics': {'ham': 10, 'spam': 1},\n",
       " 'simplify': {'ham': 4, 'spam': 3},\n",
       " 'mouth': {'ham': 4, 'spam': 8},\n",
       " 'sandblind': {'ham': 1, 'spam': 2},\n",
       " '33756': {'ham': 1, 'spam': 2},\n",
       " 'bradford': {'ham': 45, 'spam': 2},\n",
       " 'singer': {'ham': 5, 'spam': 1},\n",
       " 'gammar': {'ham': 2, 'spam': 1},\n",
       " 'maja': {'ham': 2, 'spam': 1},\n",
       " 'nettle': {'ham': 1, 'spam': 2},\n",
       " '38191017': {'ham': 1, 'spam': 2},\n",
       " 'tech': {'ham': 33, 'spam': 10},\n",
       " 'homophone': {'ham': 1, 'spam': 2},\n",
       " 'scream': {'ham': 2, 'spam': 2},\n",
       " 'saying': {'ham': 26, 'spam': 14},\n",
       " 'teresa': {'ham': 18, 'spam': 2},\n",
       " 'ulcer': {'ham': 1, 'spam': 2},\n",
       " 'zmail': {'ham': 1, 'spam': 2},\n",
       " 'cheaply': {'ham': 2, 'spam': 2},\n",
       " 'hypercube': {'ham': 2, 'spam': 1},\n",
       " 'eliminated': {'ham': 5, 'spam': 6},\n",
       " 'orleans': {'ham': 8, 'spam': 1},\n",
       " 'prosilbym': {'ham': 2, 'spam': 1},\n",
       " 'rico': {'ham': 5, 'spam': 3},\n",
       " 'bliss': {'ham': 1, 'spam': 2},\n",
       " 'rick': {'ham': 98, 'spam': 2},\n",
       " 'rich': {'ham': 12, 'spam': 32},\n",
       " 'grypa': {'ham': 2, 'spam': 1},\n",
       " 'rice': {'ham': 197, 'spam': 2},\n",
       " 'rica': {'ham': 2, 'spam': 1},\n",
       " 'plate': {'ham': 5, 'spam': 2},\n",
       " 'plata': {'ham': 2, 'spam': 1},\n",
       " 'firenze': {'ham': 1, 'spam': 2},\n",
       " 'platt': {'ham': 4, 'spam': 1},\n",
       " '720662': {'ham': 1, 'spam': 2},\n",
       " 'altogether': {'ham': 3, 'spam': 2},\n",
       " 'rugged': {'ham': 1, 'spam': 2},\n",
       " 'jaguar': {'ham': 1, 'spam': 2},\n",
       " 'lerea': {'ham': 4, 'spam': 1},\n",
       " 'nicely': {'ham': 10, 'spam': 1},\n",
       " '4249859609': {'ham': 1, 'spam': 2},\n",
       " 'patch': {'ham': 2, 'spam': 10},\n",
       " 'merrell': {'ham': 2, 'spam': 1},\n",
       " '4746683': {'ham': 2, 'spam': 1},\n",
       " 'compensatedeight': {'ham': 1, 'spam': 2},\n",
       " 'others?ffff': {'ham': 1, 'spam': 2},\n",
       " 'etin': {'ham': 1, 'spam': 2},\n",
       " 'zaplanowana': {'ham': 2, 'spam': 1},\n",
       " 'clarified': {'ham': 7, 'spam': 1},\n",
       " 'sensitivity': {'ham': 18, 'spam': 4},\n",
       " '7568': {'ham': 2, 'spam': 1},\n",
       " 'pinos': {'ham': 1, 'spam': 2},\n",
       " 'kto': {'ham': 2, 'spam': 1},\n",
       " 'zaplanowany': {'ham': 2, 'spam': 1},\n",
       " 'clarifies': {'ham': 4, 'spam': 1},\n",
       " '87905': {'ham': 1, 'spam': 3},\n",
       " 'volat': {'ham': 2, 'spam': 1},\n",
       " 'lots': {'ham': 21, 'spam': 10},\n",
       " 'irr': {'ham': 2, 'spam': 1},\n",
       " 'irs': {'ham': 1, 'spam': 3},\n",
       " 'lotu': {'ham': 2, 'spam': 1},\n",
       " 'lott': {'ham': 2, 'spam': 1},\n",
       " 'loth': {'ham': 1, 'spam': 2},\n",
       " 'irm': {'ham': 4, 'spam': 5},\n",
       " 'zlotys': {'ham': 2, 'spam': 1},\n",
       " 'ira': {'ham': 3, 'spam': 3},\n",
       " 'adnan': {'ham': 5, 'spam': 1},\n",
       " 'offertory': {'ham': 1, 'spam': 2},\n",
       " 'europie': {'ham': 3, 'spam': 1},\n",
       " 'lincoin': {'ham': 1, 'spam': 2},\n",
       " 'letting': {'ham': 21, 'spam': 1},\n",
       " 'natura': {'ham': 1, 'spam': 6},\n",
       " 'extend': {'ham': 49, 'spam': 5},\n",
       " 'nature': {'ham': 39, 'spam': 14},\n",
       " 'extent': {'ham': 49, 'spam': 3},\n",
       " 'gwyn': {'ham': 33, 'spam': 1},\n",
       " 'deveiopment': {'ham': 1, 'spam': 3},\n",
       " '6778': {'ham': 2, 'spam': 1},\n",
       " 'himalayas': {'ham': 1, 'spam': 2},\n",
       " 'heating': {'ham': 8, 'spam': 3},\n",
       " '6773': {'ham': 3, 'spam': 1},\n",
       " 'welche': {'ham': 4, 'spam': 1},\n",
       " 'resending': {'ham': 13, 'spam': 1},\n",
       " 'melinda': {'ham': 28, 'spam': 1},\n",
       " 'southeastern': {'ham': 2, 'spam': 1},\n",
       " 'eradicate': {'ham': 2, 'spam': 1},\n",
       " 'goebel': {'ham': 4, 'spam': 1},\n",
       " 'rooks': {'ham': 1, 'spam': 2},\n",
       " 'knossos': {'ham': 2, 'spam': 1},\n",
       " 'brindle': {'ham': 2, 'spam': 1},\n",
       " 'humming': {'ham': 2, 'spam': 2},\n",
       " 'organisational': {'ham': 5, 'spam': 1},\n",
       " 'fra': {'ham': 3, 'spam': 1},\n",
       " 'ciails': {'ham': 1, 'spam': 6},\n",
       " 'fre': {'ham': 1, 'spam': 5},\n",
       " '60439': {'ham': 2, 'spam': 1},\n",
       " 'union': {'ham': 14, 'spam': 8},\n",
       " 'fri': {'ham': 60, 'spam': 2},\n",
       " 'remained': {'ham': 9, 'spam': 4},\n",
       " 'microcap': {'ham': 1, 'spam': 2},\n",
       " '.': {'ham': 4323, 'spam': 1337},\n",
       " 'bothers': {'ham': 7, 'spam': 1},\n",
       " '870879228701464': {'ham': 1, 'spam': 2},\n",
       " 'much': {'ham': 548, 'spam': 118},\n",
       " 'progenitor': {'ham': 1, 'spam': 2},\n",
       " 'unstick': {'ham': 1, 'spam': 2},\n",
       " 'deliberately': {'ham': 6, 'spam': 3},\n",
       " 'mothball': {'ham': 2, 'spam': 1},\n",
       " 'spis': {'ham': 2, 'spam': 1},\n",
       " 'retrospect': {'ham': 4, 'spam': 1},\n",
       " 'hepa': {'ham': 1, 'spam': 2},\n",
       " 'dave': {'ham': 76, 'spam': 5},\n",
       " 'aglife': {'ham': 2, 'spam': 1},\n",
       " 'invalidated': {'ham': 2, 'spam': 1},\n",
       " 'doubts': {'ham': 6, 'spam': 2},\n",
       " 'spin': {'ham': 5, 'spam': 3},\n",
       " 'participatory': {'ham': 3, 'spam': 2},\n",
       " 'confiance': {'ham': 1, 'spam': 2},\n",
       " 'contingencies': {'ham': 5, 'spam': 1},\n",
       " 'professionally': {'ham': 2, 'spam': 9},\n",
       " 'employ': {'ham': 3, 'spam': 3},\n",
       " 'musicihouse': {'ham': 1, 'spam': 2},\n",
       " 'omnichoice': {'ham': 2, 'spam': 1},\n",
       " 'elaborate': {'ham': 4, 'spam': 2},\n",
       " 'prnewswire': {'ham': 2, 'spam': 8},\n",
       " 'parekh': {'ham': 4, 'spam': 1},\n",
       " 'expat': {'ham': 3, 'spam': 1},\n",
       " 'squawk': {'ham': 1, 'spam': 2},\n",
       " 'conditioned': {'ham': 7, 'spam': 2},\n",
       " 'eighteen': {'ham': 1, 'spam': 2},\n",
       " 'conditioner': {'ham': 3, 'spam': 1},\n",
       " '5056': {'ham': 1, 'spam': 2},\n",
       " '5052': {'ham': 2, 'spam': 1},\n",
       " 'hone': {'ham': 4, 'spam': 2},\n",
       " 'hong': {'ham': 9, 'spam': 9},\n",
       " 'alimentation': {'ham': 1, 'spam': 2},\n",
       " 'salesl': {'ham': 1, 'spam': 2},\n",
       " 'split': {'ham': 29, 'spam': 7},\n",
       " 'principals': {'ham': 7, 'spam': 1},\n",
       " 'mindspring': {'ham': 4, 'spam': 1},\n",
       " 'outstripped': {'ham': 3, 'spam': 1},\n",
       " 'boiled': {'ham': 2, 'spam': 1},\n",
       " 'effortlessly': {'ham': 1, 'spam': 2},\n",
       " 'inadvertently': {'ham': 3, 'spam': 2},\n",
       " 'qualifications': {'ham': 25, 'spam': 1},\n",
       " 'workforce': {'ham': 3, 'spam': 2},\n",
       " 'refin': {'ham': 1, 'spam': 3},\n",
       " 'merldll': {'ham': 1, 'spam': 2},\n",
       " 'refid': {'ham': 1, 'spam': 2},\n",
       " 'noblewoman': {'ham': 1, 'spam': 2},\n",
       " 'jargonize': {'ham': 1, 'spam': 2},\n",
       " 'mentors': {'ham': 4, 'spam': 2},\n",
       " 'academic': {'ham': 86, 'spam': 7},\n",
       " 'academia': {'ham': 7, 'spam': 2},\n",
       " 'melodick': {'ham': 2, 'spam': 1},\n",
       " 'nomore': {'ham': 1, 'spam': 2},\n",
       " '4438': {'ham': 2, 'spam': 1},\n",
       " 'corporate': {'ham': 193, 'spam': 49},\n",
       " 'plaque': {'ham': 1, 'spam': 2},\n",
       " 'bellow': {'ham': 1, 'spam': 2},\n",
       " 'appropriately': {'ham': 5, 'spam': 2},\n",
       " '09075930': {'ham': 2, 'spam': 1},\n",
       " 'monika': {'ham': 2, 'spam': 1},\n",
       " 'additionaliy': {'ham': 1, 'spam': 2},\n",
       " 'tiscali': {'ham': 1, 'spam': 2},\n",
       " 'hai': {'ham': 2, 'spam': 1},\n",
       " 'hal': {'ham': 5, 'spam': 2},\n",
       " 'ham': {'ham': 2, 'spam': 3},\n",
       " 'duffer': {'ham': 1, 'spam': 2},\n",
       " 'hao': {'ham': 4, 'spam': 1},\n",
       " 'haa': {'ham': 2, 'spam': 1},\n",
       " 'had': {'ham': 558, 'spam': 72},\n",
       " 'hae': {'ham': 2, 'spam': 1},\n",
       " 'fortran': {'ham': 6, 'spam': 1},\n",
       " 'mcnamara': {'ham': 2, 'spam': 1},\n",
       " 'beloved': {'ham': 3, 'spam': 1},\n",
       " 'previousiy': {'ham': 1, 'spam': 4},\n",
       " 'har': {'ham': 3, 'spam': 1},\n",
       " 'has': {'ham': 1168, 'spam': 264},\n",
       " 'hat': {'ham': 5, 'spam': 1},\n",
       " 'hav': {'ham': 1, 'spam': 5},\n",
       " 'pathstar': {'ham': 7, 'spam': 1},\n",
       " 'municipal': {'ham': 8, 'spam': 3},\n",
       " 'osman': {'ham': 55, 'spam': 1},\n",
       " 'survival': {'ham': 6, 'spam': 5},\n",
       " 'indicative': {'ham': 8, 'spam': 11},\n",
       " 'thibaut': {'ham': 3, 'spam': 1},\n",
       " 'overholt': {'ham': 2, 'spam': 1},\n",
       " 'shadow': {'ham': 2, 'spam': 3},\n",
       " 'ibuyitpayables': {'ham': 2, 'spam': 1},\n",
       " 'riskiness': {'ham': 2, 'spam': 1},\n",
       " 'forpc': {'ham': 2, 'spam': 1},\n",
       " 'bambos': {'ham': 42, 'spam': 1},\n",
       " 'gadd': {'ham': 14, 'spam': 1},\n",
       " 'alice': {'ham': 6, 'spam': 1},\n",
       " 'baskets': {'ham': 13, 'spam': 1},\n",
       " 'businessweek': {'ham': 1, 'spam': 3},\n",
       " 'ardith': {'ham': 1, 'spam': 2},\n",
       " 'gads': {'ham': 3, 'spam': 1},\n",
       " '8035': {'ham': 2, 'spam': 1},\n",
       " 'attorney': {'ham': 12, 'spam': 16},\n",
       " 'assocated': {'ham': 2, 'spam': 1},\n",
       " 'unpretensive': {'ham': 3, 'spam': 1},\n",
       " 'crowd': {'ham': 8, 'spam': 2},\n",
       " 'czech': {'ham': 3, 'spam': 1},\n",
       " 'crown': {'ham': 6, 'spam': 1},\n",
       " 'begin': {'ham': 147, 'spam': 17},\n",
       " 'captive': {'ham': 3, 'spam': 2},\n",
       " 'emphases': {'ham': 1, 'spam': 2},\n",
       " 'bottom': {'ham': 43, 'spam': 22},\n",
       " 'res': {'ham': 12, 'spam': 1},\n",
       " 'treadmill': {'ham': 1, 'spam': 2},\n",
       " 'ecopetrol': {'ham': 2, 'spam': 1},\n",
       " 'effdate': {'ham': 2, 'spam': 1},\n",
       " 'binder': {'ham': 7, 'spam': 2},\n",
       " 'bses': {'ham': 2, 'spam': 1},\n",
       " 'visitng': {'ham': 1, 'spam': 2},\n",
       " 'acoh': {'ham': 1, 'spam': 2},\n",
       " 'aboard': {'ham': 5, 'spam': 1},\n",
       " 'dnb': {'ham': 2, 'spam': 1},\n",
       " 'collett': {'ham': 2, 'spam': 1},\n",
       " 'stoked': {'ham': 3, 'spam': 1},\n",
       " 'dgriffin': {'ham': 2, 'spam': 1},\n",
       " 'adel': {'ham': 1, 'spam': 2},\n",
       " 'aden': {'ham': 1, 'spam': 2},\n",
       " 'mbd': {'ham': 3, 'spam': 1},\n",
       " 'maxwell': {'ham': 5, 'spam': 1},\n",
       " 'marshall': {'ham': 30, 'spam': 1},\n",
       " 'eeshelp': {'ham': 2, 'spam': 1},\n",
       " 'nongovernmental': {'ham': 2, 'spam': 1},\n",
       " 'mba': {'ham': 118, 'spam': 5},\n",
       " 'administer': {'ham': 4, 'spam': 1},\n",
       " 'beings': {'ham': 1, 'spam': 2},\n",
       " 'shoots': {'ham': 1, 'spam': 2},\n",
       " 'sidebars': {'ham': 2, 'spam': 1},\n",
       " 'mbs': {'ham': 3, 'spam': 2},\n",
       " 'internetpharmacy': {'ham': 1, 'spam': 2},\n",
       " 'suffice': {'ham': 5, 'spam': 2},\n",
       " '5869': {'ham': 3, 'spam': 1},\n",
       " 'greatness': {'ham': 1, 'spam': 3},\n",
       " 'registeouse': {'ham': 1, 'spam': 2},\n",
       " '16008': {'ham': 1, 'spam': 2},\n",
       " 'pilllevitra': {'ham': 1, 'spam': 2},\n",
       " '5863': {'ham': 1, 'spam': 2},\n",
       " 'tamu': {'ham': 2, 'spam': 1},\n",
       " 'colloton': {'ham': 2, 'spam': 1},\n",
       " 'dowser': {'ham': 1, 'spam': 2},\n",
       " 'abacha': {'ham': 1, 'spam': 3},\n",
       " 'verde': {'ham': 9, 'spam': 1},\n",
       " 'inabilty': {'ham': 3, 'spam': 1},\n",
       " 'safeguard': {'ham': 2, 'spam': 2},\n",
       " 'congratulations': {'ham': 64, 'spam': 20},\n",
       " 'baza': {'ham': 2, 'spam': 1},\n",
       " 'barefi': {'ham': 1, 'spam': 2},\n",
       " 'bieinawski': {'ham': 2, 'spam': 1},\n",
       " 'complications': {'ham': 5, 'spam': 3},\n",
       " 'duet': {'ham': 3, 'spam': 1},\n",
       " 'siurek': {'ham': 8, 'spam': 1},\n",
       " 'dues': {'ham': 11, 'spam': 1},\n",
       " 'tassigny': {'ham': 2, 'spam': 1},\n",
       " 'passenger': {'ham': 3, 'spam': 1},\n",
       " 'discountenance': {'ham': 1, 'spam': 2},\n",
       " 'disgrace': {'ham': 1, 'spam': 2},\n",
       " '64000': {'ham': 1, 'spam': 2},\n",
       " 'minal': {'ham': 3, 'spam': 1},\n",
       " 'minas': {'ham': 2, 'spam': 1},\n",
       " 'decapitation': {'ham': 1, 'spam': 2},\n",
       " 'tollefsen': {'ham': 2, 'spam': 1},\n",
       " 'hydrogen': {'ham': 1, 'spam': 4},\n",
       " 'hydrargyrum': {'ham': 1, 'spam': 2},\n",
       " 'eventual': {'ham': 7, 'spam': 2},\n",
       " '0000107043': {'ham': 3, 'spam': 1},\n",
       " 'obaj': {'ham': 3, 'spam': 1},\n",
       " 'brelsford': {'ham': 2, 'spam': 1},\n",
       " 'pasadena': {'ham': 1, 'spam': 2},\n",
       " 'role': {'ham': 169, 'spam': 5},\n",
       " 'dhamhsa': {'ham': 1, 'spam': 2},\n",
       " 'crowne': {'ham': 2, 'spam': 1},\n",
       " 'roll': {'ham': 9, 'spam': 8},\n",
       " 'intend': {'ham': 29, 'spam': 31},\n",
       " 'palms': {'ham': 1, 'spam': 2},\n",
       " 'outage': {'ham': 14, 'spam': 1},\n",
       " 'transported': {'ham': 1, 'spam': 2},\n",
       " 'intent': {'ham': 16, 'spam': 16},\n",
       " 'vhck': {'ham': 1, 'spam': 2},\n",
       " 'loren': {'ham': 4, 'spam': 1},\n",
       " 'oficjalnym': {'ham': 3, 'spam': 1},\n",
       " 'abraham': {'ham': 4, 'spam': 1},\n",
       " 'aomori': {'ham': 2, 'spam': 1},\n",
       " 'erred': {'ham': 2, 'spam': 1},\n",
       " 'childs': {'ham': 3, 'spam': 1},\n",
       " 'cincinnati': {'ham': 2, 'spam': 2},\n",
       " 'chaim': {'ham': 3, 'spam': 1},\n",
       " 'chain': {'ham': 11, 'spam': 12},\n",
       " 'whoever': {'ham': 15, 'spam': 2},\n",
       " 'aptw': {'ham': 1, 'spam': 2},\n",
       " 'osl': {'ham': 4, 'spam': 1},\n",
       " 'corpc': {'ham': 2, 'spam': 1},\n",
       " 'chair': {'ham': 128, 'spam': 2},\n",
       " 'dniach': {'ham': 2, 'spam': 1},\n",
       " 'ose': {'ham': 1, 'spam': 3},\n",
       " 'wczesnie': {'ham': 2, 'spam': 1},\n",
       " 'currentsupport': {'ham': 1, 'spam': 3},\n",
       " '8861': {'ham': 5, 'spam': 1},\n",
       " 'freelance': {'ham': 3, 'spam': 1},\n",
       " 'megawatts': {'ham': 11, 'spam': 1},\n",
       " '8869': {'ham': 2, 'spam': 1},\n",
       " 'przenioslem': {'ham': 4, 'spam': 1},\n",
       " 'macho': {'ham': 2, 'spam': 1},\n",
       " 'oversight': {'ham': 16, 'spam': 1},\n",
       " '691': {'ham': 5, 'spam': 1},\n",
       " 'downloading': {'ham': 5, 'spam': 2},\n",
       " 'jerk': {'ham': 2, 'spam': 1},\n",
       " 'jere': {'ham': 19, 'spam': 1},\n",
       " 'saldana': {'ham': 2, 'spam': 1},\n",
       " 'choice': {'ham': 60, 'spam': 35},\n",
       " 'embark': {'ham': 3, 'spam': 2},\n",
       " 'gloomy': {'ham': 1, 'spam': 2},\n",
       " 'rationality': {'ham': 2, 'spam': 1},\n",
       " 'stays': {'ham': 5, 'spam': 4},\n",
       " 'exact': {'ham': 29, 'spam': 9},\n",
       " 'minute': {'ham': 40, 'spam': 21},\n",
       " 'pancharatnam': {'ham': 2, 'spam': 1},\n",
       " 'thhe': {'ham': 1, 'spam': 2},\n",
       " 'temat': {'ham': 5, 'spam': 1},\n",
       " '4573': {'ham': 3, 'spam': 1},\n",
       " 'defaults': {'ham': 12, 'spam': 1},\n",
       " 'multiprocessing': {'ham': 1, 'spam': 2},\n",
       " 'nextfew': {'ham': 1, 'spam': 2},\n",
       " 'comvisit': {'ham': 1, 'spam': 2},\n",
       " 'scem': {'ham': 4, 'spam': 1},\n",
       " 'trails': {'ham': 2, 'spam': 1},\n",
       " 'heavyweight': {'ham': 4, 'spam': 1},\n",
       " 'chopping': {'ham': 2, 'spam': 1},\n",
       " 'trisha': {'ham': 10, 'spam': 1},\n",
       " 'incrementally': {'ham': 2, 'spam': 1},\n",
       " 'ufl': {'ham': 2, 'spam': 1},\n",
       " '28403': {'ham': 2, 'spam': 1},\n",
       " 'abdullah': {'ham': 5, 'spam': 1},\n",
       " '34327': {'ham': 6, 'spam': 1},\n",
       " 'geography': {'ham': 1, 'spam': 2},\n",
       " 'boost': {'ham': 6, 'spam': 68},\n",
       " 'azusa': {'ham': 1, 'spam': 2},\n",
       " 'drafted': {'ham': 5, 'spam': 1},\n",
       " 'paribas': {'ham': 11, 'spam': 1},\n",
       " 'possiblility': {'ham': 2, 'spam': 1},\n",
       " 'honour': {'ham': 5, 'spam': 2},\n",
       " 'pedagogic': {'ham': 3, 'spam': 1},\n",
       " 'vanderbilt': {'ham': 14, 'spam': 1},\n",
       " 'yumhjn': {'ham': 1, 'spam': 2},\n",
       " 'address': {'ham': 370, 'spam': 183},\n",
       " 'mxarray': {'ham': 1, 'spam': 3},\n",
       " 'gazogene': {'ham': 1, 'spam': 2},\n",
       " 'benson': {'ham': 2, 'spam': 1},\n",
       " 'chillers': {'ham': 2, 'spam': 1},\n",
       " 'patiena': {'ham': 2, 'spam': 1},\n",
       " 'dusty': {'ham': 3, 'spam': 1},\n",
       " 'impacted': {'ham': 4, 'spam': 1},\n",
       " 'queue': {'ham': 4, 'spam': 4},\n",
       " 'accomplished': {'ham': 15, 'spam': 3},\n",
       " 'sprouted': {'ham': 1, 'spam': 2},\n",
       " 'stencil': {'ham': 1, 'spam': 2},\n",
       " 'olabilir': {'ham': 1, 'spam': 2},\n",
       " 'durbin': {'ham': 2, 'spam': 1},\n",
       " 'giddap': {'ham': 1, 'spam': 2},\n",
       " 'inexpressive': {'ham': 1, 'spam': 2},\n",
       " 'narottam': {'ham': 2, 'spam': 1},\n",
       " 'lewthwaite': {'ham': 5, 'spam': 1},\n",
       " 'texture': {'ham': 2, 'spam': 1},\n",
       " '340': {'ham': 5, 'spam': 9},\n",
       " 'neology': {'ham': 1, 'spam': 2},\n",
       " 'working': {'ham': 561, 'spam': 67},\n",
       " 'perished': {'ham': 1, 'spam': 2},\n",
       " 'antivirus?ffff': {'ham': 1, 'spam': 2},\n",
       " '27000': {'ham': 1, 'spam': 3},\n",
       " 'opposed': {'ham': 37, 'spam': 6},\n",
       " 'familar': {'ham': 2, 'spam': 1},\n",
       " 'metgas': {'ham': 3, 'spam': 1},\n",
       " 'ittie': {'ham': 1, 'spam': 3},\n",
       " 'chello': {'ham': 1, 'spam': 2},\n",
       " 'approving': {'ham': 13, 'spam': 1},\n",
       " 'sierra': {'ham': 7, 'spam': 8},\n",
       " 'tinet': {'ham': 1, 'spam': 2},\n",
       " 'tiner': {'ham': 2, 'spam': 1},\n",
       " 'lmps': {'ham': 2, 'spam': 1},\n",
       " 'bharati': {'ham': 22, 'spam': 1},\n",
       " 'riders': {'ham': 2, 'spam': 1},\n",
       " 'speedandlow': {'ham': 1, 'spam': 2},\n",
       " 'lowercase': {'ham': 5, 'spam': 1},\n",
       " 'originally': {'ham': 36, 'spam': 4},\n",
       " 'valorem': {'ham': 2, 'spam': 1},\n",
       " '222790264808428': {'ham': 1, 'spam': 2},\n",
       " 'following': {'ham': 666, 'spam': 130},\n",
       " 'lowprices': {'ham': 1, 'spam': 2},\n",
       " '9948': {'ham': 3, 'spam': 1},\n",
       " '56470': {'ham': 2, 'spam': 1},\n",
       " 'lessard': {'ham': 2, 'spam': 1},\n",
       " 'admired': {'ham': 4, 'spam': 1},\n",
       " '32053': {'ham': 1, 'spam': 2},\n",
       " 'locke': {'ham': 2, 'spam': 1},\n",
       " 'kamienie': {'ham': 2, 'spam': 1},\n",
       " 'iorefi': {'ham': 1, 'spam': 3},\n",
       " 'locks': {'ham': 1, 'spam': 2},\n",
       " 'disneau': {'ham': 2, 'spam': 1},\n",
       " 'incremental': {'ham': 20, 'spam': 1},\n",
       " 'bastante': {'ham': 1, 'spam': 2},\n",
       " 'chlorous': {'ham': 1, 'spam': 2},\n",
       " 'bibliographical': {'ham': 1, 'spam': 2},\n",
       " 'cribriform': {'ham': 1, 'spam': 2},\n",
       " 'septic': {'ham': 1, 'spam': 2},\n",
       " 'gebruik': {'ham': 1, 'spam': 2},\n",
       " 'thanking': {'ham': 6, 'spam': 4},\n",
       " 'subroutines': {'ham': 2, 'spam': 1},\n",
       " 'conedsolutions': {'ham': 2, 'spam': 1},\n",
       " '25711': {'ham': 1, 'spam': 2},\n",
       " 'extensions': {'ham': 17, 'spam': 7},\n",
       " 'skellett': {'ham': 2, 'spam': 1},\n",
       " 'erring': {'ham': 2, 'spam': 1},\n",
       " 'samuel': {'ham': 5, 'spam': 1},\n",
       " 'pluviometer': {'ham': 1, 'spam': 2},\n",
       " 'petrochem': {'ham': 7, 'spam': 1},\n",
       " 'fueled': {'ham': 2, 'spam': 1},\n",
       " 'rgob': {'ham': 2, 'spam': 1},\n",
       " '37632': {'ham': 4, 'spam': 1},\n",
       " 'macminnr': {'ham': 3, 'spam': 1},\n",
       " 'surfing': {'ham': 2, 'spam': 2},\n",
       " 'interestedin': {'ham': 1, 'spam': 2},\n",
       " 'finanicial': {'ham': 2, 'spam': 1},\n",
       " 'kodachrome': {'ham': 1, 'spam': 2},\n",
       " 'clck': {'ham': 1, 'spam': 3},\n",
       " 'clcl': {'ham': 2, 'spam': 1},\n",
       " 'samuva': {'ham': 2, 'spam': 1},\n",
       " 'regressive': {'ham': 6, 'spam': 1},\n",
       " 'sandbox': {'ham': 2, 'spam': 1},\n",
       " 'szczeg': {'ham': 2, 'spam': 1},\n",
       " 'ocassionally': {'ham': 2, 'spam': 1},\n",
       " 'pulled': {'ham': 12, 'spam': 2},\n",
       " 'tilney': {'ham': 3, 'spam': 1},\n",
       " 'webpage': {'ham': 2, 'spam': 2},\n",
       " 'years': {'ham': 317, 'spam': 108},\n",
       " 'professors': {'ham': 20, 'spam': 2},\n",
       " 'structuring': {'ham': 58, 'spam': 2},\n",
       " 'episodes': {'ham': 2, 'spam': 1},\n",
       " 'chapterwise': {'ham': 3, 'spam': 1},\n",
       " 'jif': {'ham': 1, 'spam': 2},\n",
       " 'jie': {'ham': 15, 'spam': 1},\n",
       " 'disconnect': {'ham': 7, 'spam': 2},\n",
       " 'jia': {'ham': 16, 'spam': 1},\n",
       " 'jin': {'ham': 7, 'spam': 1},\n",
       " 'jim': {'ham': 114, 'spam': 1},\n",
       " 'troubles': {'ham': 3, 'spam': 4},\n",
       " 'tull': {'ham': 2, 'spam': 1},\n",
       " 'jessamine': {'ham': 1, 'spam': 2},\n",
       " 'revulsion': {'ham': 2, 'spam': 2},\n",
       " '1313': {'ham': 3, 'spam': 1},\n",
       " 'suspension': {'ham': 3, 'spam': 9},\n",
       " 'troubled': {'ham': 3, 'spam': 2},\n",
       " 'jiz': {'ham': 1, 'spam': 2},\n",
       " 'diprose': {'ham': 5, 'spam': 1},\n",
       " 'aprol': {'ham': 2, 'spam': 1},\n",
       " 'recipients': {'ham': 6, 'spam': 36},\n",
       " 'civilian': {'ham': 1, 'spam': 4},\n",
       " 'temel': {'ham': 1, 'spam': 2},\n",
       " 'padamsinh': {'ham': 3, 'spam': 1},\n",
       " 'indigenous': {'ham': 2, 'spam': 1},\n",
       " 'drilling': {'ham': 12, 'spam': 7},\n",
       " 'aprox': {'ham': 2, 'spam': 1},\n",
       " 'sorted': {'ham': 12, 'spam': 2},\n",
       " 'maladministration': {'ham': 1, 'spam': 2},\n",
       " 'manuelokol': {'ham': 1, 'spam': 2},\n",
       " 'didn': {'ham': 82, 'spam': 32},\n",
       " 'cleancut': {'ham': 1, 'spam': 2},\n",
       " 'leather': {'ham': 2, 'spam': 2},\n",
       " 'quarter': {'ham': 32, 'spam': 8},\n",
       " 'retrieve': {'ham': 10, 'spam': 3},\n",
       " 'exelon': {'ham': 2, 'spam': 1},\n",
       " 'commuting': {'ham': 3, 'spam': 1},\n",
       " 'receipt': {'ham': 49, 'spam': 24},\n",
       " 'frames': {'ham': 3, 'spam': 2},\n",
       " 'sponsor': {'ham': 32, 'spam': 7},\n",
       " 'entering': {'ham': 13, 'spam': 10},\n",
       " 'wegen': {'ham': 2, 'spam': 1},\n",
       " 'salads': {'ham': 3, 'spam': 1},\n",
       " 'disasters': {'ham': 1, 'spam': 2},\n",
       " '797': {'ham': 2, 'spam': 1},\n",
       " '796': {'ham': 12, 'spam': 2},\n",
       " '795': {'ham': 3, 'spam': 2},\n",
       " '794': {'ham': 2, 'spam': 2},\n",
       " '793': {'ham': 8, 'spam': 1},\n",
       " '791': {'ham': 1, 'spam': 3},\n",
       " '790': {'ham': 1, 'spam': 2},\n",
       " '799': {'ham': 2, 'spam': 1},\n",
       " 'seriously': {'ham': 17, 'spam': 7},\n",
       " 'ilug': {'ham': 1, 'spam': 19},\n",
       " 'trauma': {'ham': 1, 'spam': 2},\n",
       " 'internet': {'ham': 203, 'spam': 122},\n",
       " 'wskaznikow': {'ham': 2, 'spam': 1},\n",
       " 'igniting': {'ham': 1, 'spam': 2},\n",
       " 'stradford': {'ham': 2, 'spam': 1},\n",
       " 'rogersuq': {'ham': 1, 'spam': 2},\n",
       " 'incentives': {'ham': 4, 'spam': 3},\n",
       " 'turnerbudd': {'ham': 3, 'spam': 1},\n",
       " 'anoop': {'ham': 2, 'spam': 1},\n",
       " 'lucrative': {'ham': 5, 'spam': 6},\n",
       " 'constitutionality': {'ham': 3, 'spam': 1},\n",
       " 'tomaski': {'ham': 3, 'spam': 1},\n",
       " 'marla': {'ham': 8, 'spam': 1},\n",
       " 'telegraphindia': {'ham': 3, 'spam': 1},\n",
       " 'tabanou': {'ham': 2, 'spam': 1},\n",
       " 'hamel': {'ham': 7, 'spam': 1},\n",
       " 'modest': {'ham': 8, 'spam': 4},\n",
       " '271599': {'ham': 2, 'spam': 1},\n",
       " 'initiate': {'ham': 18, 'spam': 2},\n",
       " 'quibble': {'ham': 2, 'spam': 2},\n",
       " 'neglect': {'ham': 2, 'spam': 1},\n",
       " 'emotion': {'ham': 1, 'spam': 5},\n",
       " 'oni': {'ham': 3, 'spam': 2},\n",
       " 'saving': {'ham': 8, 'spam': 16},\n",
       " 'ono': {'ham': 3, 'spam': 1},\n",
       " 'onl': {'ham': 1, 'spam': 2},\n",
       " 'holsters': {'ham': 1, 'spam': 2},\n",
       " 'packaqes': {'ham': 1, 'spam': 11},\n",
       " 'eresume': {'ham': 3, 'spam': 1},\n",
       " 'ong': {'ham': 1, 'spam': 13},\n",
       " 'reprisal': {'ham': 3, 'spam': 2},\n",
       " 'one': {'ham': 982, 'spam': 364},\n",
       " 'mignon': {'ham': 2, 'spam': 1},\n",
       " 'periodical': {'ham': 4, 'spam': 1},\n",
       " 'ons': {'ham': 1, 'spam': 2},\n",
       " 'tamara': {'ham': 8, 'spam': 1},\n",
       " 'veldt': {'ham': 1, 'spam': 2},\n",
       " 'ont': {'ham': 1, 'spam': 2},\n",
       " '2718295': {'ham': 1, 'spam': 2},\n",
       " 'penitence': {'ham': 1, 'spam': 2},\n",
       " 'broadcom': {'ham': 1, 'spam': 2},\n",
       " 'constants': {'ham': 2, 'spam': 1},\n",
       " 'riskfree': {'ham': 2, 'spam': 1},\n",
       " 'newsletterservice': {'ham': 1, 'spam': 2},\n",
       " 'automatisch': {'ham': 1, 'spam': 2},\n",
       " 'shawn': {'ham': 15, 'spam': 1},\n",
       " 'arround': {'ham': 1, 'spam': 2},\n",
       " 'herds': {'ham': 1, 'spam': 2},\n",
       " 'specialists': {'ham': 16, 'spam': 6},\n",
       " 'pasentertainment': {'ham': 1, 'spam': 2},\n",
       " 'surged': {'ham': 3, 'spam': 1},\n",
       " 'widziane': {'ham': 2, 'spam': 1},\n",
       " 'kamuoyunu': {'ham': 1, 'spam': 2},\n",
       " 'crossroads': {'ham': 3, 'spam': 1},\n",
       " 'rehab': {'ham': 3, 'spam': 1},\n",
       " 'oerations': {'ham': 2, 'spam': 1},\n",
       " 'disrespects': {'ham': 4, 'spam': 1},\n",
       " 'optimally': {'ham': 2, 'spam': 1},\n",
       " 'wandering': {'ham': 3, 'spam': 1},\n",
       " 'proactive': {'ham': 8, 'spam': 2},\n",
       " 'illness': {'ham': 5, 'spam': 2},\n",
       " 'turned': {'ham': 30, 'spam': 10},\n",
       " 'locations': {'ham': 48, 'spam': 11},\n",
       " 'jewels': {'ham': 1, 'spam': 2},\n",
       " '4761': {'ham': 2, 'spam': 1},\n",
       " 'pagemode': {'ham': 2, 'spam': 1},\n",
       " 'uninterrupted': {'ham': 3, 'spam': 1},\n",
       " '4768': {'ham': 3, 'spam': 1},\n",
       " 'turner': {'ham': 8, 'spam': 3},\n",
       " 'underlines': {'ham': 2, 'spam': 1},\n",
       " 'morenewslettersl': {'ham': 1, 'spam': 2},\n",
       " 'boyd': {'ham': 3, 'spam': 1},\n",
       " 'baggage': {'ham': 1, 'spam': 2},\n",
       " 'zoo': {'ham': 1, 'spam': 2},\n",
       " 'intends': {'ham': 6, 'spam': 7},\n",
       " 'zimin': {'ham': 253, 'spam': 1},\n",
       " 'gibner': {'ham': 412, 'spam': 1},\n",
       " 'mayes': {'ham': 2, 'spam': 1},\n",
       " 'mayer': {'ham': 3, 'spam': 1},\n",
       " 'stpat': {'ham': 2, 'spam': 1},\n",
       " 'printer': {'ham': 12, 'spam': 4},\n",
       " 'styllsh': {'ham': 1, 'spam': 13},\n",
       " 'opposite': {'ham': 7, 'spam': 2},\n",
       " 'buffer': {'ham': 2, 'spam': 2},\n",
       " 'squalor': {'ham': 1, 'spam': 2},\n",
       " 'bridgestation': {'ham': 3, 'spam': 1},\n",
       " 'buffet': {'ham': 4, 'spam': 2},\n",
       " 'printed': {'ham': 21, 'spam': 10},\n",
       " 'owusu': {'ham': 2, 'spam': 1},\n",
       " 'evaluator': {'ham': 4, 'spam': 1},\n",
       " 'epri': {'ham': 13, 'spam': 1},\n",
       " 'eprm': {'ham': 45, 'spam': 1},\n",
       " 'phil': {'ham': 26, 'spam': 1},\n",
       " 'lkao': {'ham': 2, 'spam': 1},\n",
       " 'remunerationfor': {'ham': 1, 'spam': 2},\n",
       " 'touche': {'ham': 4, 'spam': 1},\n",
       " 'presense': {'ham': 7, 'spam': 1},\n",
       " 'fascinated': {'ham': 2, 'spam': 1},\n",
       " 'qot': {'ham': 1, 'spam': 2},\n",
       " 'qos': {'ham': 3, 'spam': 1},\n",
       " 'dyplomowa': {'ham': 4, 'spam': 1},\n",
       " 'dyplomowe': {'ham': 2, 'spam': 1},\n",
       " 'friction': {'ham': 2, 'spam': 2},\n",
       " 'inconsistent': {'ham': 8, 'spam': 1},\n",
       " 'aggressive': {'ham': 18, 'spam': 13},\n",
       " 'qol': {'ham': 2, 'spam': 1},\n",
       " 'imagined': {'ham': 3, 'spam': 5},\n",
       " 'ensembles': {'ham': 3, 'spam': 1},\n",
       " 'reconciling': {'ham': 2, 'spam': 1},\n",
       " 'transact': {'ham': 5, 'spam': 1},\n",
       " 'pittenger': {'ham': 2, 'spam': 1},\n",
       " 'kmow': {'ham': 6, 'spam': 1},\n",
       " 'betrothal': {'ham': 1, 'spam': 3},\n",
       " 'efficently': {'ham': 1, 'spam': 3},\n",
       " 'hugevirtuousitems': {'ham': 1, 'spam': 2},\n",
       " 'hindmost': {'ham': 1, 'spam': 2},\n",
       " 'guarded': {'ham': 4, 'spam': 2},\n",
       " 'laziest': {'ham': 1, 'spam': 2},\n",
       " 'platts': {'ham': 3, 'spam': 1},\n",
       " 'simplistic': {'ham': 6, 'spam': 1},\n",
       " 'awaiting': {'ham': 17, 'spam': 3},\n",
       " 'polaczenia': {'ham': 4, 'spam': 1},\n",
       " 'matsumoto': {'ham': 2, 'spam': 1},\n",
       " 'keenly': {'ham': 6, 'spam': 1},\n",
       " 'collonges': {'ham': 3, 'spam': 1},\n",
       " 'energyinfosource': {'ham': 3, 'spam': 1},\n",
       " 'ferlic': {'ham': 2, 'spam': 1},\n",
       " 'questionaires': {'ham': 3, 'spam': 1},\n",
       " 'capitated': {'ham': 1, 'spam': 2},\n",
       " '6250': {'ham': 4, 'spam': 1},\n",
       " 'vision': {'ham': 26, 'spam': 12},\n",
       " '6117': {'ham': 16, 'spam': 1},\n",
       " 'noisier': {'ham': 2, 'spam': 1},\n",
       " 'confernce': {'ham': 2, 'spam': 1},\n",
       " 'marnie': {'ham': 3, 'spam': 1},\n",
       " 'tyagi': {'ham': 4, 'spam': 1},\n",
       " 'zuzana': {'ham': 3, 'spam': 1},\n",
       " 'interruptible': {'ham': 4, 'spam': 1},\n",
       " 'ausgenommen': {'ham': 2, 'spam': 1},\n",
       " 'presentiy': {'ham': 1, 'spam': 4},\n",
       " 'wideband': {'ham': 1, 'spam': 2},\n",
       " 'impressions': {'ham': 6, 'spam': 1},\n",
       " 'postdoc': {'ham': 3, 'spam': 1},\n",
       " 'bodiless': {'ham': 1, 'spam': 2},\n",
       " '832': {'ham': 10, 'spam': 1},\n",
       " 'defensively': {'ham': 2, 'spam': 1},\n",
       " '830': {'ham': 4, 'spam': 5},\n",
       " '831': {'ham': 8, 'spam': 1},\n",
       " '837': {'ham': 1, 'spam': 3},\n",
       " 'harvey': {'ham': 20, 'spam': 1},\n",
       " '838': {'ham': 2, 'spam': 2},\n",
       " 'sponsorship': {'ham': 13, 'spam': 4},\n",
       " 'vaccines': {'ham': 1, 'spam': 2},\n",
       " 'kilometer': {'ham': 2, 'spam': 1},\n",
       " 'listinfo': {'ham': 1, 'spam': 33},\n",
       " 'nrsc': {'ham': 2, 'spam': 1},\n",
       " 'moons': {'ham': 1, 'spam': 2},\n",
       " 'bibliophile': {'ham': 1, 'spam': 2},\n",
       " 'enjoys': {'ham': 3, 'spam': 2},\n",
       " '202885': {'ham': 1, 'spam': 2},\n",
       " 'indywidualna': {'ham': 2, 'spam': 1},\n",
       " 'awards': {'ham': 10, 'spam': 7},\n",
       " 'analyzer': {'ham': 1, 'spam': 3},\n",
       " 'concentrated': {'ham': 9, 'spam': 1},\n",
       " '5248': {'ham': 2, 'spam': 1},\n",
       " 'rhodes': {'ham': 3, 'spam': 1},\n",
       " '5247': {'ham': 2, 'spam': 1},\n",
       " '5246': {'ham': 2, 'spam': 1},\n",
       " 'millionaire': {'ham': 1, 'spam': 10},\n",
       " 's': {'ham': 1981, 'spam': 446},\n",
       " 'workplace': {'ham': 3, 'spam': 1},\n",
       " 'concentrates': {'ham': 5, 'spam': 1},\n",
       " 'grooming': {'ham': 1, 'spam': 2},\n",
       " 'inat': {'ham': 1, 'spam': 2},\n",
       " 'allowance': {'ham': 6, 'spam': 1},\n",
       " 'drogi': {'ham': 5, 'spam': 1},\n",
       " 'droga': {'ham': 3, 'spam': 1},\n",
       " 'augural': {'ham': 1, 'spam': 2},\n",
       " 'curr': {'ham': 2, 'spam': 1},\n",
       " 'buoyancy': {'ham': 1, 'spam': 2},\n",
       " 'suvorov': {'ham': 2, 'spam': 1},\n",
       " 'norepro': {'ham': 2, 'spam': 1},\n",
       " 'west': {'ham': 74, 'spam': 17},\n",
       " 'fkarbar': {'ham': 2, 'spam': 1},\n",
       " 'wess': {'ham': 2, 'spam': 1},\n",
       " 'wrongfuliy': {'ham': 1, 'spam': 3},\n",
       " 'breckenridge': {'ham': 15, 'spam': 1},\n",
       " 'motives': {'ham': 2, 'spam': 1},\n",
       " 'stripped': {'ham': 2, 'spam': 1},\n",
       " 'wants': {'ham': 105, 'spam': 10},\n",
       " 'tightener': {'ham': 1, 'spam': 2},\n",
       " 'combatted': {'ham': 1, 'spam': 2},\n",
       " 'gget': {'ham': 1, 'spam': 3},\n",
       " 'formed': {'ham': 21, 'spam': 4},\n",
       " 'readings': {'ham': 4, 'spam': 2},\n",
       " 'photos': {'ham': 10, 'spam': 10},\n",
       " 'northamerica': {'ham': 3, 'spam': 1},\n",
       " 'dpts': {'ham': 2, 'spam': 1},\n",
       " 'wzgledy': {'ham': 3, 'spam': 1},\n",
       " 'extant': {'ham': 2, 'spam': 1},\n",
       " 'former': {'ham': 36, 'spam': 10},\n",
       " 'lycoshop': {'ham': 2, 'spam': 1},\n",
       " 'identyczne': {'ham': 2, 'spam': 1},\n",
       " 'sommers': {'ham': 2, 'spam': 1},\n",
       " 'manhatan': {'ham': 3, 'spam': 1},\n",
       " 'tushar': {'ham': 3, 'spam': 1},\n",
       " 'defeatist': {'ham': 1, 'spam': 2},\n",
       " 'straighten': {'ham': 2, 'spam': 1},\n",
       " 'fiducial': {'ham': 1, 'spam': 2},\n",
       " 'newspaper': {'ham': 10, 'spam': 3},\n",
       " 'situation': {'ham': 78, 'spam': 32},\n",
       " 'penthouse': {'ham': 1, 'spam': 2},\n",
       " 'xinlan': {'ham': 1, 'spam': 2},\n",
       " 'engaged': {'ham': 8, 'spam': 8},\n",
       " 'dubious': {'ham': 2, 'spam': 1},\n",
       " 'cobol': {'ham': 1, 'spam': 2},\n",
       " 'sriram': {'ham': 3, 'spam': 1},\n",
       " 'pomyslalam': {'ham': 1, 'spam': 2},\n",
       " 'engages': {'ham': 1, 'spam': 2},\n",
       " 'technology': {'ham': 184, 'spam': 61},\n",
       " 'reviewmovies': {'ham': 2, 'spam': 1},\n",
       " 'verified': {'ham': 4, 'spam': 11},\n",
       " 'iqpc': {'ham': 5, 'spam': 1},\n",
       " '7777': {'ham': 5, 'spam': 1},\n",
       " 'afdt': {'ham': 1, 'spam': 2},\n",
       " 'rspudeck': {'ham': 3, 'spam': 1},\n",
       " 'otto': {'ham': 2, 'spam': 2},\n",
       " 'deeff': {'ham': 1, 'spam': 2},\n",
       " 'aiias': {'ham': 1, 'spam': 12},\n",
       " 'genieand': {'ham': 2, 'spam': 1},\n",
       " 'maredia': {'ham': 2, 'spam': 1},\n",
       " 'comex': {'ham': 2, 'spam': 1},\n",
       " 'defs': {'ham': 2, 'spam': 1},\n",
       " 'visually': {'ham': 1, 'spam': 2},\n",
       " ...}"
      ]
     },
     "execution_count": 66,
     "metadata": {},
     "output_type": "execute_result"
    }
   ],
   "source": [
    "model"
   ]
  },
  {
   "cell_type": "code",
   "execution_count": 69,
   "metadata": {},
   "outputs": [
    {
     "data": {
      "text/plain": [
       "{'ham': 1, 'spam': 9}"
      ]
     },
     "execution_count": 69,
     "metadata": {},
     "output_type": "execute_result"
    }
   ],
   "source": [
    "model['lottery']"
   ]
  },
  {
   "cell_type": "code",
   "execution_count": 70,
   "metadata": {},
   "outputs": [
    {
     "data": {
      "text/plain": [
       "{'ham': 42, 'spam': 39}"
      ]
     },
     "execution_count": 70,
     "metadata": {},
     "output_type": "execute_result"
    }
   ],
   "source": [
    "model['sale']"
   ]
  },
  {
   "cell_type": "code",
   "execution_count": 72,
   "metadata": {},
   "outputs": [],
   "source": [
    "def predict_bayes(word):\n",
    "    num_spam_with_word = model[word]['spam']\n",
    "    num_ham_with_word = model[word]['ham']\n",
    "    return 1.0*num_spam_with_word/(num_spam_with_word + num_ham_with_word)"
   ]
  },
  {
   "cell_type": "code",
   "execution_count": 73,
   "metadata": {},
   "outputs": [
    {
     "data": {
      "text/plain": [
       "0.9"
      ]
     },
     "execution_count": 73,
     "metadata": {},
     "output_type": "execute_result"
    }
   ],
   "source": [
    "predict_bayes('lottery')"
   ]
  },
  {
   "cell_type": "code",
   "execution_count": 74,
   "metadata": {},
   "outputs": [
    {
     "data": {
      "text/plain": [
       "0.48148148148148145"
      ]
     },
     "execution_count": 74,
     "metadata": {},
     "output_type": "execute_result"
    }
   ],
   "source": [
    "predict_bayes('sale')"
   ]
  },
  {
   "cell_type": "code",
   "execution_count": 92,
   "metadata": {},
   "outputs": [],
   "source": [
    "def predict_naive_bayes(email):\n",
    "    words = set(email.split())\n",
    "    spams = []\n",
    "    hams = []\n",
    "    for word in words:\n",
    "        if word in model:\n",
    "            spams.append(model[word]['spam'])\n",
    "            hams.append(model[word]['ham'])\n",
    "    prod_spams = long(np.prod(spams))\n",
    "    prod_hams = long(np.prod(hams))\n",
    "    return 1.0*prod_spams/(prod_spams + prod_hams)"
   ]
  },
  {
   "cell_type": "code",
   "execution_count": 93,
   "metadata": {},
   "outputs": [
    {
     "data": {
      "text/plain": [
       "0.0013894756610580057"
      ]
     },
     "execution_count": 93,
     "metadata": {},
     "output_type": "execute_result"
    }
   ],
   "source": [
    "predict_naive_bayes('hi mom how are you')"
   ]
  },
  {
   "cell_type": "code",
   "execution_count": 94,
   "metadata": {},
   "outputs": [
    {
     "data": {
      "text/plain": [
       "0.38569290647197135"
      ]
     },
     "execution_count": 94,
     "metadata": {},
     "output_type": "execute_result"
    }
   ],
   "source": [
    "predict_naive_bayes('enter the lottery to win three million dollars')"
   ]
  },
  {
   "cell_type": "code",
   "execution_count": 95,
   "metadata": {},
   "outputs": [
    {
     "data": {
      "text/plain": [
       "0.02490194297492509"
      ]
     },
     "execution_count": 95,
     "metadata": {},
     "output_type": "execute_result"
    }
   ],
   "source": [
    "predict_naive_bayes('meet me at the lobby of the hotel at nine am')"
   ]
  },
  {
   "cell_type": "code",
   "execution_count": 96,
   "metadata": {},
   "outputs": [
    {
     "data": {
      "text/plain": [
       "0.9913514898646872"
      ]
     },
     "execution_count": 96,
     "metadata": {},
     "output_type": "execute_result"
    }
   ],
   "source": [
    "predict_naive_bayes('buy cheap lottery easy money now')"
   ]
  },
  {
   "cell_type": "code",
   "execution_count": null,
   "metadata": {},
   "outputs": [],
   "source": []
  },
  {
   "cell_type": "code",
   "execution_count": null,
   "metadata": {},
   "outputs": [],
   "source": []
  },
  {
   "cell_type": "code",
   "execution_count": null,
   "metadata": {},
   "outputs": [],
   "source": []
  }
 ],
 "metadata": {
  "kernelspec": {
   "display_name": "Python 3",
   "language": "python",
   "name": "python3"
  },
  "language_info": {
   "codemirror_mode": {
    "name": "ipython",
    "version": 3
   },
   "file_extension": ".py",
   "mimetype": "text/x-python",
   "name": "python",
   "nbconvert_exporter": "python",
   "pygments_lexer": "ipython3",
   "version": "3.6.0"
  }
 },
 "nbformat": 4,
 "nbformat_minor": 2
}
