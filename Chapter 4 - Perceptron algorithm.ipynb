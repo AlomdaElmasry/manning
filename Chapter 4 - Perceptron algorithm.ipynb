{
 "cells": [
  {
   "cell_type": "code",
   "execution_count": 2,
   "metadata": {},
   "outputs": [],
   "source": [
    "# Importing packages\n",
    "from matplotlib import pyplot as plt\n",
    "import numpy as np"
   ]
  },
  {
   "cell_type": "code",
   "execution_count": 4,
   "metadata": {},
   "outputs": [],
   "source": [
    "# Some functions to plot our points and draw the lines\n",
    "def plot_points(features, labels):\n",
    "    X = np.array(features)\n",
    "    y = np.array(labels)\n",
    "    spam = X[np.argwhere(y==1)]\n",
    "    ham = X[np.argwhere(y==0)]\n",
    "    plt.scatter([s[0][0] for s in spam],\n",
    "                [s[0][1] for s in spam],\n",
    "                s = 25,\n",
    "                color = 'red',\n",
    "                edgecolor = 'k')\n",
    "    plt.scatter([s[0][0] for s in ham],\n",
    "                [s[0][1] for s in ham],\n",
    "                s = 25,\n",
    "                color = 'cyan',\n",
    "                edgecolor = 'k')\n",
    "    plt.xlabel('buy')\n",
    "    plt.ylabel('cookie')\n",
    "def draw_line(a,b,c, color='grey', linewidth=0.7, starting=0,ending=4):     #G\n",
    "    x = np.linspace(starting, ending, 1000)"
   ]
  },
  {
   "cell_type": "code",
   "execution_count": 5,
   "metadata": {},
   "outputs": [],
   "source": [
    "import pandas as pd\n",
    "features = pd.DataFrame([[1,2],[2,1],[2,3],[3,2]])\n",
    "labels = pd.Series([0,0,1,1])"
   ]
  },
  {
   "cell_type": "code",
   "execution_count": 6,
   "metadata": {},
   "outputs": [
    {
     "data": {
      "image/png": "[encoded data removed]",
      "text/plain": [
       "<Figure size 432x288 with 1 Axes>"
      ]
     },
     "metadata": {
      "needs_background": "light"
     },
     "output_type": "display_data"
    }
   ],
   "source": [
    "plot_points(features, labels)\n",
    "draw_line(1,1,4)"
   ]
  },
  {
   "cell_type": "code",
   "execution_count": 8,
   "metadata": {},
   "outputs": [],
   "source": [
    "def perceptron_trick(score_buy, score_cookie, threshold, num_buy, num_cookie, learning_rate, label):\n",
    "    if score_buy*num_buy + score_cookie*num_cookie >= threshold:\n",
    "        prediction = 1\n",
    "    else:\n",
    "        prediction = 0\n",
    "    if label != prediction:\n",
    "        if prediction == 1:\n",
    "            score_buy -= learning_rate*num_buy\n",
    "            score_cookie -= learning_rate*score_cookie\n",
    "            threshold += learning_rate\n",
    "    if prediction == 0:\n",
    "            score_buy += learning_rate*num_buy\n",
    "            score_cookie += learning_rate*score_cookie\n",
    "            threshold -= learning_rate\n",
    "    return score_buy, score_cookie, threshold"
   ]
  },
  {
   "cell_type": "code",
   "execution_count": 10,
   "metadata": {},
   "outputs": [],
   "source": [
    "def perceptron(features, labels, learning_rate=0.01, epochs = 1000):\n",
    "    score_buy = 1\n",
    "    score_cookie = 1\n",
    "    threshold = 1\n",
    "    for i in range(epochs):\n",
    "        draw_line(score_cookie, score_buy, threshold)\n",
    "        i = random.randint(len(features))\n",
    "        num_buy, num_cookie = features.loc[i]\n",
    "        label = labels[i]\n",
    "        score_buy, score_cookie, threshold = perceptron_trick(score_buy,     #E\n",
    "                                                              score_cookie,\n",
    "                                                              threshold,\n",
    "                                                              num_buy,\n",
    "                                                              num_cookie,\n",
    "                                                              learning_rate,\n",
    "                                                              label)\n",
    "    draw_line(score_cookie, score_buy, threshold, 'black')\n",
    "    plot_points(features, labels)\n",
    "    print('Score Buy:', score_buy)\n",
    "    print('Score Cookie:', score_cookie)\n",
    "    print('Threshold:', threshold)\n",
    "    return score_cookie, score_buy, threshold"
   ]
  },
  {
   "cell_type": "code",
   "execution_count": null,
   "metadata": {},
   "outputs": [],
   "source": []
  },
  {
   "cell_type": "code",
   "execution_count": null,
   "metadata": {},
   "outputs": [],
   "source": []
  }
 ],
 "metadata": {
  "kernelspec": {
   "display_name": "Python 2",
   "language": "python",
   "name": "python2"
  },
  "language_info": {
   "codemirror_mode": {
    "name": "ipython",
    "version": 2
   },
   "file_extension": ".py",
   "mimetype": "text/x-python",
   "name": "python",
   "nbconvert_exporter": "python",
   "pygments_lexer": "ipython2",
   "version": "2.7.15"
  }
 },
 "nbformat": 4,
 "nbformat_minor": 2
}
