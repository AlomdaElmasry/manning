{
 "cells": [
  {
   "cell_type": "markdown",
   "metadata": {},
   "source": [
    "# Coding a spam classifier with naive Bayes\n",
    "\n",
    "### 1. Imports and pre-processing data\n",
    "\n",
    "We load the data into a Turi Create SFrame, and then preprocess it by adding a string with the (non-repeated) words in the email."
   ]
  },
  {
   "cell_type": "code",
   "execution_count": 241,
   "metadata": {},
   "outputs": [],
   "source": [
    "import turicreate\n",
    "import numpy as np"
   ]
  },
  {
   "cell_type": "code",
   "execution_count": 242,
   "metadata": {},
   "outputs": [
    {
     "data": {
      "text/html": [
       "<pre>Finished parsing file /Users/luis/Documents/Book/code/manning/Chapter 6 - Naive Bayes/emails.csv</pre>"
      ],
      "text/plain": [
       "Finished parsing file /Users/luis/Documents/Book/code/manning/Chapter 6 - Naive Bayes/emails.csv"
      ]
     },
     "metadata": {},
     "output_type": "display_data"
    },
    {
     "data": {
      "text/html": [
       "<pre>Parsing completed. Parsed 100 lines in 0.076737 secs.</pre>"
      ],
      "text/plain": [
       "Parsing completed. Parsed 100 lines in 0.076737 secs."
      ]
     },
     "metadata": {},
     "output_type": "display_data"
    },
    {
     "name": "stdout",
     "output_type": "stream",
     "text": [
      "------------------------------------------------------\n",
      "Inferred types from first 100 line(s) of file as \n",
      "column_type_hints=[str,int]\n",
      "If parsing fails due to incorrect types, you can correct\n",
      "the inferred type list above and pass it to read_csv in\n",
      "the column_type_hints argument\n",
      "------------------------------------------------------\n"
     ]
    },
    {
     "data": {
      "text/html": [
       "<pre>Finished parsing file /Users/luis/Documents/Book/code/manning/Chapter 6 - Naive Bayes/emails.csv</pre>"
      ],
      "text/plain": [
       "Finished parsing file /Users/luis/Documents/Book/code/manning/Chapter 6 - Naive Bayes/emails.csv"
      ]
     },
     "metadata": {},
     "output_type": "display_data"
    },
    {
     "data": {
      "text/html": [
       "<pre>Parsing completed. Parsed 5728 lines in 0.100508 secs.</pre>"
      ],
      "text/plain": [
       "Parsing completed. Parsed 5728 lines in 0.100508 secs."
      ]
     },
     "metadata": {},
     "output_type": "display_data"
    }
   ],
   "source": [
    "emails = turicreate.SFrame('./emails.csv')"
   ]
  },
  {
   "cell_type": "code",
   "execution_count": 243,
   "metadata": {},
   "outputs": [
    {
     "data": {
      "text/html": [
       "<div style=\"max-height:1000px;max-width:1500px;overflow:auto;\"><table frame=\"box\" rules=\"cols\">\n",
       "    <tr>\n",
       "        <th style=\"padding-left: 1em; padding-right: 1em; text-align: center\">text</th>\n",
       "        <th style=\"padding-left: 1em; padding-right: 1em; text-align: center\">spam</th>\n",
       "    </tr>\n",
       "    <tr>\n",
       "        <td style=\"padding-left: 1em; padding-right: 1em; text-align: center; vertical-align: top\">Subject: naturally<br>irresistible your ...</td>\n",
       "        <td style=\"padding-left: 1em; padding-right: 1em; text-align: center; vertical-align: top\">1</td>\n",
       "    </tr>\n",
       "    <tr>\n",
       "        <td style=\"padding-left: 1em; padding-right: 1em; text-align: center; vertical-align: top\">Subject: the stock<br>trading gunslinger  f ...</td>\n",
       "        <td style=\"padding-left: 1em; padding-right: 1em; text-align: center; vertical-align: top\">1</td>\n",
       "    </tr>\n",
       "    <tr>\n",
       "        <td style=\"padding-left: 1em; padding-right: 1em; text-align: center; vertical-align: top\">Subject: unbelievable new<br>homes made easy  im ...</td>\n",
       "        <td style=\"padding-left: 1em; padding-right: 1em; text-align: center; vertical-align: top\">1</td>\n",
       "    </tr>\n",
       "    <tr>\n",
       "        <td style=\"padding-left: 1em; padding-right: 1em; text-align: center; vertical-align: top\">Subject: 4 color printing<br>special  request ...</td>\n",
       "        <td style=\"padding-left: 1em; padding-right: 1em; text-align: center; vertical-align: top\">1</td>\n",
       "    </tr>\n",
       "    <tr>\n",
       "        <td style=\"padding-left: 1em; padding-right: 1em; text-align: center; vertical-align: top\">Subject: do not have<br>money , get software cds ...</td>\n",
       "        <td style=\"padding-left: 1em; padding-right: 1em; text-align: center; vertical-align: top\">1</td>\n",
       "    </tr>\n",
       "    <tr>\n",
       "        <td style=\"padding-left: 1em; padding-right: 1em; text-align: center; vertical-align: top\">Subject: great nnews<br>hello , welcome to ...</td>\n",
       "        <td style=\"padding-left: 1em; padding-right: 1em; text-align: center; vertical-align: top\">1</td>\n",
       "    </tr>\n",
       "    <tr>\n",
       "        <td style=\"padding-left: 1em; padding-right: 1em; text-align: center; vertical-align: top\">Subject: here ' s a hot<br>play in motion  homeland ...</td>\n",
       "        <td style=\"padding-left: 1em; padding-right: 1em; text-align: center; vertical-align: top\">1</td>\n",
       "    </tr>\n",
       "    <tr>\n",
       "        <td style=\"padding-left: 1em; padding-right: 1em; text-align: center; vertical-align: top\">Subject: save your money<br>buy getting this thing ...</td>\n",
       "        <td style=\"padding-left: 1em; padding-right: 1em; text-align: center; vertical-align: top\">1</td>\n",
       "    </tr>\n",
       "    <tr>\n",
       "        <td style=\"padding-left: 1em; padding-right: 1em; text-align: center; vertical-align: top\">Subject: undeliverable :<br>home based business for ...</td>\n",
       "        <td style=\"padding-left: 1em; padding-right: 1em; text-align: center; vertical-align: top\">1</td>\n",
       "    </tr>\n",
       "    <tr>\n",
       "        <td style=\"padding-left: 1em; padding-right: 1em; text-align: center; vertical-align: top\">Subject: save your money<br>buy getting this thing ...</td>\n",
       "        <td style=\"padding-left: 1em; padding-right: 1em; text-align: center; vertical-align: top\">1</td>\n",
       "    </tr>\n",
       "</table>\n",
       "[5728 rows x 2 columns]<br/>Note: Only the head of the SFrame is printed.<br/>You can use print_rows(num_rows=m, num_columns=n) to print more rows and columns.\n",
       "</div>"
      ],
      "text/plain": [
       "Columns:\n",
       "\ttext\tstr\n",
       "\tspam\tint\n",
       "\n",
       "Rows: 5728\n",
       "\n",
       "Data:\n",
       "+-------------------------------+------+\n",
       "|              text             | spam |\n",
       "+-------------------------------+------+\n",
       "| Subject: naturally irresis... |  1   |\n",
       "| Subject: the stock trading... |  1   |\n",
       "| Subject: unbelievable new ... |  1   |\n",
       "| Subject: 4 color printing ... |  1   |\n",
       "| Subject: do not have money... |  1   |\n",
       "| Subject: great nnews  hell... |  1   |\n",
       "| Subject: here ' s a hot pl... |  1   |\n",
       "| Subject: save your money b... |  1   |\n",
       "| Subject: undeliverable : h... |  1   |\n",
       "| Subject: save your money b... |  1   |\n",
       "+-------------------------------+------+\n",
       "[5728 rows x 2 columns]\n",
       "Note: Only the head of the SFrame is printed.\n",
       "You can use print_rows(num_rows=m, num_columns=n) to print more rows and columns."
      ]
     },
     "execution_count": 243,
     "metadata": {},
     "output_type": "execute_result"
    }
   ],
   "source": [
    "emails"
   ]
  },
  {
   "cell_type": "code",
   "execution_count": 244,
   "metadata": {},
   "outputs": [],
   "source": [
    "def process_email(text):\n",
    "    return list(set(text.split()))\n",
    "emails['words'] = emails['text'].apply(process_email)"
   ]
  },
  {
   "cell_type": "code",
   "execution_count": 245,
   "metadata": {},
   "outputs": [],
   "source": [
    "#emails['word_count'] = turicreate.text_analytics.count_words(emails['text'])"
   ]
  },
  {
   "cell_type": "code",
   "execution_count": 246,
   "metadata": {},
   "outputs": [
    {
     "data": {
      "text/html": [
       "<div style=\"max-height:1000px;max-width:1500px;overflow:auto;\"><table frame=\"box\" rules=\"cols\">\n",
       "    <tr>\n",
       "        <th style=\"padding-left: 1em; padding-right: 1em; text-align: center\">text</th>\n",
       "        <th style=\"padding-left: 1em; padding-right: 1em; text-align: center\">spam</th>\n",
       "        <th style=\"padding-left: 1em; padding-right: 1em; text-align: center\">words</th>\n",
       "    </tr>\n",
       "    <tr>\n",
       "        <td style=\"padding-left: 1em; padding-right: 1em; text-align: center; vertical-align: top\">Subject: naturally<br>irresistible your ...</td>\n",
       "        <td style=\"padding-left: 1em; padding-right: 1em; text-align: center; vertical-align: top\">1</td>\n",
       "        <td style=\"padding-left: 1em; padding-right: 1em; text-align: center; vertical-align: top\">[all, through, portfolio,<br>its, guaranteed, ,, to, ...</td>\n",
       "    </tr>\n",
       "    <tr>\n",
       "        <td style=\"padding-left: 1em; padding-right: 1em; text-align: center; vertical-align: top\">Subject: the stock<br>trading gunslinger  f ...</td>\n",
       "        <td style=\"padding-left: 1em; padding-right: 1em; text-align: center; vertical-align: top\">1</td>\n",
       "        <td style=\"padding-left: 1em; padding-right: 1em; text-align: center; vertical-align: top\">[and, merrill, is,<br>nameable, clockwork, ...</td>\n",
       "    </tr>\n",
       "    <tr>\n",
       "        <td style=\"padding-left: 1em; padding-right: 1em; text-align: center; vertical-align: top\">Subject: unbelievable new<br>homes made easy  im ...</td>\n",
       "        <td style=\"padding-left: 1em; padding-right: 1em; text-align: center; vertical-align: top\">1</td>\n",
       "        <td style=\"padding-left: 1em; padding-right: 1em; text-align: center; vertical-align: top\">[pre, and, all, show,<br>being, visit, loan, 454, ...</td>\n",
       "    </tr>\n",
       "    <tr>\n",
       "        <td style=\"padding-left: 1em; padding-right: 1em; text-align: center; vertical-align: top\">Subject: 4 color printing<br>special  request ...</td>\n",
       "        <td style=\"padding-left: 1em; padding-right: 1em; text-align: center; vertical-align: top\">1</td>\n",
       "        <td style=\"padding-left: 1em; padding-right: 1em; text-align: center; vertical-align: top\">[and, golden, 5110, 626,<br>color, ca, an, canyon, ...</td>\n",
       "    </tr>\n",
       "    <tr>\n",
       "        <td style=\"padding-left: 1em; padding-right: 1em; text-align: center; vertical-align: top\">Subject: do not have<br>money , get software cds ...</td>\n",
       "        <td style=\"padding-left: 1em; padding-right: 1em; text-align: center; vertical-align: top\">1</td>\n",
       "        <td style=\"padding-left: 1em; padding-right: 1em; text-align: center; vertical-align: top\">[comedies, all, old,<br>tradgedies, be, money, ...</td>\n",
       "    </tr>\n",
       "    <tr>\n",
       "        <td style=\"padding-left: 1em; padding-right: 1em; text-align: center; vertical-align: top\">Subject: great nnews<br>hello , welcome to ...</td>\n",
       "        <td style=\"padding-left: 1em; padding-right: 1em; text-align: center; vertical-align: top\">1</td>\n",
       "        <td style=\"padding-left: 1em; padding-right: 1em; text-align: center; vertical-align: top\">[va, groundsel, allusion,<br>ag, tosher, confide, ...</td>\n",
       "    </tr>\n",
       "    <tr>\n",
       "        <td style=\"padding-left: 1em; padding-right: 1em; text-align: center; vertical-align: top\">Subject: here ' s a hot<br>play in motion  homeland ...</td>\n",
       "        <td style=\"padding-left: 1em; padding-right: 1em; text-align: center; vertical-align: top\">1</td>\n",
       "        <td style=\"padding-left: 1em; padding-right: 1em; text-align: center; vertical-align: top\">[precise, all, chain,<br>limited, indicating, ...</td>\n",
       "    </tr>\n",
       "    <tr>\n",
       "        <td style=\"padding-left: 1em; padding-right: 1em; text-align: center; vertical-align: top\">Subject: save your money<br>buy getting this thing ...</td>\n",
       "        <td style=\"padding-left: 1em; padding-right: 1em; text-align: center; vertical-align: top\">1</td>\n",
       "        <td style=\"padding-left: 1em; padding-right: 1em; text-align: center; vertical-align: top\">[right, want, just,<br>money, is, within, it, ...</td>\n",
       "    </tr>\n",
       "    <tr>\n",
       "        <td style=\"padding-left: 1em; padding-right: 1em; text-align: center; vertical-align: top\">Subject: undeliverable :<br>home based business for ...</td>\n",
       "        <td style=\"padding-left: 1em; padding-right: 1em; text-align: center; vertical-align: top\">1</td>\n",
       "        <td style=\"padding-left: 1em; padding-right: 1em; text-align: center; vertical-align: top\">[unknown, grownups, co,<br>telecom, is, mts, 000, ...</td>\n",
       "    </tr>\n",
       "    <tr>\n",
       "        <td style=\"padding-left: 1em; padding-right: 1em; text-align: center; vertical-align: top\">Subject: save your money<br>buy getting this thing ...</td>\n",
       "        <td style=\"padding-left: 1em; padding-right: 1em; text-align: center; vertical-align: top\">1</td>\n",
       "        <td style=\"padding-left: 1em; padding-right: 1em; text-align: center; vertical-align: top\">[right, want, just,<br>money, is, within, it, ...</td>\n",
       "    </tr>\n",
       "</table>\n",
       "[5728 rows x 3 columns]<br/>Note: Only the head of the SFrame is printed.<br/>You can use print_rows(num_rows=m, num_columns=n) to print more rows and columns.\n",
       "</div>"
      ],
      "text/plain": [
       "Columns:\n",
       "\ttext\tstr\n",
       "\tspam\tint\n",
       "\twords\tlist\n",
       "\n",
       "Rows: 5728\n",
       "\n",
       "Data:\n",
       "+-------------------------------+------+-------------------------------+\n",
       "|              text             | spam |             words             |\n",
       "+-------------------------------+------+-------------------------------+\n",
       "| Subject: naturally irresis... |  1   | [all, through, portfolio, ... |\n",
       "| Subject: the stock trading... |  1   | [and, merrill, is, nameabl... |\n",
       "| Subject: unbelievable new ... |  1   | [pre, and, all, show, bein... |\n",
       "| Subject: 4 color printing ... |  1   | [and, golden, 5110, 626, c... |\n",
       "| Subject: do not have money... |  1   | [comedies, all, old, tradg... |\n",
       "| Subject: great nnews  hell... |  1   | [va, groundsel, allusion, ... |\n",
       "| Subject: here ' s a hot pl... |  1   | [precise, all, chain, limi... |\n",
       "| Subject: save your money b... |  1   | [right, want, just, money,... |\n",
       "| Subject: undeliverable : h... |  1   | [unknown, grownups, co, te... |\n",
       "| Subject: save your money b... |  1   | [right, want, just, money,... |\n",
       "+-------------------------------+------+-------------------------------+\n",
       "[5728 rows x 3 columns]\n",
       "Note: Only the head of the SFrame is printed.\n",
       "You can use print_rows(num_rows=m, num_columns=n) to print more rows and columns."
      ]
     },
     "execution_count": 246,
     "metadata": {},
     "output_type": "execute_result"
    }
   ],
   "source": [
    "emails"
   ]
  },
  {
   "cell_type": "markdown",
   "metadata": {},
   "source": [
    "### 2. Coding Naive Bayes\n",
    "\n",
    "We start by counting how many spam and ham emails contain a given word.\n",
    "\n",
    "We check for the words 'money' and 'easy'."
   ]
  },
  {
   "cell_type": "code",
   "execution_count": 247,
   "metadata": {},
   "outputs": [
    {
     "data": {
      "text/plain": [
       "\"\\ndef count_spam_ham(word):\\n    email_count = {'spam': 0, 'ham': 0}\\n    for email in emails:\\n        if word in email['word_count']:\\n            if email['spam']:\\n                email_count['spam'] += 1\\n            else:\\n                email_count['ham'] += 1\\n    return email_count\\n\""
      ]
     },
     "execution_count": 247,
     "metadata": {},
     "output_type": "execute_result"
    }
   ],
   "source": [
    "def count_spam_ham(word):\n",
    "    email_count = {'spam': 0, 'ham': 0}\n",
    "    for email in emails:\n",
    "        if word in email['words']:\n",
    "            if email['spam']:\n",
    "                email_count['spam'] += 1\n",
    "            else:\n",
    "                email_count['ham'] += 1\n",
    "    return email_count\n",
    "\n",
    "# In case it's a dictionary\n",
    "'''\n",
    "def count_spam_ham(word):\n",
    "    email_count = {'spam': 0, 'ham': 0}\n",
    "    for email in emails:\n",
    "        if word in email['word_count']:\n",
    "            if email['spam']:\n",
    "                email_count['spam'] += 1\n",
    "            else:\n",
    "                email_count['ham'] += 1\n",
    "    return email_count\n",
    "'''"
   ]
  },
  {
   "cell_type": "code",
   "execution_count": 248,
   "metadata": {},
   "outputs": [
    {
     "name": "stdout",
     "output_type": "stream",
     "text": [
      "{'ham': 87, 'spam': 280}\n",
      "{'ham': 61, 'spam': 110}\n"
     ]
    }
   ],
   "source": [
    "print count_spam_ham('money')\n",
    "print count_spam_ham('easy')"
   ]
  },
  {
   "cell_type": "markdown",
   "metadata": {},
   "source": [
    "Now we make a function that takes a number of words. The naive Bayes algorithm goes over all these words, multiplies the probabilities that the email containing them are spam, and ham. Finally, calculates the weighted probabilities using Naive Bayes, and returns the probability that the email is spam."
   ]
  },
  {
   "cell_type": "code",
   "execution_count": 253,
   "metadata": {},
   "outputs": [],
   "source": [
    "def prob_spam_bayes(word):\n",
    "    # Returns the probability that the email is spam given that it contains a word\n",
    "    spam, ham = count_spam_ham(word)\n",
    "    if spam==0 and ham==0:\n",
    "        return 0.5\n",
    "    return 1.0*spam/(spam+ham)"
   ]
  },
  {
   "cell_type": "code",
   "execution_count": 401,
   "metadata": {},
   "outputs": [],
   "source": [
    "def prob_spam_naive_bayes(words):\n",
    "    email_counts = [count_spam_ham(word) for word in words]\n",
    "    spams = [count['spam'] for count in email_counts]\n",
    "    hams = [count['ham'] for count in email_counts]\n",
    "    #print spams\n",
    "    #print hams\n",
    "    spam = np.prod([count['spam'] for count in email_counts])\n",
    "    ham = np.prod([count['ham'] for count in email_counts])\n",
    "    if spam==0 and ham==0:\n",
    "        return 0.5\n",
    "    return 1.0*spam/(spam+ham)\n",
    "\n",
    "# In case the email comes as a string\n",
    "def prob_spam_naive_bayes_string(email):\n",
    "    words = email.split()\n",
    "    print words\n",
    "    return prob_spam_naive_bayes(words)"
   ]
  },
  {
   "cell_type": "markdown",
   "metadata": {},
   "source": [
    "### Testing with some sample emails\n",
    "We verify that for non-spammy words, the classifier gives us small probabilities, and for spammy words it gives us large probabilities."
   ]
  },
  {
   "cell_type": "code",
   "execution_count": 402,
   "metadata": {},
   "outputs": [
    {
     "data": {
      "text/plain": [
       "0.8530201899908605"
      ]
     },
     "execution_count": 402,
     "metadata": {},
     "output_type": "execute_result"
    }
   ],
   "source": [
    "prob_spam_naive_bayes(['money', 'easy'])"
   ]
  },
  {
   "cell_type": "code",
   "execution_count": 403,
   "metadata": {},
   "outputs": [
    {
     "data": {
      "text/plain": [
       "0.008857887217413228"
      ]
     },
     "execution_count": 403,
     "metadata": {},
     "output_type": "execute_result"
    }
   ],
   "source": [
    "prob_spam_naive_bayes(['mom','friend','school'])"
   ]
  },
  {
   "cell_type": "code",
   "execution_count": 404,
   "metadata": {},
   "outputs": [
    {
     "data": {
      "text/plain": [
       "1.0"
      ]
     },
     "execution_count": 404,
     "metadata": {},
     "output_type": "execute_result"
    }
   ],
   "source": [
    "prob_spam_naive_bayes(['prince','viagra'])"
   ]
  },
  {
   "cell_type": "code",
   "execution_count": 405,
   "metadata": {},
   "outputs": [
    {
     "name": "stdout",
     "output_type": "stream",
     "text": [
      "['hi', 'mom', 'how', 'are', 'you', 'please', 'buy', 'apples']\n"
     ]
    },
    {
     "data": {
      "text/plain": [
       "0.0"
      ]
     },
     "execution_count": 405,
     "metadata": {},
     "output_type": "execute_result"
    }
   ],
   "source": [
    "prob_spam_naive_bayes_string('hi mom how are you please buy apples')"
   ]
  },
  {
   "cell_type": "code",
   "execution_count": 406,
   "metadata": {},
   "outputs": [
    {
     "name": "stdout",
     "output_type": "stream",
     "text": [
      "['buy', 'cheap', 'viagra', 'get', 'lottery']\n"
     ]
    },
    {
     "data": {
      "text/plain": [
       "1.0"
      ]
     },
     "execution_count": 406,
     "metadata": {},
     "output_type": "execute_result"
    }
   ],
   "source": [
    "prob_spam_naive_bayes_string('buy cheap viagra get lottery')"
   ]
  },
  {
   "cell_type": "code",
   "execution_count": 407,
   "metadata": {},
   "outputs": [
    {
     "name": "stdout",
     "output_type": "stream",
     "text": [
      "['enter', 'in', 'the', 'lottery', 'now', 'win', 'three', 'million', 'dollars']\n"
     ]
    },
    {
     "data": {
      "text/plain": [
       "1.0"
      ]
     },
     "execution_count": 407,
     "metadata": {},
     "output_type": "execute_result"
    }
   ],
   "source": [
    "prob_spam_naive_bayes_string('enter in the lottery now win three million dollars')"
   ]
  },
  {
   "cell_type": "code",
   "execution_count": 408,
   "metadata": {},
   "outputs": [
    {
     "name": "stdout",
     "output_type": "stream",
     "text": [
      "['lets', 'meet', 'at', 'the', 'hotel', 'lobby', 'at', 'nine', 'am', 'tomorrow']\n"
     ]
    },
    {
     "data": {
      "text/plain": [
       "0.0"
      ]
     },
     "execution_count": 408,
     "metadata": {},
     "output_type": "execute_result"
    }
   ],
   "source": [
    "prob_spam_naive_bayes_string('lets meet at the hotel lobby at nine am tomorrow')"
   ]
  },
  {
   "cell_type": "code",
   "execution_count": 409,
   "metadata": {},
   "outputs": [
    {
     "name": "stdout",
     "output_type": "stream",
     "text": [
      "['hi', 'mom', 'make', 'easy', 'money']\n"
     ]
    },
    {
     "data": {
      "text/plain": [
       "0.08279582746750283"
      ]
     },
     "execution_count": 409,
     "metadata": {},
     "output_type": "execute_result"
    }
   ],
   "source": [
    "prob_spam_naive_bayes_string('hi mom make easy money')"
   ]
  },
  {
   "cell_type": "code",
   "execution_count": 410,
   "metadata": {},
   "outputs": [
    {
     "name": "stdout",
     "output_type": "stream",
     "text": [
      "['hi', 'mom']\n"
     ]
    },
    {
     "data": {
      "text/plain": [
       "0.03860711582134747"
      ]
     },
     "execution_count": 410,
     "metadata": {},
     "output_type": "execute_result"
    }
   ],
   "source": [
    "prob_spam_naive_bayes_string('hi mom')"
   ]
  },
  {
   "cell_type": "code",
   "execution_count": 411,
   "metadata": {},
   "outputs": [
    {
     "name": "stdout",
     "output_type": "stream",
     "text": [
      "['make', 'easy', 'money']\n"
     ]
    },
    {
     "data": {
      "text/plain": [
       "0.6921082499793675"
      ]
     },
     "execution_count": 411,
     "metadata": {},
     "output_type": "execute_result"
    }
   ],
   "source": [
    "prob_spam_naive_bayes_string('make easy money')"
   ]
  },
  {
   "cell_type": "code",
   "execution_count": 412,
   "metadata": {},
   "outputs": [
    {
     "name": "stdout",
     "output_type": "stream",
     "text": [
      "['subject']\n"
     ]
    },
    {
     "data": {
      "text/plain": [
       "0.06958657388456815"
      ]
     },
     "execution_count": 412,
     "metadata": {},
     "output_type": "execute_result"
    }
   ],
   "source": [
    "prob_spam_naive_bayes_string('subject')"
   ]
  },
  {
   "cell_type": "code",
   "execution_count": 413,
   "metadata": {},
   "outputs": [
    {
     "name": "stdout",
     "output_type": "stream",
     "text": [
      "['wadlidoo', 'hi', 'mom']\n"
     ]
    },
    {
     "data": {
      "text/plain": [
       "0.5"
      ]
     },
     "execution_count": 413,
     "metadata": {},
     "output_type": "execute_result"
    }
   ],
   "source": [
    "prob_spam_naive_bayes_string('wadlidoo hi mom')"
   ]
  },
  {
   "cell_type": "markdown",
   "metadata": {},
   "source": [
    "### 3. Training an actual model (for efficiency)\n",
    "\n",
    "Our plan is to write a dictionary, and in this dictionary record every word, and its pair of occurrences in spam and ham"
   ]
  },
  {
   "cell_type": "code",
   "execution_count": 293,
   "metadata": {},
   "outputs": [],
   "source": [
    "model = {}\n",
    "\n",
    "# Training process\n",
    "for email in emails:\n",
    "    for word in email['words']:\n",
    "        if word not in model:\n",
    "            model[word] = {'spam': 1, 'ham': 1}\n",
    "        if word in model:\n",
    "            if email['spam']:\n",
    "                model[word]['spam'] += 1\n",
    "            else:\n",
    "                model[word]['ham'] += 1"
   ]
  },
  {
   "cell_type": "code",
   "execution_count": 398,
   "metadata": {},
   "outputs": [],
   "source": [
    "def predict(email):\n",
    "    #print email\n",
    "    words = set(email.split())\n",
    "    spams = []\n",
    "    hams = []\n",
    "    for word in words:\n",
    "        if word in model:\n",
    "            spams.append(model[word]['spam'])\n",
    "            hams.append(model[word]['ham'])\n",
    "    #print words\n",
    "    #print spams\n",
    "    #print hams\n",
    "    #prod_spams = long(1)\n",
    "    #prod_hams = long(1)\n",
    "    prod_spams = long(np.prod(spams))\n",
    "    prod_hams = long(np.prod(hams))\n",
    "    #print prod_spams\n",
    "    #print prod_hams\n",
    "    return 1.0*prod_spams/(prod_spams + prod_hams)\n",
    "    #return 1.0*np.prod(spams)/(np.prod(spams)+np.prod(hams))"
   ]
  },
  {
   "cell_type": "code",
   "execution_count": 414,
   "metadata": {},
   "outputs": [
    {
     "data": {
      "text/plain": [
       "0.7379367444666222"
      ]
     },
     "execution_count": 414,
     "metadata": {},
     "output_type": "execute_result"
    }
   ],
   "source": [
    "predict('hi mom how are you viagra lottery scam money easy')"
   ]
  },
  {
   "cell_type": "code",
   "execution_count": 415,
   "metadata": {},
   "outputs": [
    {
     "data": {
      "text/plain": [
       "0.38569290647197135"
      ]
     },
     "execution_count": 415,
     "metadata": {},
     "output_type": "execute_result"
    }
   ],
   "source": [
    "predict('enter the lottery to win three million dollars')"
   ]
  },
  {
   "cell_type": "code",
   "execution_count": 416,
   "metadata": {},
   "outputs": [
    {
     "data": {
      "text/plain": [
       "0.02490194297492509"
      ]
     },
     "execution_count": 416,
     "metadata": {},
     "output_type": "execute_result"
    }
   ],
   "source": [
    "predict('meet me at the lobby of the hotel at nine am')"
   ]
  },
  {
   "cell_type": "code",
   "execution_count": 417,
   "metadata": {},
   "outputs": [
    {
     "data": {
      "text/plain": [
       "0.9913514898646872"
      ]
     },
     "execution_count": 417,
     "metadata": {},
     "output_type": "execute_result"
    }
   ],
   "source": [
    "predict('buy cheap lottery easy money now')"
   ]
  },
  {
   "cell_type": "code",
   "execution_count": null,
   "metadata": {},
   "outputs": [],
   "source": []
  }
 ],
 "metadata": {
  "kernelspec": {
   "display_name": "Python 2",
   "language": "python",
   "name": "python2"
  },
  "language_info": {
   "codemirror_mode": {
    "name": "ipython",
    "version": 2
   },
   "file_extension": ".py",
   "mimetype": "text/x-python",
   "name": "python",
   "nbconvert_exporter": "python",
   "pygments_lexer": "ipython2",
   "version": "2.7.15"
  }
 },
 "nbformat": 4,
 "nbformat_minor": 2
}
