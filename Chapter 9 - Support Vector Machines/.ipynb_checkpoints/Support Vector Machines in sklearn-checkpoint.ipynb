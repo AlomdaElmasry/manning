{
 "cells": [
  {
   "cell_type": "code",
   "execution_count": 13,
   "metadata": {},
   "outputs": [],
   "source": [
    "import matplotlib.pyplot as plt\n",
    "\n",
    "# Some functions to plot our points and draw the models\n",
    "def plot_points(features, labels):\n",
    "    X = np.array(features)\n",
    "    y = np.array(labels)\n",
    "    spam = X[np.argwhere(y==1)]\n",
    "    ham = X[np.argwhere(y==0)]\n",
    "    plt.scatter([s[0][0] for s in spam],\n",
    "                [s[0][1] for s in spam],\n",
    "                s = 25,\n",
    "                color = 'cyan',\n",
    "                edgecolor = 'k',\n",
    "                marker = '^')\n",
    "    plt.scatter([s[0][0] for s in ham],\n",
    "                [s[0][1] for s in ham],\n",
    "                s = 25,\n",
    "                color = 'red',\n",
    "                edgecolor = 'k',\n",
    "                marker = 's')\n",
    "    plt.xlabel('Sale')\n",
    "    plt.ylabel('Lottery')\n",
    "    plt.legend(['spam','ham'])\n",
    "\n",
    "def plot_model(X, y, model):\n",
    "    X = np.array(X)\n",
    "    y = np.array(y)\n",
    "    plot_step = 0.2\n",
    "    x_min, x_max = X[:, 0].min() - 1, X[:, 0].max() + 1\n",
    "    y_min, y_max = X[:, 1].min() - 1, X[:, 1].max() + 1\n",
    "    xx, yy = np.meshgrid(np.arange(x_min, x_max, plot_step),\n",
    "                         np.arange(y_min, y_max, plot_step))\n",
    "    Z = model.predict(np.c_[xx.ravel(), yy.ravel()])\n",
    "    Z = Z.reshape(xx.shape)\n",
    "    plt.contourf(xx, yy, Z, colors=['red', 'blue'], alpha=0.2, levels=range(-1,2))\n",
    "    plt.contour(xx, yy, Z,colors = 'k',linewidths = 1)\n",
    "    plot_points(X, y)\n",
    "    plt.show()"
   ]
  },
  {
   "cell_type": "code",
   "execution_count": 68,
   "metadata": {},
   "outputs": [],
   "source": [
    "# Writing the csv, but use the code below instead\n",
    "\n",
    "df = pd.DataFrame(columns = ['x1', 'x2', 'y'])\n",
    "\n",
    "for i in range(20):\n",
    "    radius = random.random()\n",
    "    angle = 2*np.pi*random.random()\n",
    "    df = df.append([[np.around(radius*np.cos(angle), decimals=2),np.around(radius*np.sin(angle), decimals=2),0]])\n",
    "for i in range(30):\n",
    "    radius = random.random()+1\n",
    "    angle = 2*np.pi*random.random()\n",
    "    df = df.append([[np.around(radius*np.cos(angle), decimals=2),np.around(radius*np.sin(angle), decimals=2),1]])\n",
    "df.to_csv('circular_data.csv')"
   ]
  },
  {
   "cell_type": "code",
   "execution_count": 41,
   "metadata": {},
   "outputs": [
    {
     "name": "stdout",
     "output_type": "stream",
     "text": [
      "-0.7 , -0.27 , 0\n",
      "0.33 , -0.53 , 0\n",
      "-0.05 , -0.58 , 0\n",
      "-0.38 , 0.49 , 0\n",
      "0.4 , -0.87 , 0\n",
      "-0.0 , -0.04 , 0\n",
      "-0.07 , 0.22 , 0\n",
      "0.13 , 0.0 , 0\n",
      "0.49 , 0.28 , 0\n",
      "0.19 , -0.02 , 0\n",
      "0.32 , 0.1 , 0\n",
      "-0.23 , 0.05 , 0\n",
      "0.1 , -0.14 , 0\n",
      "0.39 , 0.44 , 0\n",
      "-0.2 , 0.04 , 0\n",
      "0.83 , 0.25 , 0\n",
      "0.48 , -0.78 , 0\n",
      "0.23 , 0.52 , 0\n",
      "0.42 , 0.24 , 0\n",
      "-0.18 , 0.16 , 0\n",
      "-1.32 , 0.04 , 1\n",
      "-1.18 , -0.59 , 1\n",
      "-0.12 , 1.49 , 1\n",
      "1.12 , 0.46 , 1\n",
      "0.41 , 0.95 , 1\n",
      "-1.28 , -0.08 , 1\n",
      "-1.76 , -0.12 , 1\n",
      "-0.46 , 1.12 , 1\n",
      "1.82 , 0.68 , 1\n",
      "-0.59 , -1.33 , 1\n",
      "0.17 , -1.51 , 1\n",
      "-1.31 , -1.51 , 1\n",
      "1.05 , -0.12 , 1\n",
      "1.25 , -0.26 , 1\n",
      "1.01 , -1.2 , 1\n",
      "-1.31 , 1.3 , 1\n",
      "1.97 , -0.21 , 1\n",
      "-0.69 , -1.64 , 1\n",
      "0.94 , 0.89 , 1\n",
      "1.22 , 0.49 , 1\n",
      "-1.02 , -1.1 , 1\n",
      "0.27 , -1.0 , 1\n",
      "-0.05 , 1.27 , 1\n",
      "-0.62 , 1.86 , 1\n",
      "0.89 , -0.67 , 1\n",
      "0.69 , -1.36 , 1\n",
      "0.82 , -0.63 , 1\n",
      "-0.99 , -1.19 , 1\n",
      "-0.34 , -0.98 , 1\n",
      "-0.97 , -1.15 , 1\n"
     ]
    }
   ],
   "source": [
    "import random\n",
    "for i in range(20):\n",
    "    radius = random.random()\n",
    "    angle = 2*np.pi*random.random()\n",
    "    print(np.around(radius*np.cos(angle), decimals=2),',',np.around(radius*np.sin(angle), decimals=2), ', 0')\n",
    "for i in range(30):\n",
    "    radius = random.random()+1\n",
    "    angle = 2*np.pi*random.random()\n",
    "    print(np.around(radius*np.cos(angle), decimals=2),',',np.around(radius*np.sin(angle), decimals=2), ', 1')"
   ]
  },
  {
   "cell_type": "code",
   "execution_count": 80,
   "metadata": {},
   "outputs": [
    {
     "data": {
      "image/png": "[encoded data removed]",
      "text/plain": [
       "<Figure size 432x288 with 1 Axes>"
      ]
     },
     "metadata": {
      "needs_background": "light"
     },
     "output_type": "display_data"
    }
   ],
   "source": [
    "import pandas as pd\n",
    "import numpy as np\n",
    "import sklearn\n",
    "\n",
    "data = pd.read_csv('./circular_data.csv')\n",
    "\n",
    "features = data[['x1','x2']]\n",
    "labels = data['y']\n",
    "\n",
    "plot_points(features, labels)"
   ]
  },
  {
   "cell_type": "code",
   "execution_count": 85,
   "metadata": {},
   "outputs": [
    {
     "name": "stderr",
     "output_type": "stream",
     "text": [
      "/Library/Frameworks/Python.framework/Versions/3.6/lib/python3.6/site-packages/sklearn/svm/base.py:193: FutureWarning: The default value of gamma will change from 'auto' to 'scale' in version 0.22 to account better for unscaled features. Set gamma explicitly to 'auto' or 'scale' to avoid this warning.\n",
      "  \"avoid this warning.\", FutureWarning)\n"
     ]
    },
    {
     "data": {
      "image/png": "[encoded data removed]",
      "text/plain": [
       "<Figure size 432x288 with 1 Axes>"
      ]
     },
     "metadata": {
      "needs_background": "light"
     },
     "output_type": "display_data"
    }
   ],
   "source": [
    "features = data[['x1', 'x2']]\n",
    "labels = data['y']\n",
    "from sklearn.svm import SVC\n",
    "svm = SVC()\n",
    "svm.fit(features, labels)\n",
    "svm.score(features, labels)\n",
    "\n",
    "plot_model(features, labels, svm)"
   ]
  },
  {
   "cell_type": "code",
   "execution_count": null,
   "metadata": {},
   "outputs": [],
   "source": []
  },
  {
   "cell_type": "code",
   "execution_count": null,
   "metadata": {},
   "outputs": [],
   "source": []
  }
 ],
 "metadata": {
  "kernelspec": {
   "display_name": "Python 3",
   "language": "python",
   "name": "python3"
  },
  "language_info": {
   "codemirror_mode": {
    "name": "ipython",
    "version": 3
   },
   "file_extension": ".py",
   "mimetype": "text/x-python",
   "name": "python",
   "nbconvert_exporter": "python",
   "pygments_lexer": "ipython3",
   "version": "3.6.0"
  }
 },
 "nbformat": 4,
 "nbformat_minor": 2
}
