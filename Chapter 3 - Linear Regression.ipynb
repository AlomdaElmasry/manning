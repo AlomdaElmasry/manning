{
 "cells": [
  {
   "cell_type": "code",
<<<<<<< HEAD
   "execution_count": 1,
=======
   "execution_count": 34,
>>>>>>> 1ed62144c127f4440bee2030c9fc2f4100026439
   "metadata": {},
   "outputs": [],
   "source": [
    "# Importing packages\n",
    "from matplotlib import pyplot as plt\n",
    "import numpy as np\n",
    "import random"
   ]
  },
  {
   "cell_type": "code",
<<<<<<< HEAD
   "execution_count": 2,
=======
   "execution_count": 28,
>>>>>>> 1ed62144c127f4440bee2030c9fc2f4100026439
   "metadata": {},
   "outputs": [],
   "source": [
    "# Some functions to plot our points and draw the lines\n",
    "def plot_points(features, labels):\n",
    "    X = np.array(features)\n",
    "    y = np.array(labels)\n",
    "    plt.scatter(X, y)\n",
    "    plt.xlabel('number of rooms')\n",
    "    plt.ylabel('prices')\n",
    "def draw_line(slope, y_intercept, color='grey', linewidth=0.7, starting=0,ending=4):     #G\n",
    "    x = np.linspace(0, 8, 1000)\n",
    "    plt.plot(x, y_intercept + slope*x, linestyle='-', color=color, linewidth=linewidth)"
   ]
  },
  {
   "cell_type": "code",
<<<<<<< HEAD
   "execution_count": 3,
=======
   "execution_count": 157,
>>>>>>> 1ed62144c127f4440bee2030c9fc2f4100026439
   "metadata": {},
   "outputs": [
    {
     "data": {
      "text/html": [
       "<div>\n",
       "<style scoped>\n",
       "    .dataframe tbody tr th:only-of-type {\n",
       "        vertical-align: middle;\n",
       "    }\n",
       "\n",
       "    .dataframe tbody tr th {\n",
       "        vertical-align: top;\n",
       "    }\n",
       "\n",
       "    .dataframe thead th {\n",
       "        text-align: right;\n",
       "    }\n",
       "</style>\n",
       "<table border=\"1\" class=\"dataframe\">\n",
       "  <thead>\n",
       "    <tr style=\"text-align: right;\">\n",
       "      <th></th>\n",
       "      <th>0</th>\n",
       "      <th>1</th>\n",
       "    </tr>\n",
       "  </thead>\n",
       "  <tbody>\n",
       "    <tr>\n",
       "      <th>0</th>\n",
       "      <td>1</td>\n",
       "      <td>155</td>\n",
       "    </tr>\n",
       "    <tr>\n",
       "      <th>1</th>\n",
       "      <td>2</td>\n",
       "      <td>197</td>\n",
       "    </tr>\n",
       "    <tr>\n",
       "      <th>2</th>\n",
       "      <td>3</td>\n",
       "      <td>244</td>\n",
       "    </tr>\n",
       "    <tr>\n",
       "      <th>3</th>\n",
       "      <td>5</td>\n",
       "      <td>356</td>\n",
       "    </tr>\n",
       "    <tr>\n",
       "      <th>4</th>\n",
       "      <td>6</td>\n",
       "      <td>407</td>\n",
       "    </tr>\n",
       "    <tr>\n",
       "      <th>5</th>\n",
       "      <td>7</td>\n",
       "      <td>448</td>\n",
       "    </tr>\n",
       "  </tbody>\n",
       "</table>\n",
       "</div>"
      ],
      "text/plain": [
       "   0    1\n",
       "0  1  155\n",
       "1  2  197\n",
       "2  3  244\n",
       "3  5  356\n",
       "4  6  407\n",
       "5  7  448"
      ]
     },
<<<<<<< HEAD
     "execution_count": 3,
=======
     "execution_count": 157,
>>>>>>> 1ed62144c127f4440bee2030c9fc2f4100026439
     "metadata": {},
     "output_type": "execute_result"
    }
   ],
   "source": [
    "import pandas as pd\n",
    "features = pd.Series([1,2,3,5,6,7])\n",
    "labels = pd.Series([155, 197, 244, 356,407,448])\n",
    "pd.concat([features, labels], axis=1)"
   ]
  },
  {
   "cell_type": "code",
<<<<<<< HEAD
   "execution_count": 4,
   "metadata": {},
   "outputs": [
    {
     "data": {
      "image/png": "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\n",
      "text/plain": [
       "<Figure size 432x288 with 1 Axes>"
      ]
     },
     "metadata": {
      "needs_background": "light"
     },
     "output_type": "display_data"
    }
   ],
=======
   "execution_count": null,
   "metadata": {},
   "outputs": [],
>>>>>>> 1ed62144c127f4440bee2030c9fc2f4100026439
   "source": [
    "plot_points(features, labels)"
   ]
  },
  {
   "cell_type": "code",
<<<<<<< HEAD
   "execution_count": 5,
=======
   "execution_count": 132,
>>>>>>> 1ed62144c127f4440bee2030c9fc2f4100026439
   "metadata": {},
   "outputs": [],
   "source": [
    "def simple_trick(base_price, price_per_room, num_rooms, price, learning_rate):\n",
    "    predicted_price = base_price + price_per_room*num_rooms\n",
    "    if price > predicted_price and num_rooms > 0:\n",
    "        price_per_room += learning_rate\n",
    "        base_price += learning_rate\n",
    "    if price > predicted_price and num_rooms < 0:\n",
    "        price_per_room -= learning_rate\n",
    "        base_price += learning_rate\n",
    "    if price < predicted_price and num_rooms > 0:\n",
    "        price_per_room -= learning_rate\n",
    "        base_price -= learning_rate\n",
    "    if price < predicted_price and num_rooms < 0:\n",
    "        price_per_room -= learning_rate\n",
    "        base_price += learning_rate\n",
    "    return price_per_room, base_price"
   ]
  },
  {
   "cell_type": "code",
<<<<<<< HEAD
   "execution_count": 6,
=======
   "execution_count": 133,
>>>>>>> 1ed62144c127f4440bee2030c9fc2f4100026439
   "metadata": {},
   "outputs": [],
   "source": [
    "def absolute_trick(base_price, price_per_room, num_rooms, price, learning_rate):\n",
    "    predicted_price = base_price + price_per_room*num_rooms\n",
    "    if price > predicted_price:\n",
    "        price_per_room += learning_rate*num_rooms\n",
    "        base_price += learning_rate\n",
    "    else:\n",
    "        price_per_room -= learning_rate*num_rooms\n",
    "        base_price -= learning_rate\n",
    "    return price_per_room, base_price"
   ]
  },
  {
   "cell_type": "code",
<<<<<<< HEAD
   "execution_count": 7,
=======
   "execution_count": 134,
>>>>>>> 1ed62144c127f4440bee2030c9fc2f4100026439
   "metadata": {},
   "outputs": [],
   "source": [
    "def square_trick(base_price, price_per_room, num_rooms, price, learning_rate):\n",
    "    predicted_price = base_price + price_per_room*num_rooms\n",
    "    price_per_room += learning_rate*num_rooms*(price-predicted_price)\n",
    "    base_price += learning_rate*(price-predicted_price)\n",
    "    return price_per_room, base_price"
   ]
  },
  {
   "cell_type": "code",
<<<<<<< HEAD
   "execution_count": 27,
=======
   "execution_count": 152,
   "metadata": {},
   "outputs": [],
   "source": [
    "def linear_regression(features, labels, learning_rate=0.01, epochs = 1000):\n",
    "    price_per_room = 1\n",
    "    base_price = 0\n",
    "    num_printed_lines = 100\n",
    "    for i in range(epochs):\n",
    "        if i % (epochs/num_printed_lines) == 0:\n",
    "            draw_line(price_per_room, base_price)\n",
    "        i = random.randint(0, len(features)-1)\n",
    "        num_rooms = features[i]\n",
    "        price = labels[i]\n",
    "#        price_per_room, base_price = simple_trick(base_price,\n",
    "#        price_per_room, base_price = absolute_trick(base_price,\n",
    "        price_per_room, base_price = square_trick(base_price,\n",
    "                                                  price_per_room,\n",
    "                                                  num_rooms,\n",
    "                                                  price,\n",
    "                                                  learning_rate=learning_rate)\n",
    "    draw_line(price_per_room, base_price, 'black')\n",
    "    plot_points(features, labels)\n",
    "    print('Price per room:', price_per_room)\n",
    "    print('Base price:', base_price)\n",
    "    return price_per_room, base_price"
   ]
  },
  {
   "cell_type": "code",
   "execution_count": 153,
>>>>>>> 1ed62144c127f4440bee2030c9fc2f4100026439
   "metadata": {},
   "outputs": [
    {
     "name": "stdout",
     "output_type": "stream",
     "text": [
<<<<<<< HEAD
      "('Price per room:', 51.84693076477512)\n",
      "('Base price:', 90.14266263049726)\n"
=======
      "('Price per room:', 50.27322169484311)\n",
      "('Base price:', 99.20687378298894)\n"
>>>>>>> 1ed62144c127f4440bee2030c9fc2f4100026439
     ]
    },
    {
     "data": {
      "text/plain": [
<<<<<<< HEAD
       "(51.84693076477512, 90.14266263049726)"
      ]
     },
     "execution_count": 27,
=======
       "(50.27322169484311, 99.20687378298894)"
      ]
     },
     "execution_count": 153,
>>>>>>> 1ed62144c127f4440bee2030c9fc2f4100026439
     "metadata": {},
     "output_type": "execute_result"
    },
    {
     "data": {
<<<<<<< HEAD
      "image/png": "iVBORw0KGgoAAAANSUhEUgAAAYgAAAEKCAYAAAAIO8L1AAAABHNCSVQICAgIfAhkiAAAAAlwSFlzAAALEgAACxIB0t1+/AAAADl0RVh0U29mdHdhcmUAbWF0cGxvdGxpYiB2ZXJzaW9uIDIuMi4zLCBodHRwOi8vbWF0cGxvdGxpYi5vcmcvIxREBQAAIABJREFUeJzs3Wl0VNed7/3vripVlVQqzRKakARiMtggQGaQxFSMNmYyJhiDnXQG9+3u2+v2us/tm+S+ee561n3W6l6dfm6nVzqd6+6kl9tpBzAxBsIkkBCgESQQg4SExKB5nqtUpZr280JSBYwMsk0JAfuzFhE6depoH5LUT+f89/lvIaVEURRFUb5M86wHoCiKokxOKiAURVGUMamAUBRFUcakAkJRFEUZkwoIRVEUZUwqIBRFUZQx+TUghBBhQohDQogqIcQtIcRyIUSEEOKMEKJm5Gv4yL5CCPGPQohaIcR1IcQif45NURRFeTx/X0H8HDglpZwDLABuAT8BcqSUM4Gcke8B3gBmjvz5EPhnP49NURRFeQzhrwflhBAhwDVgunzghwghqoHVUsoWIUQckCelnC2E+D8jf//dl/fzywAVRVGUx9L58djTgQ7g34QQC4Ay4L8AU0Y/9EdCImZk/wSg4YH3N45s+8qAiIqKkikpKX4YuqIoyourrKysU0oZ/aT9/BkQOmAR8JdSyhIhxM/54+2ksYgxtj1yeSOE+JDhW1AkJSVRWlr6NMaqKIry0hBC1I1nP3/WIBqBRillycj3hxgOjLaRW0uMfG1/YP+pD7w/EWj+8kGllB9JKdOllOnR0U8MQEVRFOUb8ltASClbgQYhxOyRTWuBSuAo8N2Rbd8Fjoz8/SjwwchspmVAn6o/KIqiPDv+vMUE8JfAfwgh9MBd4E8YDqWDQogfAPXArpF9TwBvArXA4Mi+iqIoyjPi14CQUpYD6WO8tHaMfSXwF/4cj6IoijJ+6klqRVEUZUwqIBRFUZQxqYBQFEVRxqQCQlEU5Tljt9sn5OeogFAURXlOeL1eSkpKOHz4MB6Px+8/TwWEoijKc6Cjo4NPP/0UrVbLnj170Gq1fv+Z/n4OQlEURfkWPB4PBQUFtLa2smXLFkJDQyfsZ6uAUBRFmaSamprIyclh4cKFrFixAiGGW9a5XC4CAgL8/vNVQCiKokwyLpeLc+fOYbPZ2LlzJyaTCQApJVevXqWysnJCbjOpgFAURZlE7t27x4ULF1i+fDmzZs3ybe/o6CA7O5uUlBRmz579mCM8PSogFEVRJgGHw8GZM2fQaDS8++67GAwGYPhq4sKFC/T09LBgwQJKS0uJj4/33W7yJxUQiqIoz1h1dTXFxcWsXr2a5ORk3/ba2loKCgpYsGABAwMDVFdXo9Pp6Ovrw+v1otH4dyKqCghFUZRnxGq1kp2dTUhICO+9956v8Gy1Wjlz5gyBgYHMmjWL69evYzabGRwcpKenB61Wi7+Wi36QCghFUZQJJqXk+vXrXLt2jfXr1xMXF+fbXlpaSnV1NfPnz6e8vByXy4Xb7aa3t5fu7m6WLVvGa6+9NiGzmNSDcoqiKBOot7eXgwcP0t/fz969e33h0Nrayn/8x3/gdDoJDw+nqqoKrVaL1Wqlp6eHgIAAfvCDH9DV1cUvf/nLCWm3oa4gFEVRJoCUksuXL1NTU8PGjRuJiooCwOl0kpeXx8DAADNnzuTWrVuEhYXhcDgYGBjA4/GwY8cObDYbH330EUNDQyQmJqLT+f/jWwWEoiiKn3V2dnL69GlmzZrFe++955uBNFqcnjt3Lp2dnbS2tuL1ehkYGKC9vZ0FCxaQlpbGZ599Rnd3NwaDge9973tMnTp1QsYtJqLQ4S/p6emytLT0WQ9DURRlTKNtMlpaWti0aZOvTUZ/fz/Z2dmYzWYAuru78Xq9aLVaWlpaCAkJYfv27RQUFHDjxg2klGRlZbF69Wpqa2s5cuQIf/mXf4ler/9G4xJClEkpx1rt8yHqCkJRFMUPmpubOXv2LGlpab42GV6vl0uXLlFbW8uMGTOoqqoiNDQUl8uF3W7Hbrezfv16pJT867/+Ky6Xi/j4eN577z1sNhu/+MUv6OrqQgjB0NDQNw6I8VIBoSiK8hS5XC5fTeHBNhnNzc3k5OSQnJxMQEAATU1NeL1e7HY7HR0dzJgxg+XLl3Po0CG6u7vR6/Xs27ePuLg4jhw5QlVVFVJKwsPD2bp1q+/qw59UQCiKojwl9+/f5/z58yxbtszXDmNoaIjc3FzsdjtxcXHU1dX5eihZrVZcLhfvvvsupaWlfPTRRwghWLZsGWvWrKGoqIjf/va3eDweDAYDa9euxWw2c+7cOT744APVi0lRFGWyczgcnD17FoDdu3djNBqRUnLr1i0uX75MamoqbW1twPCiP06nk4GBATIzMzEYDHzyySd4PB5iY2PZs2cPbW1t/OxnP8PhcKDVaklPT2fu3LmcP3+ehoYGvF4vXV1dxMTE+PW8VEAoiqJ8C6MzkVatWkVKSgow/KzD6BPSJpOJ5uZmpJS4XC66urpISEhg48aNfPHFF/T19REQEMDOnTuJiori448/pqOjAyEEiYmJWCwWSktLOXDgAENDQ76fOxEryqmAUBRF+QZsNhunT5/GbDb72mR4PB6Ki4u5f/8+U6ZMoampCb1e73vgbXBwkO3bt1NeXs7HH38MwOLFi1m9ejXHjx+noqICKSUhISFs3LiRe/fu8cUXX9Df3//Iz1cPyimKokwyUkpu3LhBeXk569atIz4+HoCGhgbOnTtHYmIibrebvr4+pJQ4nU56enpIS0vDbDZz8OBBPB4PUVFR7N69m1u3bvGzn/0Mj8eDXq9nzZo1OBwOcnNz6erq+spxqG6uiqIok0hfXx+nTp0iLi6OvXv3otVqsdvt5OTk4HQ6MZvNtLW14fV68Xq99Pb2EhERwZYtWzhx4gT9/f0EBASwZcsWTCYTH330EXa7HY1Gw4IFC4iPj6e0tJSuri68Xu9jx6Ka9SmKokwCo030bt++7WuTMXolceXKFeLj4+no6MBoNKLRaLDb7dhsNiwWC1VVVezfvx8hBK+++ipZWVkcPHiQ9vZ2AGJjY0lPT+fKlStUVVU9VGd4nMHBQX+eMuDngBBC3AcGAA/gllKmCyEigANACnAf+I6UskcMXy/9HHgTGAS+J6W84s/xKYqiPMlom4yZM2f62mR0d3f7itAajYbe3l6EEHg8Htrb25k5cyahoaGcOHECr9dLWFgYb7/9NkVFRfzTP/0TUkqCgoJYuXIlVVVVvuVFv46QkBA/nfEfTcQVxBopZecD3/8EyJFS/o0Q4icj3/8YeAOYOfJnKfDPI18VRVEmnMfjobCwkObmZjZv3kxYWJivdUZDQwPBwcH09PTgdrvRaDT09/djMpmwWCzk5uZis9nQ6XSsW7cOl8vFb37zG9xuN1qtlqVLl9LV1UVhYeGYBejH8Xq93L17l6CgID+d+R89i1tM24DVI3//GMhjOCC2Af8uh2+sFQshwoQQcVLKlmcwRkVRXmItLS2cOXOGBQsWkJWVhRCCuro6zp07x5QpUxgaGkKj0aDVanE6nTQ3N/P6669z9+5djh07hkajYebMmSxcuJDDhw8zODiIEIJZs2YRFBREZWWlr4g9Xl6vl8rKSq5cucLKlSsJDg7247/AMH8HhASyhRAS+D9Syo+AKaMf+lLKFiHE6JMeCUDDA+9tHNmmAkJRlAnhcrk4f/48/f39vP322wQHBzM4OMjZs2dxuVzodDr6+/sRQiCEoKOjg7i4OMLCwrh48SIej4eQkBDWr19PXl4en376KVJKIiMjSU1N5fbt274W3uPl8Xi4efMm165dY9WqVfz4xz9m2bJlfu/DBP4PiEwpZfNICJwRQlQ9Zt+x5mw9Eq9CiA+BDwGSkpKezigVRXnp1dXVkZeXx9KlS5kzZw5SSsrLyykvLyc8PBybzYbH48FkMtHR0YHT6SQ9PZ1Lly5RU1ODTqcjKyuL9vZ2Dh48iNfrRa/Xs2DBAu7cucPVq1dxuVzjHo/H4+HatWvcuHGDtWvX8tOf/pTly5fzyiuv+H0t6lF+DQgpZfPI13YhxGFgCdA2eutICBEHtI/s3gg82OQ8EWge45gfAR/BcLtvf45fUZQX39DQEGfPnkVK6WuT0dnZSXZ2NiaTCa/Xi81mIyAgAKfTSVNTE7Nnz6apqYnz588jhCApKYmpU6dy4cIF3G43QgjmzZtHe3s7N27cwOFwjHs8breb8vJyKioqWL9+Pdu2bSMjI4PZs2dPyLMPD/JbQAghTIBGSjkw8vcNwP8DHAW+C/zNyNcjI285CvxnIcR+hovTfar+oCiKP92+fZuioiJWrlzJtGnTcLvdnDt3jubm4d9NR2cWBQQE0NbWRlhYGDExMVy7dg2Xy4XJZGLJkiVcvHiR2tpaABITE32F5K/ztLPL5fJNdd24cSM7d+4kMzOTGTNmTHgwjPLnFcQU4PDIiemAT6WUp4QQl4GDQogfAPXArpH9TzA8xbWW4Wmuf+LHsSmK8hKz2Wy+K4TRNhl3797lwoULhIaG4nQ6EUIQGhpKb28vDoeDmTNnUl1dTWNjIzqdjrS0NOrq6sjOzva1xwgNDaWrqwu73T7uArTT6aSsrIyamho2bdrEnj17yMzMZNq0ac8sGEapFeUURXlpSCm5efMmV69eZe3atSQkJGCz2Thz5oyvw6rRaEQIgdPpxGazERcXR3d3N93d3QDExMRgNBqpqanB6/Wi0+mIj4+nq6sLh8Mx7gL00NAQly9f5u7du2zevJlly5aRmZlJcnKyP/8JALWinKIoykP6+vo4ffo0sbGx7N27F41GQ1lZGdevX0ev1yOlRAhBYGAgLS0tGI1GIiMjqa+vx+FwEBgYSEpKCjdv3sTtdgMQHx9PX18fLS0t4y5AOxwOSkpKqK+v56233uIHP/gBWVlZJCYm+vP0vxEVEIqivNBG22RUV1ezceNGoqOjaW9vJzs7G71ej9frxeVyERoaitVqpbW1lSlTptDa2kpHRwcGg4GUlBQaGhq4du0aUkpCQ0Pxer10dHSMOxgGBwcpKSmhqamJLVu28Gd/9mdkZWURFxfn53+Bb07dYlIU5YXV1dXFqVOnmDFjBq+//joej4fz58/T0tKC0+nEaDQCwyHS39+P2WxmcHCQgYEBvF6vb73o7u5upJQYjUYCAgIYGhrC6XSOaww2m42ioiJaW1vZunUrGRkZrFixwu+L/TyOusWkKMpLy+PxUFRURGNjo69NRk1NDRcvXvSt9gZgMploaWlBCEFQUBB9fX1YrVaCgoIICgqipaXFd+spODiYoaEhBgYGxjUGq9VKYWEhHR0dbNmyhRUrVpCVlUVUVJQ/T/2pUgGhKMoLpaWlhbNnz/Laa6+xe/durFYrhw4dYmhoCI/Hg9PpJDQ0lI6ODpqamggODsbhcNDa2kpgYCCRkZG0t7fT29vra6rndrvHHQz9/f0UFBTQ29vLG2+8gcViISsri/DwcD+f+dOnAkJRlBeC2+3m/Pnz9Pb2smPHDoKCgrh8+TI3b94Ehp9lGL1F1NrailarRafT+RruBQcHY7PZfD2SRgvXDofjiWszwPAyowUFBQwMDLBx40bWr19PVlYWoaGh/j51v1EBoSjKc+/BNhlr166lpaWFzz//HI1G42vDHRISQnNzMx6Ph4CAAAB6enoICgrytfCWUqLVan3vGc+U1e7ubvLz83E4HKxbt46NGzeyYsUKzGazv0/b71RAKIry3Bptk+H1etm9ezcajYZTp07R2tqK0+kkICCA0NBQenp6aGpqQqPR+HopGQwGDAYDfX19visEnU6HlNI3jfVxOjs7yc/Px+12Y7FYWL9+PWvWrMFkMvn7tCeMCghFUZ5LNTU1FBYWsmLFCqZPn05VVRX5+fkIIXy3kwIDA32N9YxGI3a7HavVilar9c1UevCqYTzB0N7eTn5+PgCrV69m9erVbNq0icDAQH+f8oRTAaEoynNlcHCQ7OxsAgMD2bNnD3a7nQMHDmC32xFCIKUkPDyc5uZment70Wq1mM1mWlpaCAoK8hWrR2cn6XS6cQVDa2sr+fn56HQ6LBYLS5YsYdu2bROycM+zogJCUZTngpSSiooKrly5wtq1a4mLi6OkpISKigo8Hg96vZ6wsDD6+/tpbGzE6XQSHR1NY2Ojr5bw4CI9Go0Gr9f72HCQQEtzM/n5+RiNRjZt2sTcuXPZuXPnhCz5+aypgFAUZdLr7+/n1KlTTJkyhb1799La2srHH3+M2+1Gp9Oh0+kwm810dXVhtVoJCwvD6/XS1NQE4JuyCviuMp40M6mhoZHCwgKCTCZWrnsDfdgUFq3ZxJ7Vr/n9fCcLFRCKokxaUkrKysqoqqpiw4YNhISEcOrUKVpaWvB4PGi1WqKjo2lqavLdToqNjaW+vh69Xj9mV9UndY+oq6ujsLCQ0NAwVm18C2NIBJdciTQNhVNa3MGe1X484UlGBYSiKJNSV1cXp0+fZvr06ezZs4eqqioOHz6Mx+PBaDQSFhbG4OAgDQ0N2Gw2pk2bxp07d2hvb8flcuF0OsfdcltKyf379yksLCQqKgrL5h3og8OodkdTNRSDHFnwsrl3/Os7vAhUQCiKMql4vV6KiopoaGjgjTfeAODAgQMMDAyg0+nQ6/WEh4fT1tZGf38/U6ZMAeDu3bu4XC4cDsfXCoY7d+5QXFxMbGwsH3zwAbGxsRS2eDlrm4LzSx+R8WEv3kylx1EBoSjKpNHa2sqZM2d47bXXeOeddygqKqKiogIpJTqdjtjYWJqamrh37x5arZaUlBTfetAPzmJ6Eiklt2/f5tKlSyQkJPC9732P1NRUhBCsXbuWqIYhij6/Aa4/PigXGKDlrzfO9ufpTzoqIBRFeea+3Cajp6eHf/u3f8PlcmEwGAgJCWFoaIi6ujqsVitz5syhurqa+vp6XC6Xr+X2k8LB6/VSXV3N5cuXSU5O5vvf/z5paWm0t7eTnp7OjBkzANg+0k/v705X09xrJz4skL/eOJvtCxP8+u8w2ah234qiPFP19fWcO3eOJUuWkJKSQnZ2Nk1NTb7ZSVFRUTQ3N9PX10diYiI2m43u7m5cLte4eiTBcDBUVlZSVlZGamoqa9asYcWKFdy7d4/Zs2eTnp6OVqv185lOHuNt960CQlGUZ2JoaIicnBzcbjfr1q2jpqaGgoICvF4vBoOB+Ph4mpubGRgYICAggMTERKqqqpBSjnuRHo/H43t2YtasWaxatYpNmzZx7949goKCWLVq1Qv9oNtXUetBKIoyaT3YJiM0NJTPPvuM/v5+AgMDCQ4ORkrJvXv3sNlsvPbaa1RUVFBdXT3uRXo8Hg/Xr1/n2rVrvPLKK/zoRz9i27ZttLa2UlNTg8ViITo62s9n+fxTAaEoyoR5sE3Grl27KC4upqKiAp1OR2BgIHFxcdTX19PX10dycjJGo5Hy8vJxXzG43W6uXbvGjRs3mDdvHj/84Q/ZsWMHTqeT0tJSMjIysFgsCCH8fKYvBnWLSVEUv3uwTYbFYsHtdnPy5ElcLhdGo5GEhASam5vp7+9Hr9eTlJRERUUFbrd7XLOSXC4XV69epbKykvnz55Oens62bdsICwvj/PnzzJw5k9dff/2lqjM8jqpBKIoyKfT393P69Gmio6NZvHix70no0dlJGo2GtrY27HY78+fPp6KiAofDMa61GJxOJ2VlZVRXV5OWlsbChQt54403mDlzJufOncNgMLB69eqXss7wOCogFEV5pqSUXLlyhVu3brF+/XoaGxvJz89Hq9X6itD37t3DarWSnJyM1Wqlra1tXMEwNDREaWkptbW1LFq0iPnz52OxWHj99dcpLCykra0Ni8VCTEzMBJzp80cFhKIoz0x3dzenTp1i2rRpTJ8+nT/84Q8MDAwQGBhIQkICLS0t9PX1YTAYSEpK4ubNm+Nque1wOLh06RL37t0jPT2defPmsWzZMiwWC7du3eLq1assW7aMWbNmqTrDY6iAUBRlwnm9XoqLi6mrq2PdunWUlZVx69YtDAYDoaGh6PV6mpqacLlczJ07l4qKiuGGejDcW1vAWB/rdrudkpIS6uvrWbJkCa+88grz5s1j8+bNdHZ2kpeXR2pqKkuWLFF1hnFQ01wVRZlQbW1tZGdn8+qrr7J48WJ+97vf4fV6MZlMTJ06lZqaGhwOBwkJCQwODjL6y91Dv6PKkZwYSQmbzUZxcTHNzc0sW7aMNWvWkJyczI4dO5BScvLkSQICAtixY8cLtdTnZOH3gBBCaIFSoElK+ZYQYhqwH4gArgDvSymdQggD8O/AYqAL2C2lvO/v8SmK8u243W4uXLhAd3c369evJycnh9bWVoKCgkhMTKSlpYWbN28SGBhIamoqlZWVviegv+r+xYDVSlFhIR0dHSxbtox169YRHR3N22+/TUREBAUFBbS0tGCxWHzN+pSnbyKuIP4LcAsYXX7pb4H/LaXcL4T4FfAD4J9HvvZIKWcIId4d2W/3BIxPUZRvqKGhgdzcXNLT0wkMDOTTTz9Fr9cTExODwWDg9u3bCCGYPXs2FRUVdHV1PXyALyXEwEA/BQWF9PR0k5GRwZtvvklgYCBbt24lNTWVmzdvcurUKZYuXcqqVatUncHP/FqDEEIkAh8D/y/wX4EtQAcQK6V0CyGWA/9TSrlRCHF65O9FQggd0ApEy8cMUNUgFOXZcDqd5OTk4HK5mD9/PidPnmRwcBCTyURSUhLV1dV4PB6mTJlCb28v3d3dYx5ntPbQ19dHQUE+AwMDZGRkEJs0jRBjAGvXrmXx4sU0NzeTl5dHSkoKS5cuRadTd8e/jclSg/gH4L8D5pHvI4FeKeXodIVGYLQ9YgLQADASHn0j+3f6eYyKonwNtbW1FBQUsGzZMqqqqjh06JDv9lFbWxsVFRUEBQURHh5OTU3NY4/V29NDfn4+drudjIxMwuOT0AkvCalz+U/vbcdqtXL06FE0Gg3btm0jODh4gs5SAT8GhBDiLaBdSlkmhFg9unmMXeU4XnvwuB8CHwIkJSU9hZEqijIedrud7OxsDAYDaWlpHD9+HI1GQ1RUFIGBgdTU1KDX60lJSeHWrVt0dn7173ZdXV3k5+fjdDrJysoiJC4ZrXTRqw1j3abNbE1L5OLFizQ1NWGxWIiNjZ3AM1VG+fMKIhPYKoR4EzAyXIP4ByBMCKEbuYpIBJpH9m8EpgKNI7eYQoFHrkullB8BH8HwLSY/jl9RFIYfeKusrKS0tJQlS5ZQXFzMjRs3CA4OZurUqVRXV6PVaomKiqKrq4vKysqvPFZHRwf5+fl4vV6ysrKYPXs2TqeT8PBwdu3aRUhICBUVFXz66acsWbKElStXqjrDMzQhz0GMXEH8t5FZTJ8Bv3+gSH1dSvlLIcRfAK9JKf/TSJH6bSnldx53XFWDUBT/GhgY4PTp00RERCClpKysDKPRSGJiIm1tbdhsNkwmExqNhtbW1q88TltbG/n5+Wg0GrKyskhJSUGv1wOwfft2kpKSaG5u5ty5cyQnJ7Ns2TJVZ/CjyVKDGMuPgf1CiP8FXAV+PbL918AnQohahq8c3n0GY1MUheGrhqtXr1JRUcH8+fPJy8vD7XYTFRVFUFAQNTU1hISEEBkZSX19/Vcep6Wlhfz8fPR6PatXryY2NpYpU6bQ09PDypUrSUtLY2BggCNHjiCEUHWGSUY9Sa0oykO6u7s5ffo0iYmJNDU1UVdX99DspKCgIHQ63WOvGBobGykoKMBkMpGZmUlERAQzZsygoaGB9PR0X0fX4uJi6uvrsVgsxMXFTeBZvtwm8xWEoiiT0GibjPv375OYmEhxcTEBAQG+2Um1tbWYzWbfcp9jqa+vp7CwkJCQEDZt2kRoaChz5syhrq4OvV7PX/3VX6HX6301jfT0dLKyslSdYZJSAaEoiq9NRnJyMn19fTQ2NhIWFobJZOLOnTtERUUxODhIW1vbI++VUnL//n2KioqIiIhg8+bNmM1mkpKS6O7uxmq18uGHHxIWFkZLSwvnzp1j6tSpvPfeewQEBDyDs1XGSwWEorzE3G43Fy9epKOjg5CQEAoLCwkKCmLmzJnU1NQghECn09HY2PjIe6WU3L17l+LiYmJiYti6dSvBwcGEhISg0+mwWq3s3LmTlJQU3/MMUkq2bNmC2WweYzTKZKMCQlFeUqNtMqZOnUp9fT1CCJKSkujs7KS+vp7AwECam5sfeZ+UkpqaGkpKSoiPj2f79u2YTCa0Wi2RkZE4HA4yMzNZuHAhHo+H/Px86urqWLNmDfHx8c/gTJVvSgWEorxknE4nubm5WK1W3G43ly5dIjQ0lKCgIBoaGoiIiPjKYKiurubSpUskJSXxzjvvEBgYCEBMTAx2u50ZM2awZs0atFotVVVVXLp0icWLF5OZmanqDM8hFRCK8hK5c+cOFy9eJDw8nNraWgwGA9OmTeP+/fvodDocDscj4eD1erl16xalpaVMnz6d73znOxiNRgDCwsLwer2+2kNwcDCtra3k5uaSkJCg6gzPORUQivISGG2T4XK56O3tpb29nbi4OHp6emhpacHpdI4ZDBUVFVy5coUZM2bw7rvvYjAYADAYDBiNRoKDg9m8eTOxsbFYrVaOHTuG1+vlrbfeIiQkZKyhKM8RFRCK8oKrrKykpKQErVZLU1MTZrMZs9lMa2srXq8Xp9P50P4ej4cbN25QXl7OnDlz2LNnj++pZyEEZrMZg8GAxWJh9uzZeDweCgoKuHfvHqtXryYxMfFZnKbiByogFOUFNdomw+Px0NbWhlsKWp2BmDu7QWgw4nlof7fbzbVr17hx4wZz585l7969D90eMplMGI1GFi1axNKlS9FoNFRXV1NSUsKiRYvYu3evqjO8YFRAKMoLRkpJeXk5V69exWazYbPZ0BjN9Pf2ECId6AUgPb6lPd1ut6+txmuvvca+ffvQ6XTo9XqcTid6vZ7Q0FCSkpKwWCwEBQXR1tZGbm4ucXFxD11hKC8WFRCK8gLp6enh5MmTOBwOWltbCQwMJDQ0lOb2doLgoab6LpeLK1fKqKqqIi0tjffffx+tVku2KUfQAAAgAElEQVRwcLBvhlNkZCQRERGsX7+e6OhobDYbx48fx+Vy8eabbxIaGvqsTlWZACogFOUF4PV6KSkpoaKigu7ubqSUxMTE0NLSQn9/P9oHWq45nU5KS0upqbnNokWL+OCDD9BoNISGhjIwMIDVaiU0NBSz2czq1atJTU3F4/FQVFTEnTt3WLVqFVOnTn12J6tMGBUQivKca29v5+TJkwwMDNDf309ISAh9fX00NTX9cScBQ44hLl++xN27d1m8OJ0PPvgAodFgDg7G5XLR19eHwWAgIiKCRYsWsWjRIoQQVFdXU1xcTFpamqozvGRUQCjKc8rj8XDx4kVu3bpFd3c3er0enU5HV1fXQ/vZ7XZKSkqor6/n9ddfH3loTYMDDcGGQKxWKxqNhri4OJKTk1m1ahVGo5H29nZyc3OZMmWKqjO8pFRAKMpzqLGxkVOnTtHd3Y3b7cZoNGK1Wh/aZ3BwkOLiYpqamli6dCmrVq0CIXB7wSYCCRMOPEM2YmJiiIqKYu3atURERDA4OMiJEydwOBxs2rSJsLCwZ3SWyrOmAkJRniNOp5OcnByqq6sZGBhAr9fjcrkear9ttVopKiqira2N5cuXs2bNGt9toYSEBDo7OwkYshMaEkp4eDirVq0iJSUFj8dDcXExNTU1rFq1Sq35rqiAUJTnxd27dzl58iS9vb3AcGHa4XD4Xh8YGKCwsJCuri6WL1/OunXrfMEQFxeH1WqlqakJvV5PQkICixcvZsGCBWg0GmpqaigsLGTBggXs27dP1RkUQAWEokx6drudEydOUFtbi9PpxOv1PvR6X18fBQUF9PX1kZGRQXJysu+1yMhIpJS+1d/i4uKYMWMGWVlZ6PV6Ojo6yM3NJSoqStUZlEeogFCUSayyspJTp05htVr58vLAPT09FBQUYLPZyMzMfKjFhclkwmQy+WoUUVFRxMfHY7FYCA0NxW63c/LkSex2Oxs3blR1BmVM4woIIUQmUC6ltAkh9gGLgJ9LKev8OjpFeUlZrVYOHTpEY2MjHs/DLTG6u7u5ePEiTqeTzMzMh9ZYCAgIICYmhp6eHtrb2zGZTEydOhWLxUJiYiIej4eSkhJu377NypUrH7raUJQvG+8VxD8DC4QQC4D/Dvwa+Hdglb8GpigvIyklpaWlnDlz5pF1nzs7O7l48SJer5fMzExiY2N9rwkhSEhI8NUZdDodsbGxZGRk8OqrryKEoLa2loKCAubPn8/evXvRaDQTfXrKc2a8AeGWUkohxDaGrxx+LYT4rj8Hpigvm56eHj755BN6enoe2t7e3s7FixfRaDRkZWURHR390OtxcXG+dt1SSiIjI5k/fz7Lly8nICCAzs5OcnJyiIyMfKhlt6I8yXgDYkAI8VPgfWCFEEILqFVAFOUp8Hq9HD9+nCtXrjy0vaWlhYKCAgICAli9ejWRkZEPvR4eHo5Wq6WzsxOXy4XZbCY1NRWLxYLZbMZut5OTk4PVamXDhg2Eh4dP5GkpL4DxBsRu4D3g+1LKViFEEvB3/huWorwcampq+PTTTx/a1tTUREFBAYGBgVgsFiIiIh56PSgoyNdQb3BwEL1eT3JyMhs3biQuLg6v18vly5epqqpixYoVpKSkTOAZKS+ScQXESCj8Hpg5sqkTOOy3USnKC66np4df//rX2Gw237aGhgYKCgowm81s2LDhkZlFOp2OqKgo7HY7nZ2dAERFRWGxWJgzZw5CCO7cuUNBQQHz5s1TdQblWxvvLKYfAR8CEUAqkAD8Cljrv6EpyotndHZSXd0fJwDev3+fwsJCIiIiePPNNx9ZqlMIQUxMDE6nk+7ublwuFyaTiWXLlrF06VJf/6WcnBzCw8MfWjNaUb6N8d5i+gtgCVACIKWsEULE+G1UivKCsdlsnDlzhmvXrgHDs5Xu3btHUVER0dHRbN26leDg4EfeFxkZidfrZWBgALvdjl6vZ/78+axfvx6TyYTD4SAnJ4eBgQHWrVv3yO0oRfk2xhsQQ1JK5+jj90IIHSAf9wYhhBG4ABhGfs4hKeX/LYSYBuxn+GrkCvD+yLENDE+dXQx0AbullPe//ikpyuQxODjI+fPnuXTpEjAcDLW1tZSUlBAXF8f27dsxmUyPvC8oKMi3otvg4CBSShISEtiyZQsxMTF4vV5KS0uprKxkxYoVTJs2baJPTXkJjDcgzgsh/gcQKIRYD/w5cOwJ7xkCLFJKqxAiAMgXQpwE/ivwv6WU+4UQvwJ+wPBzFj8AeqSUM4QQ7wJ/y3BxXFGeOw6HgwsXLlBUVAQMB0N1dTWXL18mMTGRnTt3EhgY+Mj7dDodwcHBvj5LQ0NDmM1mNm/ezKxZs4Dhnkz5+fnMnTuXffv2qTqD4jfjDYifMPwBfgP4U+AE8K+Pe4Mc7gsw2n84YOSPBCwMz4gC+Bj4nwwHxLaRvwMcAn4hhBDyy/0FFGUSGxoaoqCggPz8fKSUeL1eqqqqKC0tJSUlhV27do1ZHxBCEBYW5ntqerRTq8ViYfny5Wi1Wrq7u8nJySEkJETVGZQJMd6ACAR+I6X8F4CR5yACgcHHvWlkvzJgBvBPwB2gV0rpHtmlkeGCNyNfGwCklG4hRB8QyfCMKUWZ1JxOJ0VFRVy4cAGv14vX66WiooIrV64wY8YMdu/e/ZUPqI0WpfV6PV1dXUgpmTt3Lps3byYwMBCHw0Fubi69vb1YLJZHnodQFH8Zb0DkAOv44xVBIJANZDzuTVJKD5AmhAhjeFrsK2PtNvJ1rP7Cj1w9CCE+ZHhGlepXrzxzLpeLkpIS8vLy8Hg8eDwebt68ydWrV5k9e/aYHVKFEEgpMRgMBAQEEBwcTE9PD1arlaioKHbt2kVUVBRer5eysjIqKirIzMwkNTX1GZ2l8rIab0AYpZS+5apG6gpB4/0hUspeIUQesAwIE0LoRq4iEoHmkd0agalA40gRPBToHuNYHwEfAaSnp6vbT8oz4Xa7uXz5Mrm5ubjdbjweD9euXeP69evMnTuXvXv3EhAwdrMBIQSBgYGYzWZcLhetra0YDAZ2797tqzPcv3+fCxcu8Morr6g6g/LMjDcgbEKIRVLKKwBCiMWA/XFvEEJEA66RcAhk+Arkb4FzwDsMz2T6LnBk5C1HR74vGnk9V9UflMnG4/FQWlpKTk4OLpcLt9vN1atXqaio4NVXX2Xfvn3odF/9f6vAwEACAwMJCwujvr4egBUrVrBy5Uo0Gg09PT3k5OQQHBzMrl27xixkK8pEGW9A/BXwmRBi9Lf9OJ48wygO+HikDqEBDkop/yCEqAT2CyH+F3CV4c6wjHz9RAhRy/CVw7tf4zwUxa88Hg/l5eVkZ2fjdDpxuVxcuXKFW7dusWDBAt5//320Wu0j79NoNHi9XvR6PUajkZSUFKqrq+nt7WX69Om88847GAwGhoaGuHjxIt3d3VgsFqKiop7BWSrKw8R4f0kfmao6m+FaQZWU0vWEt/hdenq6LC0tfdbDUF5gXq+X69evc/LkSZxOJ06nk9LSUm7fvs2iRYuYN2/emMGg1WrxeDxotVoMBgOzZ8/m7t279Pf3ExISwt69e4mOjsbr9VJeXs6NGzfIzMxkxowZz+AslZeNEKJMSpn+pP0eewUhhLBIKXOFEG9/6aWZI4W2z7/VKBVlkpJScuPGDU6ePOl7HuHy5cvcuXOHxYsX88EHH4xZFxgtQI9eNcyaNYvBwUGuX7+ORqNh586dzJs3D4C6ujouXLjArFmz2Ldv35hBoyjP0pNuMa0CcoEtY7wmARUQygtFSkllZSXHjx/HbrfjcDgoKSmhrq6O119/nYyMjK8sGI+Gg1arJTk5maioKMrLy3G73SxevJg33ngDIQS9vb3k5OQQFBTEO++8o+oMyqT12IAYaY2hAU5KKQ9O0JgUZcKNPul87NgxBgcHGRwcpKSkhMbGRpYsWcLKlSsZbTXzZaPBIIQgKiqKxYsXk5+fz71794iLi+ODDz7AYDDgdDq5ePEinZ2dWCyWRxb+UZTJZlw1CCHEBSnlygkYz9eiahDKtyWlpKamhqNHj2Kz2bDZbBQVFdHa2sqyZctITU39ymB4kMlkwmKxcPnyZdrb2zEajezdu5f4+HiklFy7do1r166RkZHBzJkzn3g8RfGnp1KDeMAZIcR/Aw4Avgb2UspHnlNQlOeBlJK7d+/yxRdfYLVaGRgYoLCwkM7OTpYvX87atWufGAxCCLRaLWvXrqW5uZmTJ08ipWTjxo0sWbIEgPr6es6fP8/MmTNVnUF57ow3IL7PcM3hz7+0ffrTHY6i+N/9+/c5fPgw/f399Pf3U1BQQG9vLxkZGSQnJz/x/aPBsXjxYiIjIzl//jxDQ0PMmTOHd955B41GQ29vL7m5uRiNRnbu3ElQ0LifK1WUSWO8ATGX4XDIYjgoLjK8YJCiPDfq6+v5/e9/T39/P729vRQUFGC1WsnIyGDq1KlPfP9orWHq1KlkZmZy8uRJysrKCAsL48///M8xm804nU7y8/Npb2/HYrEQE6OWTVGeX+MNiI+BfuAfR77fM7LtO/4YlKI8TY2NjRw6dIi+vj66u7vJz8/H4XCQlZVFfHz8uI8THBzMjh07uHDhAgcPHkSj0fDuu+8ya9YsX52hvLycZcuWsWbNmnHVLhRlMhtvQMyWUi544PtzQohr/hiQojwtLS0tfPbZZ/T09NDZ2Ul+fj5ut5usrCxiY2PHdYzROsPmzZtpbW1l//79uN1ulixZwoYNGxBC0NDQwPnz50lNTVV1BuWFMt6AuCqEWCalLAYQQiwFCvw3LEX55tra2jh48CDd3d20t7eTn58PQFZW1rhv+QghEEKwaNEi4uPjOXv2LIODg8THx7Nv3z6MRiN9fX3k5uai1+vZsWPHmCvDKcrzbLwBsRT4QAhRP/J9EnBLCHGD4bWB5vtldIryNXR0dHDgwAG6urpobW0lPz8fnU7HypUrn9jbaLS+AMP9k2JjY1mzZg3Z2dlcuXIFo9HID3/4Q+Lj43G5XOTl5dHS0oLFYmHKlCkTcXqKMuHGGxCb/DoKRfkWurq6OHDgAB0dHTQ3N5Ofn4/RaMRisRARETGuY4w+6BYcHMz69eupqKjgwIEDSCnZsGEDS5cuRUrJ9evXuXr1KkuXLmXVqlWqzqC80MYVEFLKOn8PRFG+ji+uNvGLk+XMdtwkWuugsaGBwsJCgoOD2bBhA2FhYeM+lhCCoKAg0tLS0Gq1nDhxAqfTyaxZs9i5cyc6nY7Gxkby8vKYNm0ae/fufWxLb0V5Uaj/lSvPnQMFVVzIPkaWGKSuoY79RYWEhobxxhtv+JbvfJwHbyeZTCZiYmJ45ZVXyM/Px2q1EhISwocffkh4eDj9/f3k5uai1WrZvn07wcHB/j49RZk0VEAoz43+/n4OHjxIQ2Mj1vv3OFNURFRUNG+99RbBweaxF60dw+hyn+Hh4cyfP58bN25w+vRptFotO3bs4NVXX8XlcnH+/HmampqwWCzjnvWkKC8SFRDKpDcwMMBnn31GfX09d+7cobi4mNjYWLZt2/7wzCHJE0NCq9USHx9PTEwMDofDt5Z0Wloab775JkIIbt68SVlZ2ROb9CnKi04FhDJpDQ4OcvDgQe7fv8/t27e5dOkSiYmJvP322wQGjtG64gmf49OnT0dKyZQpU7h27RpDQ0NMmTKFPXv2YDabaWpqIi8vj+TkZFVnUBRUQCiTkN1u5+DBg9y9e5fq6mouX75McnLyQ2snjNWE+KvyITExEZ1OR1RUFLdv36ahoYGAgADee+89UlNTGRgY4MiRIwgh2LZtm6ozKMoIFRDKpOFwOPjss8+ora2lsrKSsrIyUlNT2b17NwaD4aF9hRi+ozR6W0nwcPEZIDQ0lOTkZFwuF/39/Vy9ehWAjIwMVq9ejdvt5sKFCzQ2NrJmzRri4uIm7FwV5XmgAkJ55pxOJ4cOHaKqqoqKigquXLnCrFmz2LNnD3q9/ivfJ0b+Q6PR4PV6feEQEBDA8uXLuX//Pg6Hg7q6OjweD1OnTmXXrl0YjUYqKyspLS0lPT2dFStWqDqDooxBBYTyzLhcLj777DOqqqq4fv06165d45VXXmHv3r0EBASM6xij4TAqMzOT9vZ22tra6OzsxOVyERgYyK5du0hMTKSlpYXc3FySkpJUnUFRnkD9v0OZcG63m0OHDlFRUUF5eTk3b95k3rx57Nu3b9wf2KO3k0bDYebMmUyZMoX6+nr6+vqw2+0IIbBYLCxduhSbzcbRo0eRUrJ161bMZrM/T1FRXggqIJQJ43a7+fzzz33tKiorK5k/fz7vv//+uDugfvl2UlhYGBaLhUuXLnH79m16e3uRUpKamsr27dvRarUUFBRQV1fHmjVrvlZ7b0V52amAUPzO4/Fw+PBhrl69SllZGdXV1SxcuPBrBcOo0SuGgIAANm/ezO3btyksLKSnpwcpJSEhIezatYvo6Ghu3brF5cuXWbx4MZmZmarOoChfkwoIxW+8Xi+HDx+mrKyM0tJSamtrWbRoER988AEajeYbHVMIwfLlywkODqawsJCBgQGklGg0GtavX8/ChQtpbW3ld7/7HYmJibz33nvjrmcoivIwFRDKU+f1ejly5AiXLl3i0qVL3L9/n/T0dN5///1vHAwAU6dOZcWKFeTl5dHX14fH48Hr9TJ37lw2b96Mw+Hg2LFjeL1e3nrrrXH1ZVIU5aupgFCeGiklR48epaioiOLiYhoaGliyZMm3nkYaHBzMli1bqKys5NixYzidToQQhIWFsWvXLkJCQigpKeHevXusWbOGhISEp3hWivLy8ltACCGmAv8OxAJe4CMp5c+FEBHAASAFuA98R0rZI4Y/QX4OvAkMAt+TUl7x1/iUp0dKybFjx8jPz6e4uJiWlhaWLl3K6tWrv1UwGAwGMjIyCA4O5vjx4zgcDvR6PTqdjs2bNzNnzhyqq6s5duwYixYtYu/evarOoChPkT+vINzA/yWlvCKEMANlQogzwPeAHCnl3wghfgL8BPgx8AYwc+TPUuCfR74qk5SUkj/84Q9cuHCBwsJCOjo6WL58ORaL5Vt9UGu1WqZNm0ZGRgbZ2dl0dXVhNBoRQvDqq6+yfv16Ojo62L9/P3FxcarOoCh+4reAkFK2AC0jfx8QQtwCEoBtwOqR3T4G8hgOiG3Av8vh+YvFQogwIUTcyHGUZ+SLq0383elqmnvtxIcF8tcbZ7MtLZ7jx49z7tw5CgsL6e7uJiMjgw0bNnzrnxcdHc3atWu5ffs2Bw4cQKPRoNPpCA8PZ9euXQghOHHiBG63mzfffJPQ0NCncJaKooxlQmoQQogUYCFQAkwZ/dCXUrYIIUZXkU8AGh54W+PINhUQz8gXV5v46ec3sLs8ADT12vnd4SNc+KSW/Px8BgYGyMzMZOrUqV/72F/umxQWFsaCBQuIiIjgyJEjuN1u31XDtm3bSE5OpqSkhLt377J69WoSExOf2nkqijI2vweEECIY+D3wV1LK/sfcehjrhUd6dgohPgQ+BEhKSnpaw1TG8Henq33hsEh7n6nWGvLP5HPTYSczM/MbFYO//KCbyWQiPj6ejIwMjh8/Tk9PD6GhodhsNhYtWsTKlSupqanht7/9LQsXLlR1BkWZQH4NCCFEAMPh8B9Sys9HNreN3joSQsQB7SPbG4EHfxVNBJq/fEwp5UfARwDp6eljNH1WnpbmXjuLNHUkDFSRn59PjdtFZmYmsbFxfNPP6NEH3XQ6HdHR0WRkZPgCwGQyodfrCQ8P54c//CEDAwMcPHjQt2bD4xr3KYry9PlzFpMAfg3cklL+fw+8dBT4LvA3I1+PPLD9Pwsh9jNcnO5T9Ydn58yZM7xpPUlBfj61Xi9ZWVnExEwZfvFrhsOXbyfFxcWRkpJCTEwMR48eRaPRYDKZ0Gq17Nq1i4iICHJzc3E6nbzxxhuqzqAoz4g/ryAygfeBG0KI8pFt/4PhYDgohPgBUA/sGnntBMNTXGsZnub6J34cm/IVzpw5w+HDh8nPz0ej0ZCVlUVUVPRD+4wnH0ZvA0kpfeEQHR1NSEgIy5cv5w9/+AOXLl0iIiICm83G8uXLSU9Pp7S0lHPnzrFq1Sp1C1FRnjEhx1qa6zmRnp4uS0tLn/UwXgg5OTl89tln5OfnYzAYyMzMJDIyEvjjwjxSwJOegx59UvrBFtwmk4mwsDAWLVpEdXU1tbW1hIeHY7PZmD59Olu3bqWuro6ioiIWLFjAggULVJ1BUfxICFEmpUx/0n7qSeqXXE5ODvv376egoACTycS6desIDw9/aJ/RhXme9JGt1WrxeDy+73U6HXFxccTExBAWFsaJEycwGo0EBwej0Wj4/ve/D8Dhw4eJiYlRdQZFmWRUQLykzp07x29/+1sKCgoIDQ1l06ZN3/hev06nw+12+8JBCEFCQgI6nY60tDSys7NxOp1ERkZis9lYs2YNs2bN4vz589jtdjZt2kRYWNjTPD1FUZ4CFRAvmZycHD755BOKioqIjIzkrbfe+saL52g0GqSUuN1u37awsDDMZjOvvPIKlZWVHD16lJiYGPr6+khMTGTDhg2Ul5fz+9//npUrV5KcnPy0Tk1RlKdMBcRLIi8vj9/85jcUFRUxZcoUtm7dSnBw8Dc+3pdvJxmNRuLi4jCZTBgMBs6ePYvZbCYwMBCNRsOPfvQjurq62L9/P/Pnz2ffvn2qzqAok5wKiBdcXl4e//Iv/0JJSQkJCQm8/fbbBAUFfePj6fV6nE6nLxxG6wwAycnJFBUVIaUkIiKCoaEhNm/eTHR0NNnZ2URGRvLuu+9iMBieyrkpiuJfKiBeUHl5efzqV7/i8uXLJCUl8c477xAYGPiNjzdaZ3A6nb5t4eHhBAcHk5CQwO3bt7l48SLR0dH09fUxc+ZMMjIyuHjxIpWVlWzYsOGR4reiKJObCogXTF5eHr/85S8pLS1l+vTpfOc738FoNH6rY2o0mofqDMHBwURFRaHX63G73Vy+fJmQkBAMBgMGg4E//dM/pbq6ms8//5yVK1eSkpLyLc9KUZRnQQXEC+LcuXP84he/4MqVK8yaNeupTBkdvWp4cB3oqKgoNBoNZrOZqqoqtFotZrMZr9fLzp07kVJy5MgRXn31Vfbt2/etVpBTFOXZUgExSYzVVnv7wic3wzt37hz/+I//SHl5OXPmzGHv3r3feG2E0ZYYowXo0asGrVZLcHAwISEhmM1m6urq6OjoIDw8nIGBAdLS0pg3bx65ubmEh4eze/duVWdQlBeACohJYKy22j/9/AbAV4ZETk4OP//5z7lx4wbz5s37VsHwICGErwCt0WgwGo1ERESg0Wiw2+20tbVhMpnwer2Ehoby7rvvcunSJfLy8li3bh0RERHfegyKokwOKiAmgQfbao+yuzz83enqRwLizJkz/MM//AOVlZW89tpr7Nu3D53um//XOHq1MNqGG4ZDwmg0EhgY6LsSaG1tRa/XYzAYEEKwZ88e2traOHbsGCtWrGDatGnfeAyKokxOKiAmgeZe+xO3nz17lr//+7+nqqqKtLQ03n//fbT/f3v3HhzVeR5+/PvsVbtahBC6WAKJiwTm0swY4ljIwtzBNr7WxNg0NInTqX+dX+Mm7kxat5P5NZ1OOp6xSZykGWdsJzgkMTaO7RLXSUxiY2yXBIPBKQmXQECAuAiEi0DX1Z59fn/s2bUkBJaQll3Y5zOzo7Nnz559Dkjn2fO+531er/eSPzN5u2oyKSR/FhQUEIvFKCwsREQ4ffo0Pp+PUChEd3c3c+bMobi4mI0bNzJt2jTrZzDmKmYJIgtUFIY42k+SqCgM8frrr7Nq1Sr279/PzJkz+exnPzukE7Lf78dxHKLRaK8y3CNGjMBxHILBIHl5eZw9exaAYDBIV1cX48aNo76+nnfffZeWlpZhuTvKGJPdrJprFujbBwEwLf4nott/xoEDB7j++uuZOnXqkBKDx+MhGAzS0dHRqznJ7/dTWFhIe3s7eXl5xGIxuru7U3cwRSIR7rjjDnbt2kVLSwsLFixIVXk1xlyZrJrrFSTZz/DY63vJP/k/dO9Yz97Dh7nhhhuor68fchNOKBSio6ODzs5O4KPmpJqaGo4cOYKq4vf7aW9vJxwO4zgOjuOwePFiYrEYb775JvX19VRXVw/tQI0xVxRLEFnC27gd3y8e58DRo9TW1jJ37twh1yoKh8N0dXWdd9Uwbtw4zp07x4kTJwgGg7S1tRGJRHAch9bWVqZPn87UqVPZvHkzU6dOtX4GY3KUJYgMW79+PY899hhNTU3U1dUxf/78ISeGUCiE4zi0t7f3msAnEokwfvx49u3bRzAYxHEc/H4/Xq+Xc+fOUVRUxJIlS9i6dSv79+/n3nvvHVJ5DmPMlc0SRIa8/PLLPP7445w+fZq6ujoWLVp0wcTQd07nCwkEAgQCAVpbW1P7isfjiAhz585l69atHDx4EBEhHo8zevRompub8fl8LF26lBMnTrBlyxYWLFhAcXHxsB6vMebKYwniMlu3bh2rVq2ipaWF+vr6i867nEwMH5ccPB4P4XCYtra28+5OmjlzJi0tLWzevBkRwePxUFFRQVNTE6dOnWLmzJkUFRWxfft26uvrWbx48bAerzHmymUJ4jJZu3Yt3/jGN2hra6O+vp6xY8decNuBJgZIzPfc2dlJa2tragIfVWX06NF86lOf4s0330REEBGKi4uJRqM0NjZSXl5ObW0t27Zto7CwkJUrVw5pXIUx5upjCSLNfvSjH/HNb36TaDRKfX09FRUVF9x2MIkhebdRW1tbr+Ykj8fDsmXL2LRpE7/+9a+BxBiHkpISDh06RDAY5LbbbmPfvn00NDQMuQy4MebqZQkiTZ599lmeeOIJ4vE4s2fPpqys7ILbDiYxJEtddHR0pLZP/rzppptwHIdXXnkFVSUvL4/Jkyezd+9eGhoamDVrFo7jsGl1okAAABLESURBVHv3bhYsWEBJScnwHKwx5qpkCWKYPf3003znO9/B4/Ewe/bsi56EB5MYfD4ffr+frq6u1O2qSRUVFSxatIiXXnqJjo4OfD4fNTU1nD59mp07dzJ+/HhqamrYs2cPN954I4sWLRrycRpjrn6WIIbJk08+yXe/+10CgQDz5s0b0GjjgSQGESEUCqXGM/Tk8/n43Oc+xzvvvMOPf/xjRITS0lLKysrYtWsX4XCYW265hV27dqGq1s9gjBkUSxBD9K1vfYunnnqKUCjEokWLhnVazVAoRCwWo7Oz87yrhoULFxKJRFizZg2xWIz8/Hw++clP8t577/Hhhx9y4403cvr0aZqamli2bNmQ5qE2xuQmSxCXaNWqVTzzzDOMGDGCm2++mZEjRw7bvvPy8ojH40Sj0dTcDEmVlZXccccdvPDCC5w+fRq/309tbS2HDx/m3Xffpbq6muLiYk6cOMGCBQsoLS0dtriMMbnFEsQgPfroo6xevZqioiKWLl1KQUHBsO3b5/MhIsRiMRzH6dUEFQgEeOCBB3j//ff53ve+B8CECRMoLS1l27ZtRCIR5s6dy4EDBxg3btxFB94ZY8xApC1BiMgPgNuBk6r6Z+66IuAFYDzQACxX1f+VxJnsW8BSoB34vKpuT1dsg6WqfP3rX2fNmjWUlJRw5513EolEhm3/IoLf7091WCen+kxauHAhpaWlrF69mmg0yogRI7jpppvYuHEjR93aTceOHcPn81k/gzFm2KTzCuJZ4D+ANT3WPQK8oaqPisgj7vN/BG4FJrmPWuBJ92dGqSpf+9rXeO655ygvL+fuu+8mPz9/WD8jGAwSj8dTiaHnVUNFRQXLly9n7dq1nDx5Eo/Hw8KFC9m9ezevv/46NTU1qTubli1bNuyxGWNyW9oShKq+LSLj+6y+C5jnLv8QeItEgrgLWKOJs+NvRaRQRMpV9Xi64ruYeDzOV7/6VV544QWqqqpYtmzZsA8mCwQCqcQQj8d79TUEAgG+8IUv8MEHH/Dtb38bVaWmpobS0lLeeustCgoKUiU0Pm6MhTHGXKrL3QdRljzpq+pxEUn2oI4BjvTYrtFdd1kThOM4PPLII7z00ktMmDAhLbOmeb3eVN+Ax+MhGo32en3evHmUl5ezevVqurq6iEQiLF68mF/+8pccOnSIGTNm0NzczMSJE7n22mutn8EYkzbZ0knd31mu30ECIvIg8CBw0UJ3gxGLxfjKV77C+vXrqamp4f777ycYDA7LvpOShfJ8vsQ/eVdXV2q9qnLNNdfw6U9/mhdffJFNmzYBsGjRIvbs2cP69euprq7GcRxGjRrFzTffnNqPMcaky+U+yzQlm45EpBw46a5vBCp7bDcWONbfDlT1KeApSEw5OpRguru7efjhh3nttde49tprWbFiBYFAYCi7BM4vz+3z+fB4PIgIjuMQi8VS2/j9flasWMHOnTt58skncRyHCRMmUF5ezsaNGykoKGDy5Mnk5+czf/5862cwxlw2lztB/Az4HPCo+3N9j/VfFJHnSXROt6Sz/yEajfLQQw+xYcMGpk2bxmc+8xn8fv+w7T+ZHHomBo/H02sktKoya9YsysrKeP7554lGowSDQW6//XY2bNjA0aNHmTJlCtFolLlz53LNNdcMW3zGGDMQ6bzNdS2JDuliEWkE/oVEYlgnIn8FHAbudTf/OYlbXPeTuM31gXTFBbBt2zaamppYuXLlJTfV9LxK6LucTAgejyc1gQ8k+h8cx6G4uJilS5fy2muvsXXrVuLxOHV1dRw6dIhXX32VqqoqVJXp06czZcoU62cwxmREOu9iWnGBlxb2s60Cf5uuWPrKy8tjxowZl/TengX2ek7nmeT1elOPjo4OotFoaj5oj8fDnXfeya5du3juueeIxWKUlpYyfvx4tmzZwogRI6iqqqKmpoba2lrrZzDGZFROnoGGMvo5eaWQPOnDR1cNgUAg9Xp7e3tqO4BPfOITjBo1il/84hdEo1F8Ph/z58/nN7/5DTt27KCyspKioiLmz58/rIPwjDHmUuVkghhIFdX+JJt6kmMXkonB7/cTj8fx+/2cO3cOAL/fT3d3NyNHjqSuro7Nmzeze/du4vE4kyZNoqWlhU2bNlFWVkY4HGbhwoWUl5cP2zEaY8xQ5WSC6K8URd87j/q+1rdpKR6Ppwa7BYNBzp49S3d3N4FAIDUv9Jw5czh48CBvvPEG3d3dRCIRqqqq2L17N+FwmIqKCurq6pg6dar1Mxhjsk5OJoieg9/6m7Qnua7nSTvZh6CqeL1efD4fPp+PaDTK2bNnU0nEcRwmTpxIOBxmx44dtLe34/P5mDJlCgcOHGDPnj0UFxczffp06urqrJ/BGJO1cvLs5Pf7Uyf7/hJDcllEzksMyXESHo+HtrY2IFFPKRqNEolEmDRpEg0NDRw+fBiPx8Po0aOJx+Ps3buXkSNHUlVVxYIFCxgxYsTlP3BjjBmEnEwQXq/3vAl4kpLjFuLxeKqfARJXHY7j4Pf7aW1tRVUJBoOpEdFTpkzhzJkz7Nq1i+7ubsLhMCNHjuT48eP4/X7Gjh3LkiVLqKiouGzHaYwxQ5GTCaKzsxPofcXQs1/CcZzUmIVgMJhKDN3d3Zw7dy6VYBzHoaysjGAwyMmTJzlz5gzhcJiCggLOnDnD8ePHKSwsZN68eUybNs36GYwxV5ScTBDJZqJkh3PyVtRkYoBEM5SI4PV6UdXU3Ul5eXmp5qSioiJisRjHjh3D7/dTUFBALBajubmZUCjErFmzqK+vH9ZR2sYYc7nkZILw+/34fL5UE5LjOL36GZIJIxAI0NnZieM4hEIhurq68Hg8lJSU4Pf7aW5uJhaLUVRURFdXV+rqYvLkydx6663Wz2CMuaLlZILoqefAt2SzUl5eHl1dXXR2dqbqKTmOQyQSIRQKISKcOHGCgoICfD4fZ86cIR6PM2rUKO666y7GjBmT4aMyxpihy8kE0bMDWlUJBALEYjHy8vKIxWK0trYiIgSDQWKxGOFwmEAgwKhRozh8+DCBQIDi4mI+/PBDHMchEAhwyy23cN1111k/gzHmqpGTCSJ5Evf5fKl+B6/X26s5KRqN4vf78fv9lJWV0dTUxNGjRykvL+fkyZOcOnUKj8fDjBkzWLJkifUzGGOuOjmZIOCjTujk1UMyIQCp0dGRSASPx8ORI0coKCggHo9z9OhRAMrKyli+fDkjR47M5GEYY0za5GSCSF4ZxONx2tvbe9VTSvYxjBkzhoaGBvx+P5WVlTQ0NKCq5OXlcc8991BdXZ3pwzDGmLTKyQTR3d1NR0dHr3EOwWCQ7u5uKisraWxs5NChQ5SXl3P8+HEOHjyIx+Ohvr6eefPmWT+DMSYn5GSCSN7Omiyn4fV6U01FDQ0NhMNh8vPzaWhowOPxUFVVxX333derhpMxxlztcjJBJJNDIBDA6/VSUVFBY2MjHo+HyspK9u/fD0A4HOb+++9n7NixGY7YGGMuv5xMEMl6S1VVVTQ1NXHkyBFKSkpobm5m3759eDwe5s+fT319faZDNcaYjMnJBJEc09DY2Ijf76eoqIjDhw8jIkycOJHly5enynEYY0yuyskEEY1GaW9vp6ysjEOHDnHmzBny8/NZsWKFVVs1xhhXTiYIn8+HqnLgwAG8Xi9LliyhtrbW7k4yxpgecjJBnD17ltbWVqqrq7nnnnsIhUKZDskYY7JOTiaIkpISHnzwQcrKyjIdijHGZC1PpgPIBBGx5GCMMR8jJxOEMcaYj2cJwhhjTL8sQRhjjOlXViUIEblFRPaKyH4ReSTT8RhjTC7LmgQhIl7gu8CtwDRghYhMy2xUxhiTu7ImQQA3APtV9YCqRoHngbsyHJMxxuSsbEoQY4AjPZ43uuuMMcZkQDYliP7qXOh5G4k8KCLbRGTbqVOnLkNYxhiTm7JpJHUjUNnj+VjgWN+NVPUp4CkAETklIocu8fOKgeZLfG86WVyDY3ENXrbGZnENzlDiGjeQjUT1vC/pGSEiPuCPwELgKLAV+AtV/UOaPm+bql6fjn0PhcU1OBbX4GVrbBbX4FyOuLLmCkJVYyLyReB1wAv8IF3JwRhjzMfLmgQBoKo/B36e6TiMMcZkVyf15fZUpgO4AItrcCyuwcvW2CyuwUl7XFnTB2GMMSa75PIVhDHGmIvIyQSRjTWfROQHInJSRH6f6Vh6EpFKEdkoIrtF5A8i8qVMxwQgInki8p6I/M6N618zHVNPIuIVkR0i8l+ZjiVJRBpEZKeIfCAi2zIdT5KIFIrIT0Vkj/t7VpcFMV3r/jslH2dF5MuZjgtARB52f+d/LyJrRSQvbZ+Va01Mbs2nPwKLSYy92AqsUNVdGY5rDtAKrFHVP8tkLD2JSDlQrqrbRWQE8D5wdxb8ewmQr6qtIuIH3gW+pKq/zWRcSSLy98D1QIGq3p7peCCRIIDrVTWr7ukXkR8C76jqMyISAMKqeibTcSW554yjQK2qXuq4q+GKZQyJ3/VpqtohIuuAn6vqs+n4vFy8gsjKmk+q+jbwYabj6EtVj6vqdnf5HLCbLCiBogmt7lO/+8iKbzsiMha4DXgm07FkOxEpAOYA3wdQ1Wg2JQfXQuBPmU4OPfiAkDt2LEw/A4qHSy4mCKv5dIlEZDwwA9iS2UgS3GacD4CTwK9UNSviAp4A/gGIZzqQPhTYICLvi8iDmQ7GNRE4Bax2m+SeEZH8TAfVx/3A2kwHAaCqR4HHgcPAcaBFVTek6/NyMUEMqOaT6U1EIsBLwJdV9Wym4wFQVUdVryNRluUGEcl405yI3A6cVNX3Mx1LP+pVdSaJkvp/6zZrZpoPmAk8qaozgDYgK/oFAdwmrzuBFzMdC4CIjCLR4jEBqADyRWRluj4vFxPEgGo+mY+4bfwvAT9R1ZczHU9fbpPEW8AtGQ4FoB64023vfx5YICI/zmxICap6zP15EniFRHNrpjUCjT2u/n5KImFki1uB7aralOlAXIuAg6p6SlW7gZeBG9P1YbmYILYCk0Rkgvvt4H7gZxmOKWu5ncHfB3ar6jcyHU+SiJSISKG7HCLxh7Mns1GBqv6Tqo5V1fEkfrfeVNW0fcMbKBHJd28ywG3CWQJk/I45VT0BHBGRa91VC4GM3gDRxwqypHnJdRiYJSJh929zIYl+wbTIqlIbl0O21nwSkbXAPKBYRBqBf1HV72c2KiDxjfgvgZ1uez/AP7tlUTKpHPihe4eJB1inqllzS2kWKgNeSZxT8AHPqeovMxtSykPAT9wvbAeABzIcDwAiEiZxt+P/yXQsSaq6RUR+CmwHYsAO0jiiOuduczXGGDMwudjEZIwxZgAsQRhjjOmXJQhjjDH9sgRhjDGmX5YgjDHG9MsShDEuEXlLRNI+97CI/J1btfQn6f4sY4Yi58ZBGJMOIuJT1dgAN/+/wK2qenCY9mdMWtgVhLmiiMh499v3025N/A3uSOpeVwAiUuyWu0BEPi8i/ykir4rIQRH5ooj8vVsc7rciUtTjI1aKyGa31v4N7vvz3fk6trrvuavHfl8UkVeB8wqmuZ/xe/fxZXfd90gUqPuZiDzcZ/te+5OEx9z37xSR+9ztLrR+nohsEpF1IvJHEXlURD4jiXkzdopItbvdve57fycibw/f/4656qiqPexxxTyA8SRGkF7nPl8HrHSX3yIx3wFAMdDgLn8e2A+MAEqAFuBv3Ne+SaIAYfL9T7vLc4Dfu8v/3uMzCknMJ5Lv7rcRKOonzk8CO93tIsAfgBnuaw1AcT/v6bU/YBnwKxIj/stIlFkov8j6ecAZdzlIYg6Df3X39SXgCXd5JzAmeTyZ/j+1R/Y+7ArCXIkOqmqy7Mf7JJLGx9moqudU9RSJBPGqu35nn/evhdT8HAVuvaclwCNuqZG3gDygyt3+V6ra3zwes4FXVLVNE/NWvAzcNIA4e+5vNrBWE1Vrm4BNwKcush5gqybm8OgC/sRHVzY9j/O/gWdF5K9JJBlj+mV9EOZK1NVj2QFC7nKMj5pN+07D2PM98R7P4/T+O+hbe0ZJlIhfpqp7e74gIrUkylP3p7+y8gPRc38X2sfF9v2xx6mqf+PGfhvwgYhcp6qnLzFecxWzKwhzNWkg0bQD8OlL3EeyPX82iclYWkgUdnzIrZ6JiMwYwH7eBu52q27mA38OvDPIWN4G7pPExEglJJq93rvI+gERkWpV3aKq/w9opnf5e2NS7ArCXE0eB9aJyF8Cb17iPv5XRDYDBcAX3HX/RmKWuP9xk0QDcNF5pjUxh/ezfHTifkZVdwwylleAOuB3JK5k/kFVT4jIhdZPGeB+HxORSSSuRN5w92PMeayaqzHGmH5ZE5Mxxph+WYIwxhjTL0sQxhhj+mUJwhhjTL8sQRhjjOmXJQhjjDH9sgRhjDGmX5YgjDHG9Ov/Ayn3FXUX4OXfAAAAAElFTkSuQmCC\n",
=======
      "image/png": "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\n",
>>>>>>> 1ed62144c127f4440bee2030c9fc2f4100026439
      "text/plain": [
       "<Figure size 432x288 with 1 Axes>"
      ]
     },
     "metadata": {
      "needs_background": "light"
     },
     "output_type": "display_data"
    }
   ],
   "source": [
<<<<<<< HEAD
    "import random as rd\n",
    "random.seed(0)\n",
    "def linear_regression(features, labels, learning_rate=0.01, epochs = 1000):\n",
    "    price_per_room = random.random()\n",
    "    base_price = random.random()\n",
    "    num_printed_lines = 100\n",
    "    for i in range(epochs):\n",
    "        if i>50 and i % (epochs/num_printed_lines) == 0:\n",
    "            draw_line(price_per_room, base_price)\n",
    "        i = random.randint(0, len(features)-1)\n",
    "        num_rooms = features[i]\n",
    "        price = labels[i]\n",
    "#        price_per_room, base_price = simple_trick(base_price,\n",
    "#        price_per_room, base_price = absolute_trick(base_price,\n",
    "        price_per_room, base_price = square_trick(base_price,\n",
    "                                                  price_per_room,\n",
    "                                                  num_rooms,\n",
    "                                                  price,\n",
    "                                                  learning_rate=learning_rate)\n",
    "    draw_line(price_per_room, base_price, 'black')\n",
    "    plot_points(features, labels)\n",
    "    print('Price per room:', price_per_room)\n",
    "    print('Base price:', base_price)\n",
    "    return price_per_room, base_price\n",
    "linear_regression(features, labels, learning_rate = 0.01, epochs = 1000)"
=======
    "linear_regression(features, labels, learning_rate = 0.01, epochs = 10000)"
>>>>>>> 1ed62144c127f4440bee2030c9fc2f4100026439
   ]
  },
  {
   "cell_type": "code",
   "execution_count": null,
   "metadata": {},
   "outputs": [],
   "source": []
  },
  {
   "cell_type": "code",
   "execution_count": null,
   "metadata": {},
   "outputs": [],
   "source": []
<<<<<<< HEAD
=======
  },
  {
   "cell_type": "code",
   "execution_count": null,
   "metadata": {},
   "outputs": [],
   "source": []
>>>>>>> 1ed62144c127f4440bee2030c9fc2f4100026439
  }
 ],
 "metadata": {
  "kernelspec": {
   "display_name": "Python 2",
   "language": "python",
   "name": "python2"
  },
  "language_info": {
   "codemirror_mode": {
    "name": "ipython",
    "version": 2
   },
   "file_extension": ".py",
   "mimetype": "text/x-python",
   "name": "python",
   "nbconvert_exporter": "python",
   "pygments_lexer": "ipython2",
   "version": "2.7.15"
  }
 },
 "nbformat": 4,
 "nbformat_minor": 2
}
