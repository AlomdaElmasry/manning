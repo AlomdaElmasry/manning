{
 "cells": [
  {
   "cell_type": "code",
   "execution_count": null,
   "metadata": {},
   "outputs": [],
   "source": [
    "import turicreate\n",
    "import numpy as np\n",
    "import pandas as pd\n",
    "titanic_data = turicreate.SFrame('TitanicData')\n",
    "#titanic_data = turicreate.SFrame('https://web.stanford.edu/class/archive/cs/cs109/cs109.1166/stuff/titanic.csv')"
   ]
  },
  {
   "cell_type": "code",
   "execution_count": null,
   "metadata": {},
   "outputs": [],
   "source": [
    "features = [x for x in titanic_data.column_names() if x != 'Survived' and x != 'Name']\n",
    "features"
   ]
  },
  {
   "cell_type": "code",
   "execution_count": null,
   "metadata": {},
   "outputs": [],
   "source": [
    "reduced_features = ['Pclass', 'Sex', 'Age', 'Siblings/Spouses Aboard', 'Parents/Children Aboard', 'Fare']"
   ]
  },
  {
   "cell_type": "code",
   "execution_count": null,
   "metadata": {},
   "outputs": [],
   "source": [
    "titanic_decision_tree_model = turicreate.decision_tree_classifier.create(titanic_data, features=features, target='Survived')"
   ]
  },
  {
   "cell_type": "code",
   "execution_count": null,
   "metadata": {},
   "outputs": [],
   "source": [
    "titanic_decision_tree_model.evaluate(titanic_data)['auc']"
   ]
  },
  {
   "cell_type": "code",
   "execution_count": null,
   "metadata": {},
   "outputs": [],
   "source": [
    "titanic_decision_tree_model.predict(titanic_data[0:10])"
   ]
  },
  {
   "cell_type": "code",
   "execution_count": null,
   "metadata": {},
   "outputs": [],
   "source": [
    "titanic_data['Survived'][:10]"
   ]
  },
  {
   "cell_type": "code",
   "execution_count": null,
   "metadata": {},
   "outputs": [],
   "source": [
    "titanic_decision_tree_model"
   ]
  },
  {
   "cell_type": "code",
   "execution_count": null,
   "metadata": {},
   "outputs": [],
   "source": [
    "import networkx as nx\n",
    "import matplotlib.pyplot as plt\n",
    "from turicreate import SGraph, Vertex, Edge\n",
    "\n",
    "# construct an SGraph (skip this if you already have one)\n",
    "sg = SGraph()\n",
    "sg = sg.add_vertices([Vertex(i) for i in range(10)])\n",
    "sg = sg.add_edges([Edge(i, i+1) for i in range(9)])\n",
    "\n",
    "# convert to NetworkX graph\n",
    "g = nx.Graph()\n",
    "g.add_nodes_from(sg.vertices['__id'])\n",
    "g.add_edges_from(sg.edges.apply(lambda row: [v for (k,v) in row.items()]))\n",
    "\n",
    "# Draw it and show on screen\n",
    "nx.draw(g)\n",
    "plt.show()"
   ]
  },
  {
   "cell_type": "code",
   "execution_count": null,
   "metadata": {},
   "outputs": [],
   "source": [
    "info = titanic_decision_tree_model.trees_json"
   ]
  },
  {
   "cell_type": "code",
   "execution_count": null,
   "metadata": {},
   "outputs": [],
   "source": [
    "print tree['vertices'][0]\n",
    "print tree['edges'][0]"
   ]
  },
  {
   "cell_type": "code",
   "execution_count": null,
   "metadata": {},
   "outputs": [],
   "source": [
    "tree = {\"vertices\":[{\"id\":0,\"name\":\"Sex=male\",\"type\":\"indicator\",\"value\":1,\"value_hexadecimal\":\"000028B7\",\"gain\":232.40239,\"cover\":211.5,\"missing_child\":1,\"yes_child\":2,\"no_child\":1},{\"id\":1,\"name\":\"Pclass\",\"type\":\"integer\",\"value\":2.5,\"value_hexadecimal\":\"00002040\",\"gain\":56.444885,\"cover\":74.75,\"missing_child\":3,\"yes_child\":3,\"no_child\":4},{\"id\":3,\"name\":\"Cabin=C22 C26\",\"type\":\"indicator\",\"value\":1,\"value_hexadecimal\":\"000028B7\",\"gain\":5.721062,\"cover\":40.25,\"missing_child\":7,\"yes_child\":8,\"no_child\":7},{\"id\":7,\"name\":\"Ticket=11668\",\"type\":\"indicator\",\"value\":1,\"value_hexadecimal\":\"000028B7\",\"gain\":2.792515,\"cover\":39.75,\"missing_child\":15,\"yes_child\":16,\"no_child\":15},{\"id\":15,\"name\":\"Ticket=PC 17595\",\"type\":\"indicator\",\"value\":1,\"value_hexadecimal\":\"000028B7\",\"gain\":2.837145,\"cover\":39.5,\"missing_child\":27,\"yes_child\":28,\"no_child\":27},{\"id\":27,\"name\":\"Ticket=248747\",\"type\":\"indicator\",\"value\":1,\"value_hexadecimal\":\"000028B7\",\"gain\":2.882608,\"cover\":39.25,\"missing_child\":45,\"yes_child\":46,\"no_child\":45},{\"id\":45,\"type\":\"leaf\",\"value\":1.85,\"value_hexadecimal\":\"CDCCEC3F\",\"gain\":0,\"cover\":39},{\"id\":46,\"type\":\"leaf\",\"value\":-0.4,\"value_hexadecimal\":\"CDCCCCBE\",\"gain\":0,\"cover\":0.25},{\"id\":28,\"type\":\"leaf\",\"value\":-0.4,\"value_hexadecimal\":\"CDCCCCBE\",\"gain\":0,\"cover\":0.25},{\"id\":16,\"type\":\"leaf\",\"value\":-0.4,\"value_hexadecimal\":\"CDCCCCBE\",\"gain\":0,\"cover\":0.25},{\"id\":8,\"type\":\"leaf\",\"value\":-0.666667,\"value_hexadecimal\":\"ABAA2ABF\",\"gain\":0,\"cover\":0.5},{\"id\":4,\"name\":\"Fare\",\"type\":\"float\",\"value\":23.35,\"value_hexadecimal\":\"CDCCBA41\",\"gain\":16.781609,\"cover\":34.5,\"missing_child\":9,\"yes_child\":9,\"no_child\":10},{\"id\":9,\"name\":\"Age\",\"type\":\"float\",\"value\":19.5,\"value_hexadecimal\":\"00009C41\",\"gain\":4.685058,\"cover\":28,\"missing_child\":17,\"yes_child\":17,\"no_child\":18},{\"id\":17,\"name\":\"Ticket=349909\",\"type\":\"indicator\",\"value\":1,\"value_hexadecimal\":\"000028B7\",\"gain\":2.531034,\"cover\":14,\"missing_child\":29,\"yes_child\":30,\"no_child\":29},{\"id\":29,\"name\":\"Ticket=2665\",\"type\":\"indicator\",\"value\":1,\"value_hexadecimal\":\"000028B7\",\"gain\":2.807061,\"cover\":13.5,\"missing_child\":47,\"yes_child\":48,\"no_child\":47},{\"id\":47,\"type\":\"leaf\",\"value\":0.928571,\"value_hexadecimal\":\"DBB66D3F\",\"gain\":0,\"cover\":13},{\"id\":48,\"type\":\"leaf\",\"value\":-0.666667,\"value_hexadecimal\":\"ABAA2ABF\",\"gain\":0,\"cover\":0.5},{\"id\":30,\"type\":\"leaf\",\"value\":-0.666667,\"value_hexadecimal\":\"ABAA2ABF\",\"gain\":0,\"cover\":0.5},{\"id\":18,\"name\":\"Fare\",\"type\":\"float\",\"value\":15.675,\"value_hexadecimal\":\"CDCC7A41\",\"gain\":3.324638,\"cover\":14,\"missing_child\":31,\"yes_child\":31,\"no_child\":32},{\"id\":31,\"name\":\"Fare\",\"type\":\"float\",\"value\":7.7,\"value_hexadecimal\":\"6666F640\",\"gain\":4.037267,\"cover\":10.5,\"missing_child\":49,\"yes_child\":49,\"no_child\":50},{\"id\":49,\"type\":\"leaf\",\"value\":1,\"value_hexadecimal\":\"0000803F\",\"gain\":0,\"cover\":1},{\"id\":50,\"type\":\"leaf\",\"value\":-0.571429,\"value_hexadecimal\":\"254912BF\",\"gain\":0,\"cover\":9.5},{\"id\":32,\"name\":\"PassengerId\",\"type\":\"integer\",\"value\":564,\"value_hexadecimal\":\"00000D44\",\"gain\":1.409524,\"cover\":3.5,\"missing_child\":51,\"yes_child\":51,\"no_child\":52},{\"id\":51,\"type\":\"leaf\",\"value\":0.933333,\"value_hexadecimal\":\"EFEE6E3F\",\"gain\":0,\"cover\":2.75},{\"id\":52,\"type\":\"leaf\",\"value\":-0.285714,\"value_hexadecimal\":\"254992BE\",\"gain\":0,\"cover\":0.75},{\"id\":10,\"name\":\"Ticket=347077\",\"type\":\"indicator\",\"value\":1,\"value_hexadecimal\":\"000028B7\",\"gain\":4.619048,\"cover\":6.5,\"missing_child\":19,\"yes_child\":20,\"no_child\":19},{\"id\":19,\"name\":\"Parch\",\"type\":\"integer\",\"value\":0.5,\"value_hexadecimal\":\"0000003F\",\"gain\":2.506877,\"cover\":6,\"missing_child\":33,\"yes_child\":33,\"no_child\":34},{\"id\":33,\"type\":\"leaf\",\"value\":0.4,\"value_hexadecimal\":\"CDCCCC3E\",\"gain\":0,\"cover\":0.25},{\"id\":34,\"type\":\"leaf\",\"value\":-1.703704,\"value_hexadecimal\":\"F712DABF\",\"gain\":0,\"cover\":5.75},{\"id\":20,\"type\":\"leaf\",\"value\":0.666667,\"value_hexadecimal\":\"ABAA2A3F\",\"gain\":0,\"cover\":0.5},{\"id\":2,\"name\":\"Cabin=\",\"type\":\"indicator\",\"value\":1,\"value_hexadecimal\":\"000028B7\",\"gain\":25.986063,\"cover\":136.75,\"missing_child\":5,\"yes_child\":6,\"no_child\":5},{\"id\":5,\"name\":\"Age\",\"type\":\"float\",\"value\":18,\"value_hexadecimal\":\"00009041\",\"gain\":7.513611,\"cover\":25.75,\"missing_child\":11,\"yes_child\":11,\"no_child\":12},{\"id\":11,\"type\":\"leaf\",\"value\":1.272727,\"value_hexadecimal\":\"BAE8A23F\",\"gain\":0,\"cover\":1.75},{\"id\":12,\"name\":\"PassengerId\",\"type\":\"integer\",\"value\":361.5,\"value_hexadecimal\":\"00C0B443\",\"gain\":4.49,\"cover\":24,\"missing_child\":21,\"yes_child\":21,\"no_child\":22},{\"id\":21,\"name\":\"Age\",\"type\":\"float\",\"value\":42,\"value_hexadecimal\":\"00002842\",\"gain\":2.273504,\"cover\":9,\"missing_child\":35,\"yes_child\":35,\"no_child\":36},{\"id\":35,\"name\":\"PassengerId\",\"type\":\"integer\",\"value\":100.5,\"value_hexadecimal\":\"0000C942\",\"gain\":2.215384,\"cover\":5.5,\"missing_child\":53,\"yes_child\":53,\"no_child\":54},{\"id\":53,\"type\":\"leaf\",\"value\":0.4,\"value_hexadecimal\":\"CDCCCC3E\",\"gain\":0,\"cover\":1.5},{\"id\":54,\"type\":\"leaf\",\"value\":-0.8,\"value_hexadecimal\":\"CDCC4CBF\",\"gain\":0,\"cover\":4},{\"id\":36,\"type\":\"leaf\",\"value\":-1.555556,\"value_hexadecimal\":\"721CC7BF\",\"gain\":0,\"cover\":3.5},{\"id\":22,\"name\":\"Fare\",\"type\":\"float\",\"value\":7.9,\"value_hexadecimal\":\"CDCCFC40\",\"gain\":3.418966,\"cover\":15,\"missing_child\":37,\"yes_child\":37,\"no_child\":38},{\"id\":37,\"type\":\"leaf\",\"value\":-1.2,\"value_hexadecimal\":\"9A9999BF\",\"gain\":0,\"cover\":1.5},{\"id\":38,\"name\":\"Age\",\"type\":\"float\",\"value\":57,\"value_hexadecimal\":\"00006442\",\"gain\":3.164546,\"cover\":13.5,\"missing_child\":55,\"yes_child\":55,\"no_child\":56},{\"id\":55,\"type\":\"leaf\",\"value\":0.27451,\"value_hexadecimal\":\"8D8C8C3E\",\"gain\":0,\"cover\":11.75},{\"id\":56,\"type\":\"leaf\",\"value\":-0.909091,\"value_hexadecimal\":\"2FBA68BF\",\"gain\":0,\"cover\":1.75},{\"id\":6,\"name\":\"Title=Master.\",\"type\":\"indicator\",\"value\":1,\"value_hexadecimal\":\"000028B7\",\"gain\":13.036436,\"cover\":111,\"missing_child\":13,\"yes_child\":14,\"no_child\":13},{\"id\":13,\"name\":\"Ticket=1601\",\"type\":\"indicator\",\"value\":1,\"value_hexadecimal\":\"000028B7\",\"gain\":9.756483,\"cover\":103.25,\"missing_child\":23,\"yes_child\":24,\"no_child\":23},{\"id\":23,\"name\":\"Ticket=244373\",\"type\":\"indicator\",\"value\":1,\"value_hexadecimal\":\"000028B7\",\"gain\":2.412802,\"cover\":101.5,\"missing_child\":39,\"yes_child\":40,\"no_child\":39},{\"id\":39,\"name\":\"Ticket=2677\",\"type\":\"indicator\",\"value\":1,\"value_hexadecimal\":\"000028B7\",\"gain\":2.428561,\"cover\":101.25,\"missing_child\":57,\"yes_child\":58,\"no_child\":57},{\"id\":57,\"type\":\"leaf\",\"value\":-1.598039,\"value_hexadecimal\":\"8D8CCCBF\",\"gain\":0,\"cover\":101},{\"id\":58,\"type\":\"leaf\",\"value\":0.4,\"value_hexadecimal\":\"CDCCCC3E\",\"gain\":0,\"cover\":0.25},{\"id\":40,\"type\":\"leaf\",\"value\":0.4,\"value_hexadecimal\":\"CDCCCC3E\",\"gain\":0,\"cover\":0.25},{\"id\":24,\"name\":\"PassengerId\",\"type\":\"integer\",\"value\":760,\"value_hexadecimal\":\"00003E44\",\"gain\":0.181818,\"cover\":1.75,\"missing_child\":41,\"yes_child\":41,\"no_child\":42},{\"id\":41,\"name\":\"PassengerId\",\"type\":\"integer\",\"value\":340,\"value_hexadecimal\":\"0000AA43\",\"gain\":0.285714,\"cover\":1.25,\"missing_child\":59,\"yes_child\":59,\"no_child\":60},{\"id\":59,\"type\":\"leaf\",\"value\":0,\"value_hexadecimal\":\"00000080\",\"gain\":0,\"cover\":0.5},{\"id\":60,\"type\":\"leaf\",\"value\":0.857143,\"value_hexadecimal\":\"B76D5B3F\",\"gain\":0,\"cover\":0.75},{\"id\":42,\"name\":\"PassengerId\",\"type\":\"integer\",\"value\":833,\"value_hexadecimal\":\"00405044\",\"gain\":0.4,\"cover\":0.5,\"missing_child\":61,\"yes_child\":61,\"no_child\":62},{\"id\":61,\"type\":\"leaf\",\"value\":-0.4,\"value_hexadecimal\":\"CDCCCCBE\",\"gain\":0,\"cover\":0.25},{\"id\":62,\"type\":\"leaf\",\"value\":0.4,\"value_hexadecimal\":\"CDCCCC3E\",\"gain\":0,\"cover\":0.25},{\"id\":14,\"name\":\"SibSp\",\"type\":\"integer\",\"value\":2,\"value_hexadecimal\":\"00000040\",\"gain\":21.320396,\"cover\":7.75,\"missing_child\":25,\"yes_child\":25,\"no_child\":26},{\"id\":25,\"type\":\"leaf\",\"value\":1.529412,\"value_hexadecimal\":\"C4C3C33F\",\"gain\":0,\"cover\":3.25},{\"id\":26,\"name\":\"Ticket=347077\",\"type\":\"indicator\",\"value\":1,\"value_hexadecimal\":\"000028B7\",\"gain\":1.163636,\"cover\":4.5,\"missing_child\":43,\"yes_child\":44,\"no_child\":43},{\"id\":43,\"type\":\"leaf\",\"value\":-1.6,\"value_hexadecimal\":\"CDCCCCBF\",\"gain\":0,\"cover\":4},{\"id\":44,\"name\":\"PassengerId\",\"type\":\"integer\",\"value\":222.5,\"value_hexadecimal\":\"00805E43\",\"gain\":0.4,\"cover\":0.5,\"missing_child\":63,\"yes_child\":63,\"no_child\":64},{\"id\":63,\"type\":\"leaf\",\"value\":-0.4,\"value_hexadecimal\":\"CDCCCCBE\",\"gain\":0,\"cover\":0.25},{\"id\":64,\"type\":\"leaf\",\"value\":0.4,\"value_hexadecimal\":\"CDCCCC3E\",\"gain\":0,\"cover\":0.25}],\"edges\":[{\"src\":0,\"dst\":2,\"value\":\"yes\"},{\"src\":0,\"dst\":1,\"value\":\"no\"},{\"src\":1,\"dst\":3,\"value\":\"yes\"},{\"src\":1,\"dst\":4,\"value\":\"no\"},{\"src\":3,\"dst\":8,\"value\":\"yes\"},{\"src\":3,\"dst\":7,\"value\":\"no\"},{\"src\":7,\"dst\":16,\"value\":\"yes\"},{\"src\":7,\"dst\":15,\"value\":\"no\"},{\"src\":15,\"dst\":28,\"value\":\"yes\"},{\"src\":15,\"dst\":27,\"value\":\"no\"},{\"src\":27,\"dst\":46,\"value\":\"yes\"},{\"src\":27,\"dst\":45,\"value\":\"no\"},{\"src\":4,\"dst\":9,\"value\":\"yes\"},{\"src\":4,\"dst\":10,\"value\":\"no\"},{\"src\":9,\"dst\":17,\"value\":\"yes\"},{\"src\":9,\"dst\":18,\"value\":\"no\"},{\"src\":17,\"dst\":30,\"value\":\"yes\"},{\"src\":17,\"dst\":29,\"value\":\"no\"},{\"src\":29,\"dst\":48,\"value\":\"yes\"},{\"src\":29,\"dst\":47,\"value\":\"no\"},{\"src\":18,\"dst\":31,\"value\":\"yes\"},{\"src\":18,\"dst\":32,\"value\":\"no\"},{\"src\":31,\"dst\":49,\"value\":\"yes\"},{\"src\":31,\"dst\":50,\"value\":\"no\"},{\"src\":32,\"dst\":51,\"value\":\"yes\"},{\"src\":32,\"dst\":52,\"value\":\"no\"},{\"src\":10,\"dst\":20,\"value\":\"yes\"},{\"src\":10,\"dst\":19,\"value\":\"no\"},{\"src\":19,\"dst\":33,\"value\":\"yes\"},{\"src\":19,\"dst\":34,\"value\":\"no\"},{\"src\":2,\"dst\":6,\"value\":\"yes\"},{\"src\":2,\"dst\":5,\"value\":\"no\"},{\"src\":5,\"dst\":11,\"value\":\"yes\"},{\"src\":5,\"dst\":12,\"value\":\"no\"},{\"src\":12,\"dst\":21,\"value\":\"yes\"},{\"src\":12,\"dst\":22,\"value\":\"no\"},{\"src\":21,\"dst\":35,\"value\":\"yes\"},{\"src\":21,\"dst\":36,\"value\":\"no\"},{\"src\":35,\"dst\":53,\"value\":\"yes\"},{\"src\":35,\"dst\":54,\"value\":\"no\"},{\"src\":22,\"dst\":37,\"value\":\"yes\"},{\"src\":22,\"dst\":38,\"value\":\"no\"},{\"src\":38,\"dst\":55,\"value\":\"yes\"},{\"src\":38,\"dst\":56,\"value\":\"no\"},{\"src\":6,\"dst\":14,\"value\":\"yes\"},{\"src\":6,\"dst\":13,\"value\":\"no\"},{\"src\":13,\"dst\":24,\"value\":\"yes\"},{\"src\":13,\"dst\":23,\"value\":\"no\"},{\"src\":23,\"dst\":40,\"value\":\"yes\"},{\"src\":23,\"dst\":39,\"value\":\"no\"},{\"src\":39,\"dst\":58,\"value\":\"yes\"},{\"src\":39,\"dst\":57,\"value\":\"no\"},{\"src\":24,\"dst\":41,\"value\":\"yes\"},{\"src\":24,\"dst\":42,\"value\":\"no\"},{\"src\":41,\"dst\":59,\"value\":\"yes\"},{\"src\":41,\"dst\":60,\"value\":\"no\"},{\"src\":42,\"dst\":61,\"value\":\"yes\"},{\"src\":42,\"dst\":62,\"value\":\"no\"},{\"src\":14,\"dst\":25,\"value\":\"yes\"},{\"src\":14,\"dst\":26,\"value\":\"no\"},{\"src\":26,\"dst\":44,\"value\":\"yes\"},{\"src\":26,\"dst\":43,\"value\":\"no\"},{\"src\":44,\"dst\":63,\"value\":\"yes\"},{\"src\":44,\"dst\":64,\"value\":\"no\"}]}"
   ]
  },
  {
   "cell_type": "code",
   "execution_count": null,
   "metadata": {},
   "outputs": [],
   "source": [
    "vertices = []\n",
    "for i in tree['vertices']:\n",
    "    vertices.append(Vertex(i['id']))#, attr={'label': i['name']}))"
   ]
  },
  {
   "cell_type": "code",
   "execution_count": null,
   "metadata": {},
   "outputs": [],
   "source": [
    "edges = []\n",
    "for i in tree['edges']:\n",
    "    edges.append(Edge(i['src'], i['dst']))"
   ]
  },
  {
   "cell_type": "code",
   "execution_count": null,
   "metadata": {},
   "outputs": [],
   "source": [
    "# construct an SGraph (skip this if you already have one)\n",
    "sg = SGraph()\n",
    "sg = sg.add_vertices(vertices)\n",
    "sg = sg.add_edges(edges)\n",
    "\n",
    "# convert to NetworkX graph\n",
    "g = nx.Graph()\n",
    "g.add_nodes_from(sg.vertices['__id'])\n",
    "g.add_edges_from(sg.edges.apply(lambda row: [v for (k,v) in row.items()]))\n",
    "\n",
    "# Draw it and show on screen\n",
    "nx.draw(g)\n",
    "plt.show()"
   ]
  },
  {
   "cell_type": "code",
   "execution_count": null,
   "metadata": {},
   "outputs": [],
   "source": [
    "X = pd.DataFrame(titanic_data[features])\n",
    "X"
   ]
  },
  {
   "cell_type": "code",
   "execution_count": null,
   "metadata": {},
   "outputs": [],
   "source": [
    "from sklearn.preprocessing import LabelEncoder\n",
    "lb = LabelEncoder()\n",
    "X['Sex'] = lb.fit_transform(X['Sex'])\n",
    "X"
   ]
  },
  {
   "cell_type": "code",
   "execution_count": null,
   "metadata": {},
   "outputs": [],
   "source": [
    "X['Embarked'] = lb.fit_transform(X['Embarked'])\n",
    "X"
   ]
  },
  {
   "cell_type": "code",
   "execution_count": null,
   "metadata": {},
   "outputs": [],
   "source": [
    "X['Categorized_Age'] = lb.fit_transform(X['Categorized_Age'])"
   ]
  },
  {
   "cell_type": "code",
   "execution_count": null,
   "metadata": {},
   "outputs": [],
   "source": [
    "X = X.drop(\"Cabin\", axis=1)\n",
    "X = X.drop(\"Ticket\", axis=1)"
   ]
  },
  {
   "cell_type": "code",
   "execution_count": null,
   "metadata": {},
   "outputs": [],
   "source": [
    "X['Title'] = lb.fit_transform(X['Title'])"
   ]
  },
  {
   "cell_type": "code",
   "execution_count": null,
   "metadata": {},
   "outputs": [],
   "source": [
    "y = pd.DataFrame(titanic_data['Survived'])"
   ]
  },
  {
   "cell_type": "code",
   "execution_count": null,
   "metadata": {},
   "outputs": [],
   "source": [
    "from sklearn.tree import DecisionTreeClassifier\n",
    "dt = DecisionTreeClassifier()\n",
    "dt.fit(X,y)\n",
    "dt.score(X,y)"
   ]
  },
  {
   "cell_type": "code",
   "execution_count": null,
   "metadata": {},
   "outputs": [],
   "source": [
    "from sklearn.externals.six import StringIO  \n",
    "from IPython.display import Image  \n",
    "from sklearn.tree import export_graphviz\n",
    "import pydotplus\n",
    "dot_data = StringIO()\n",
    "export_graphviz(dt, out_file=dot_data,  \n",
    "                filled=True, rounded=True,\n",
    "                special_characters=True)\n",
    "graph = pydotplus.graph_from_dot_data(dot_data.getvalue())  \n",
    "Image(graph.create_png())"
   ]
  },
  {
   "cell_type": "code",
   "execution_count": null,
   "metadata": {},
   "outputs": [],
   "source": [
    "titanic_data.column_names()"
   ]
  },
  {
   "cell_type": "code",
   "execution_count": null,
   "metadata": {},
   "outputs": [],
   "source": [
    "features = [f for f in titanic_data.column_names() if f != 'Name' and f != 'Survived' and f!= 'PassengerId']\n",
    "features"
   ]
  },
  {
   "cell_type": "code",
   "execution_count": null,
   "metadata": {},
   "outputs": [],
   "source": [
    "for f in features:\n",
    "    print f, type(titanic_data[f][0])"
   ]
  },
  {
   "cell_type": "code",
   "execution_count": null,
   "metadata": {},
   "outputs": [],
   "source": [
    "def gini(l):\n",
    "    # Returns gini index of a list of values\n",
    "    print 1 - np.dot(l,l)*1.0/(sum(l))**2\n",
    "def entropy(l):\n",
    "    # Returns the entropy of a list of values\n",
    "    return np.dot(l, np.log2(l))/sum(l)\n",
    "\n",
    "def classes_count(feature):\n",
    "    # Given a column with discrete fields, it returns the dictionary\n",
    "    # containing the fields and their number of appearances\n",
    "    column = titanic_data[feature]\n",
    "    classes = {}\n",
    "    for element in column:\n",
    "        if element in classes.keys():\n",
    "            classes[element] += 1\n",
    "        else:\n",
    "            classes[element] = 1\n",
    "    return classes\n",
    "\n",
    "def pick_highest_class(column):\n",
    "    # Given a column, it returns the feature that splits the column\n",
    "    # with the highest gini impurity, and the two SFrames split by that feature\n",
    "    "
   ]
  },
  {
   "cell_type": "code",
   "execution_count": null,
   "metadata": {},
   "outputs": [],
   "source": [
    "[classes_count('Title')[key] for key in classes_count('Title')]"
   ]
  },
  {
   "cell_type": "code",
   "execution_count": null,
   "metadata": {},
   "outputs": [],
   "source": [
    "titanic_data['Fare'].show()"
   ]
  },
  {
   "cell_type": "code",
   "execution_count": null,
   "metadata": {},
   "outputs": [],
   "source": [
    "titanic_data[features]"
   ]
  },
  {
   "cell_type": "code",
   "execution_count": null,
   "metadata": {},
   "outputs": [],
   "source": [
    "from sklearn.preprocessing import OneHotEncoder\n",
    "enc = OneHotEncoder(handle_unknown='ignore')\n",
    "X = [['Male', 1], ['Female', 3], ['Female', 2]]\n",
    "enc.fit(X)\n",
    "\n",
    "OneHotEncoder(categorical_features=None, categories=None,\n",
    "    #drop=None,\n",
    "    #dtype=<'numpy.float64'>,\n",
    "    handle_unknown='ignore',\n",
    "    n_values=None, sparse=True)\n",
    "enc.categories_\n",
    "#[array(['Female', 'Male'], dtype=object), array([1, 2, 3], dtype=object)]\n",
    "enc.transform([['Female', 1], ['Male', 4]]).toarray()\n",
    "#array([[1., 0., 1., 0., 0.],\n",
    "#       [0., 1., 0., 0., 0.]])\n",
    "enc.inverse_transform([[0, 1, 1, 0, 0], [0, 0, 0, 1, 0]])\n",
    "#array([['Male', 1],\n",
    "#       [None, 2]], dtype=object)\n",
    "enc.get_feature_names()\n",
    "#array(['x0_Female', 'x0_Male', 'x1_1', 'x1_2', 'x1_3'], dtype=object)\n",
    "drop_enc = OneHotEncoder(drop='first').fit(X)\n",
    "drop_enc.categories_\n",
    "#[array(['Female', 'Male'], dtype=object), array([1, 2, 3], dtype=object)]\n",
    "drop_enc.transform([['Female', 1], ['Male', 2]]).toarray()\n",
    "#array([[0., 0., 0.],\n",
    "#       [1., 1., 0.]])"
   ]
  },
  {
   "cell_type": "code",
   "execution_count": null,
   "metadata": {},
   "outputs": [],
   "source": [
    "OneHotEncoder(categorical_features=None, categories=None, handle_unknown='ignore', n_values=None, sparse=True)"
   ]
  },
  {
   "cell_type": "code",
   "execution_count": null,
   "metadata": {},
   "outputs": [],
   "source": [
    "np.array(enc.transform([['Female', 1], ['Male', 4]]))"
   ]
  },
  {
   "cell_type": "markdown",
   "metadata": {},
   "source": [
    "# Kaggle walkthrough\n",
    "https://www.kaggle.com/nhlr21/complete-titanic-tutorial-with-ml-nn-ensembling"
   ]
  },
  {
   "cell_type": "code",
   "execution_count": 1,
   "metadata": {},
   "outputs": [
    {
     "name": "stderr",
     "output_type": "stream",
     "text": [
      "Using TensorFlow backend.\n"
     ]
    }
   ],
   "source": [
    "import pydot\n",
    "import pandas as pd\n",
    "import numpy as np\n",
    "import seaborn as sns\n",
    "sns.set()\n",
    "\n",
    "%matplotlib inline\n",
    "import matplotlib\n",
    "import matplotlib.pyplot as plt\n",
    "\n",
    "# Ignore warnings\n",
    "import warnings\n",
    "warnings.filterwarnings('ignore')\n",
    "\n",
    "import sklearn\n",
    "from sklearn import metrics\n",
    "from sklearn.svm import SVC\n",
    "from sklearn.linear_model import LogisticRegression\n",
    "from sklearn.ensemble import RandomForestClassifier\n",
    "from sklearn.tree import export_graphviz, DecisionTreeClassifier\n",
    "from sklearn.preprocessing import StandardScaler\n",
    "from sklearn.model_selection import cross_val_score, train_test_split\n",
    "from sklearn.exceptions import NotFittedError\n",
    "\n",
    "import keras\n",
    "from keras.models import Sequential\n",
    "from keras.layers import Dense, Dropout\n",
    "from keras import optimizers\n",
    "from keras.wrappers.scikit_learn import KerasClassifier\n",
    "\n",
    "from IPython.display import display\n"
   ]
  },
  {
   "cell_type": "code",
   "execution_count": 7,
   "metadata": {},
   "outputs": [],
   "source": [
    "path_train = './train.csv'\n",
    "path_test = './test.csv'"
   ]
  },
  {
   "cell_type": "code",
   "execution_count": 9,
   "metadata": {},
   "outputs": [
    {
     "data": {
      "text/html": [
       "<div>\n",
       "<style scoped>\n",
       "    .dataframe tbody tr th:only-of-type {\n",
       "        vertical-align: middle;\n",
       "    }\n",
       "\n",
       "    .dataframe tbody tr th {\n",
       "        vertical-align: top;\n",
       "    }\n",
       "\n",
       "    .dataframe thead th {\n",
       "        text-align: right;\n",
       "    }\n",
       "</style>\n",
       "<table border=\"1\" class=\"dataframe\">\n",
       "  <thead>\n",
       "    <tr style=\"text-align: right;\">\n",
       "      <th></th>\n",
       "      <th>PassengerId</th>\n",
       "      <th>Survived</th>\n",
       "      <th>Pclass</th>\n",
       "      <th>Name</th>\n",
       "      <th>Sex</th>\n",
       "      <th>Age</th>\n",
       "      <th>SibSp</th>\n",
       "      <th>Parch</th>\n",
       "      <th>Ticket</th>\n",
       "      <th>Fare</th>\n",
       "      <th>Cabin</th>\n",
       "      <th>Embarked</th>\n",
       "    </tr>\n",
       "  </thead>\n",
       "  <tbody>\n",
       "    <tr>\n",
       "      <th>0</th>\n",
       "      <td>1</td>\n",
       "      <td>0</td>\n",
       "      <td>3</td>\n",
       "      <td>Braund, Mr. Owen Harris</td>\n",
       "      <td>male</td>\n",
       "      <td>22.0</td>\n",
       "      <td>1</td>\n",
       "      <td>0</td>\n",
       "      <td>A/5 21171</td>\n",
       "      <td>7.2500</td>\n",
       "      <td>NaN</td>\n",
       "      <td>S</td>\n",
       "    </tr>\n",
       "    <tr>\n",
       "      <th>1</th>\n",
       "      <td>2</td>\n",
       "      <td>1</td>\n",
       "      <td>1</td>\n",
       "      <td>Cumings, Mrs. John Bradley (Florence Briggs Th...</td>\n",
       "      <td>female</td>\n",
       "      <td>38.0</td>\n",
       "      <td>1</td>\n",
       "      <td>0</td>\n",
       "      <td>PC 17599</td>\n",
       "      <td>71.2833</td>\n",
       "      <td>C85</td>\n",
       "      <td>C</td>\n",
       "    </tr>\n",
       "    <tr>\n",
       "      <th>2</th>\n",
       "      <td>3</td>\n",
       "      <td>1</td>\n",
       "      <td>3</td>\n",
       "      <td>Heikkinen, Miss. Laina</td>\n",
       "      <td>female</td>\n",
       "      <td>26.0</td>\n",
       "      <td>0</td>\n",
       "      <td>0</td>\n",
       "      <td>STON/O2. 3101282</td>\n",
       "      <td>7.9250</td>\n",
       "      <td>NaN</td>\n",
       "      <td>S</td>\n",
       "    </tr>\n",
       "    <tr>\n",
       "      <th>3</th>\n",
       "      <td>4</td>\n",
       "      <td>1</td>\n",
       "      <td>1</td>\n",
       "      <td>Futrelle, Mrs. Jacques Heath (Lily May Peel)</td>\n",
       "      <td>female</td>\n",
       "      <td>35.0</td>\n",
       "      <td>1</td>\n",
       "      <td>0</td>\n",
       "      <td>113803</td>\n",
       "      <td>53.1000</td>\n",
       "      <td>C123</td>\n",
       "      <td>S</td>\n",
       "    </tr>\n",
       "    <tr>\n",
       "      <th>4</th>\n",
       "      <td>5</td>\n",
       "      <td>0</td>\n",
       "      <td>3</td>\n",
       "      <td>Allen, Mr. William Henry</td>\n",
       "      <td>male</td>\n",
       "      <td>35.0</td>\n",
       "      <td>0</td>\n",
       "      <td>0</td>\n",
       "      <td>373450</td>\n",
       "      <td>8.0500</td>\n",
       "      <td>NaN</td>\n",
       "      <td>S</td>\n",
       "    </tr>\n",
       "  </tbody>\n",
       "</table>\n",
       "</div>"
      ],
      "text/plain": [
       "   PassengerId  Survived  Pclass  \\\n",
       "0            1         0       3   \n",
       "1            2         1       1   \n",
       "2            3         1       3   \n",
       "3            4         1       1   \n",
       "4            5         0       3   \n",
       "\n",
       "                                                Name     Sex   Age  SibSp  \\\n",
       "0                            Braund, Mr. Owen Harris    male  22.0      1   \n",
       "1  Cumings, Mrs. John Bradley (Florence Briggs Th...  female  38.0      1   \n",
       "2                             Heikkinen, Miss. Laina  female  26.0      0   \n",
       "3       Futrelle, Mrs. Jacques Heath (Lily May Peel)  female  35.0      1   \n",
       "4                           Allen, Mr. William Henry    male  35.0      0   \n",
       "\n",
       "   Parch            Ticket     Fare Cabin Embarked  \n",
       "0      0         A/5 21171   7.2500   NaN        S  \n",
       "1      0          PC 17599  71.2833   C85        C  \n",
       "2      0  STON/O2. 3101282   7.9250   NaN        S  \n",
       "3      0            113803  53.1000  C123        S  \n",
       "4      0            373450   8.0500   NaN        S  "
      ]
     },
     "execution_count": 9,
     "metadata": {},
     "output_type": "execute_result"
    }
   ],
   "source": [
    "train_df_raw = pd.read_csv(path_train)\n",
    "train_df_raw.head()"
   ]
  },
  {
   "cell_type": "code",
   "execution_count": 10,
   "metadata": {},
   "outputs": [
    {
     "data": {
      "text/html": [
       "<div>\n",
       "<style scoped>\n",
       "    .dataframe tbody tr th:only-of-type {\n",
       "        vertical-align: middle;\n",
       "    }\n",
       "\n",
       "    .dataframe tbody tr th {\n",
       "        vertical-align: top;\n",
       "    }\n",
       "\n",
       "    .dataframe thead th {\n",
       "        text-align: right;\n",
       "    }\n",
       "</style>\n",
       "<table border=\"1\" class=\"dataframe\">\n",
       "  <thead>\n",
       "    <tr style=\"text-align: right;\">\n",
       "      <th></th>\n",
       "      <th>PassengerId</th>\n",
       "      <th>Survived</th>\n",
       "      <th>Pclass</th>\n",
       "      <th>Age</th>\n",
       "      <th>SibSp</th>\n",
       "      <th>Parch</th>\n",
       "      <th>Fare</th>\n",
       "    </tr>\n",
       "  </thead>\n",
       "  <tbody>\n",
       "    <tr>\n",
       "      <th>count</th>\n",
       "      <td>891.000000</td>\n",
       "      <td>891.000000</td>\n",
       "      <td>891.000000</td>\n",
       "      <td>714.000000</td>\n",
       "      <td>891.000000</td>\n",
       "      <td>891.000000</td>\n",
       "      <td>891.000000</td>\n",
       "    </tr>\n",
       "    <tr>\n",
       "      <th>mean</th>\n",
       "      <td>446.000000</td>\n",
       "      <td>0.383838</td>\n",
       "      <td>2.308642</td>\n",
       "      <td>29.699118</td>\n",
       "      <td>0.523008</td>\n",
       "      <td>0.381594</td>\n",
       "      <td>32.204208</td>\n",
       "    </tr>\n",
       "    <tr>\n",
       "      <th>std</th>\n",
       "      <td>257.353842</td>\n",
       "      <td>0.486592</td>\n",
       "      <td>0.836071</td>\n",
       "      <td>14.526497</td>\n",
       "      <td>1.102743</td>\n",
       "      <td>0.806057</td>\n",
       "      <td>49.693429</td>\n",
       "    </tr>\n",
       "    <tr>\n",
       "      <th>min</th>\n",
       "      <td>1.000000</td>\n",
       "      <td>0.000000</td>\n",
       "      <td>1.000000</td>\n",
       "      <td>0.420000</td>\n",
       "      <td>0.000000</td>\n",
       "      <td>0.000000</td>\n",
       "      <td>0.000000</td>\n",
       "    </tr>\n",
       "    <tr>\n",
       "      <th>25%</th>\n",
       "      <td>223.500000</td>\n",
       "      <td>0.000000</td>\n",
       "      <td>2.000000</td>\n",
       "      <td>20.125000</td>\n",
       "      <td>0.000000</td>\n",
       "      <td>0.000000</td>\n",
       "      <td>7.910400</td>\n",
       "    </tr>\n",
       "    <tr>\n",
       "      <th>50%</th>\n",
       "      <td>446.000000</td>\n",
       "      <td>0.000000</td>\n",
       "      <td>3.000000</td>\n",
       "      <td>28.000000</td>\n",
       "      <td>0.000000</td>\n",
       "      <td>0.000000</td>\n",
       "      <td>14.454200</td>\n",
       "    </tr>\n",
       "    <tr>\n",
       "      <th>75%</th>\n",
       "      <td>668.500000</td>\n",
       "      <td>1.000000</td>\n",
       "      <td>3.000000</td>\n",
       "      <td>38.000000</td>\n",
       "      <td>1.000000</td>\n",
       "      <td>0.000000</td>\n",
       "      <td>31.000000</td>\n",
       "    </tr>\n",
       "    <tr>\n",
       "      <th>max</th>\n",
       "      <td>891.000000</td>\n",
       "      <td>1.000000</td>\n",
       "      <td>3.000000</td>\n",
       "      <td>80.000000</td>\n",
       "      <td>8.000000</td>\n",
       "      <td>6.000000</td>\n",
       "      <td>512.329200</td>\n",
       "    </tr>\n",
       "  </tbody>\n",
       "</table>\n",
       "</div>"
      ],
      "text/plain": [
       "       PassengerId    Survived      Pclass         Age       SibSp  \\\n",
       "count   891.000000  891.000000  891.000000  714.000000  891.000000   \n",
       "mean    446.000000    0.383838    2.308642   29.699118    0.523008   \n",
       "std     257.353842    0.486592    0.836071   14.526497    1.102743   \n",
       "min       1.000000    0.000000    1.000000    0.420000    0.000000   \n",
       "25%     223.500000    0.000000    2.000000   20.125000    0.000000   \n",
       "50%     446.000000    0.000000    3.000000   28.000000    0.000000   \n",
       "75%     668.500000    1.000000    3.000000   38.000000    1.000000   \n",
       "max     891.000000    1.000000    3.000000   80.000000    8.000000   \n",
       "\n",
       "            Parch        Fare  \n",
       "count  891.000000  891.000000  \n",
       "mean     0.381594   32.204208  \n",
       "std      0.806057   49.693429  \n",
       "min      0.000000    0.000000  \n",
       "25%      0.000000    7.910400  \n",
       "50%      0.000000   14.454200  \n",
       "75%      0.000000   31.000000  \n",
       "max      6.000000  512.329200  "
      ]
     },
     "execution_count": 10,
     "metadata": {},
     "output_type": "execute_result"
    }
   ],
   "source": [
    "train_df_raw.describe()"
   ]
  },
  {
   "cell_type": "code",
   "execution_count": 11,
   "metadata": {},
   "outputs": [
    {
     "name": "stdout",
     "output_type": "stream",
     "text": [
      "<class 'pandas.core.frame.DataFrame'>\n",
      "RangeIndex: 891 entries, 0 to 890\n",
      "Data columns (total 12 columns):\n",
      "PassengerId    891 non-null int64\n",
      "Survived       891 non-null int64\n",
      "Pclass         891 non-null int64\n",
      "Name           891 non-null object\n",
      "Sex            891 non-null object\n",
      "Age            714 non-null float64\n",
      "SibSp          891 non-null int64\n",
      "Parch          891 non-null int64\n",
      "Ticket         891 non-null object\n",
      "Fare           891 non-null float64\n",
      "Cabin          204 non-null object\n",
      "Embarked       889 non-null object\n",
      "dtypes: float64(2), int64(5), object(5)\n",
      "memory usage: 83.6+ KB\n"
     ]
    }
   ],
   "source": [
    "train_df_raw.info()"
   ]
  },
  {
   "cell_type": "code",
   "execution_count": 14,
   "metadata": {},
   "outputs": [
    {
     "data": {
      "image/png": "[encoded data removed]",
      "text/plain": [
       "<Figure size 1440x432 with 1 Axes>"
      ]
     },
     "metadata": {
      "needs_background": "light"
     },
     "output_type": "display_data"
    },
    {
     "data": {
      "text/html": [
       "<div>\n",
       "<style scoped>\n",
       "    .dataframe tbody tr th:only-of-type {\n",
       "        vertical-align: middle;\n",
       "    }\n",
       "\n",
       "    .dataframe tbody tr th {\n",
       "        vertical-align: top;\n",
       "    }\n",
       "\n",
       "    .dataframe thead th {\n",
       "        text-align: right;\n",
       "    }\n",
       "</style>\n",
       "<table border=\"1\" class=\"dataframe\">\n",
       "  <thead>\n",
       "    <tr style=\"text-align: right;\">\n",
       "      <th></th>\n",
       "      <th>PassengerId</th>\n",
       "      <th>Survived</th>\n",
       "      <th>Pclass</th>\n",
       "      <th>Name</th>\n",
       "      <th>Sex</th>\n",
       "      <th>Age</th>\n",
       "      <th>SibSp</th>\n",
       "      <th>Parch</th>\n",
       "      <th>Ticket</th>\n",
       "      <th>Fare</th>\n",
       "      <th>Cabin</th>\n",
       "      <th>Embarked</th>\n",
       "    </tr>\n",
       "  </thead>\n",
       "  <tbody>\n",
       "    <tr>\n",
       "      <th>61</th>\n",
       "      <td>62</td>\n",
       "      <td>1</td>\n",
       "      <td>1</td>\n",
       "      <td>Icard, Miss. Amelie</td>\n",
       "      <td>female</td>\n",
       "      <td>38.0</td>\n",
       "      <td>0</td>\n",
       "      <td>0</td>\n",
       "      <td>113572</td>\n",
       "      <td>80.0</td>\n",
       "      <td>B28</td>\n",
       "      <td>NaN</td>\n",
       "    </tr>\n",
       "    <tr>\n",
       "      <th>829</th>\n",
       "      <td>830</td>\n",
       "      <td>1</td>\n",
       "      <td>1</td>\n",
       "      <td>Stone, Mrs. George Nelson (Martha Evelyn)</td>\n",
       "      <td>female</td>\n",
       "      <td>62.0</td>\n",
       "      <td>0</td>\n",
       "      <td>0</td>\n",
       "      <td>113572</td>\n",
       "      <td>80.0</td>\n",
       "      <td>B28</td>\n",
       "      <td>NaN</td>\n",
       "    </tr>\n",
       "  </tbody>\n",
       "</table>\n",
       "</div>"
      ],
      "text/plain": [
       "     PassengerId  Survived  Pclass                                       Name  \\\n",
       "61            62         1       1                        Icard, Miss. Amelie   \n",
       "829          830         1       1  Stone, Mrs. George Nelson (Martha Evelyn)   \n",
       "\n",
       "        Sex   Age  SibSp  Parch  Ticket  Fare Cabin Embarked  \n",
       "61   female  38.0      0      0  113572  80.0   B28      NaN  \n",
       "829  female  62.0      0      0  113572  80.0   B28      NaN  "
      ]
     },
     "metadata": {},
     "output_type": "display_data"
    }
   ],
   "source": [
    "figure, axes = plt.subplots(1,1,figsize=(20, 6))\n",
    "plot = sns.catplot(x=\"Embarked\", y=\"Fare\", hue=\"Sex\", data=train_df_raw, palette=('Set1'), kind=\"bar\", ax=axes)\n",
    "plt.close(plot.fig)\n",
    "plt.show()\n",
    "display(train_df_raw[train_df_raw['Embarked'].isnull()])"
   ]
  },
  {
   "cell_type": "code",
   "execution_count": 15,
   "metadata": {},
   "outputs": [
    {
     "data": {
      "image/png": "[encoded data removed]",
      "text/plain": [
       "<Figure size 1440x1080 with 6 Axes>"
      ]
     },
     "metadata": {
      "needs_background": "light"
     },
     "output_type": "display_data"
    }
   ],
   "source": [
    "# Let's plot some histograms to have a previzualisation of some of the data ...\n",
    "train_df_raw.drop(['PassengerId'], 1).hist(bins=50, figsize=(20,15))\n",
    "plt.show()"
   ]
  },
  {
   "cell_type": "code",
   "execution_count": 17,
   "metadata": {},
   "outputs": [],
   "source": [
    "def preprocess_data(df):\n",
    "    \n",
    "    processed_df = df\n",
    "        \n",
    "    ########## Deal with missing values ##########\n",
    "    \n",
    "    # As we saw before, the two missing values for embarked columns can be replaced by 'C' (Cherbourg)\n",
    "    processed_df['Embarked'].fillna('C', inplace=True)\n",
    "    \n",
    "    # We replace missing ages by the mean age of passengers who belong to the same group of class/sex/family\n",
    "    processed_df['Age'] = processed_df.groupby(['Pclass','Sex','Parch','SibSp'])['Age'].transform(lambda x: x.fillna(x.mean()))\n",
    "    processed_df['Age'] = processed_df.groupby(['Pclass','Sex','Parch'])['Age'].transform(lambda x: x.fillna(x.mean()))\n",
    "    processed_df['Age'] = processed_df.groupby(['Pclass','Sex'])['Age'].transform(lambda x: x.fillna(x.mean()))\n",
    "    \n",
    "    # We replace the only missing fare value for test dataset and the missing values of the cabin column\n",
    "    processed_df['Fare'] = processed_df['Fare'].interpolate()\n",
    "    processed_df['Cabin'].fillna('U', inplace=True)\n",
    "    \n",
    "    ########## Feature engineering on columns ##########\n",
    "    \n",
    "    # Create a Title column from name column\n",
    "    processed_df['Title'] = pd.Series((name.split('.')[0].split(',')[1].strip() for name in train_df_raw['Name']), index=train_df_raw.index)\n",
    "    processed_df['Title'] = processed_df['Title'].replace(['Lady', 'the Countess','Countess','Capt', 'Col','Don', 'Dr', 'Major', 'Rev', 'Sir', 'Jonkheer', 'Dona'], 'Rare')\n",
    "    processed_df['Title'] = processed_df['Title'].replace(['Mlle', 'Ms'], 'Miss')\n",
    "    processed_df['Title'] = processed_df['Title'].replace('Mme', 'Mrs')\n",
    "    processed_df['Title'] = processed_df['Title'].map({\"Mr\": 1, \"Miss\": 2, \"Mrs\": 3, \"Master\": 4, \"Rare\": 5})\n",
    "    \n",
    "    # Filling Age missing values with mean age of passengers who have the same title\n",
    "    processed_df['Age'] = processed_df.groupby(['Title'])['Age'].transform(lambda x: x.fillna(x.mean()))\n",
    "\n",
    "    # Transform categorical variables to numeric variables\n",
    "    processed_df['Sex'] = processed_df['Sex'].map({'male': 0, 'female': 1})\n",
    "    processed_df['Embarked'] = processed_df['Embarked'].map({'S': 0, 'C': 1, 'Q': 2})\n",
    "    \n",
    "    # Create a Family Size, Is Alone, Child and Mother columns\n",
    "    processed_df['FamillySize'] = processed_df['SibSp'] + processed_df['Parch'] + 1\n",
    "    processed_df['FamillySize'][processed_df['FamillySize'].between(1, 5, inclusive=False)] = 2\n",
    "    processed_df['FamillySize'][processed_df['FamillySize']>5] = 3\n",
    "    processed_df['IsAlone'] = np.where(processed_df['FamillySize']!=1, 0, 1)\n",
    "    processed_df['IsChild'] = processed_df['Age'] < 18\n",
    "    processed_df['IsChild'] = processed_df['IsChild'].astype(int)\n",
    "    \n",
    "    # Modification of cabin column to keep only the letter contained corresponding to the deck of the boat\n",
    "    processed_df['Cabin'] = processed_df['Cabin'].str[:1]\n",
    "    processed_df['Cabin'] = processed_df['Cabin'].map({cabin: p for p, cabin in enumerate(set(cab for cab in processed_df['Cabin']))})\n",
    "    \n",
    "    # Create a ticket survivor column which is set to 1 if an other passenger with the same ticket survived and 0 else\n",
    "    # Note : this implementation is ugly and unefficient, if sombody found a way to do it easily with pandas (it must be a way), please comment the kernel with your solution !\n",
    "    processed_df['TicketSurvivor'] = pd.Series(0, index=processed_df.index)\n",
    "    tickets = processed_df['Ticket'].value_counts().to_dict()\n",
    "    for t, occ in tickets.items():\n",
    "        if occ != 1:\n",
    "            table = train_df_raw['Survived'][train_df_raw['Ticket'] == t]\n",
    "            if sum(table) != 0:\n",
    "                processed_df['TicketSurvivor'][processed_df['Ticket'] == t] = 1\n",
    "    \n",
    "    # These two columns are not useful anymore\n",
    "    processed_df = processed_df.drop(['Name', 'Ticket', 'PassengerId'], 1)    \n",
    "    \n",
    "    return processed_df"
   ]
  },
  {
   "cell_type": "code",
   "execution_count": 18,
   "metadata": {},
   "outputs": [
    {
     "data": {
      "text/html": [
       "<div>\n",
       "<style scoped>\n",
       "    .dataframe tbody tr th:only-of-type {\n",
       "        vertical-align: middle;\n",
       "    }\n",
       "\n",
       "    .dataframe tbody tr th {\n",
       "        vertical-align: top;\n",
       "    }\n",
       "\n",
       "    .dataframe thead th {\n",
       "        text-align: right;\n",
       "    }\n",
       "</style>\n",
       "<table border=\"1\" class=\"dataframe\">\n",
       "  <thead>\n",
       "    <tr style=\"text-align: right;\">\n",
       "      <th></th>\n",
       "      <th>Pclass</th>\n",
       "      <th>Sex</th>\n",
       "      <th>Age</th>\n",
       "      <th>SibSp</th>\n",
       "      <th>Parch</th>\n",
       "      <th>Fare</th>\n",
       "      <th>Cabin</th>\n",
       "      <th>Embarked</th>\n",
       "      <th>Title</th>\n",
       "      <th>FamillySize</th>\n",
       "      <th>IsAlone</th>\n",
       "      <th>IsChild</th>\n",
       "      <th>TicketSurvivor</th>\n",
       "    </tr>\n",
       "  </thead>\n",
       "  <tbody>\n",
       "    <tr>\n",
       "      <th>331</th>\n",
       "      <td>-1.566107</td>\n",
       "      <td>-0.737695</td>\n",
       "      <td>1.181540</td>\n",
       "      <td>-0.474545</td>\n",
       "      <td>-0.473674</td>\n",
       "      <td>-0.074583</td>\n",
       "      <td>-2.369389</td>\n",
       "      <td>-0.571933</td>\n",
       "      <td>-0.707550</td>\n",
       "      <td>-0.670389</td>\n",
       "      <td>0.811922</td>\n",
       "      <td>-0.405840</td>\n",
       "      <td>-0.596795</td>\n",
       "    </tr>\n",
       "    <tr>\n",
       "      <th>733</th>\n",
       "      <td>-0.369365</td>\n",
       "      <td>-0.737695</td>\n",
       "      <td>-0.483367</td>\n",
       "      <td>-0.474545</td>\n",
       "      <td>-0.473674</td>\n",
       "      <td>-0.386671</td>\n",
       "      <td>0.506151</td>\n",
       "      <td>-0.571933</td>\n",
       "      <td>-0.707550</td>\n",
       "      <td>-0.670389</td>\n",
       "      <td>0.811922</td>\n",
       "      <td>-0.405840</td>\n",
       "      <td>-0.596795</td>\n",
       "    </tr>\n",
       "    <tr>\n",
       "      <th>382</th>\n",
       "      <td>0.827377</td>\n",
       "      <td>-0.737695</td>\n",
       "      <td>0.182596</td>\n",
       "      <td>-0.474545</td>\n",
       "      <td>-0.473674</td>\n",
       "      <td>-0.488854</td>\n",
       "      <td>0.506151</td>\n",
       "      <td>-0.571933</td>\n",
       "      <td>-0.707550</td>\n",
       "      <td>-0.670389</td>\n",
       "      <td>0.811922</td>\n",
       "      <td>-0.405840</td>\n",
       "      <td>-0.596795</td>\n",
       "    </tr>\n",
       "    <tr>\n",
       "      <th>704</th>\n",
       "      <td>0.827377</td>\n",
       "      <td>-0.737695</td>\n",
       "      <td>-0.261380</td>\n",
       "      <td>0.432793</td>\n",
       "      <td>-0.473674</td>\n",
       "      <td>-0.490280</td>\n",
       "      <td>0.506151</td>\n",
       "      <td>-0.571933</td>\n",
       "      <td>-0.707550</td>\n",
       "      <td>0.668886</td>\n",
       "      <td>-1.231645</td>\n",
       "      <td>-0.405840</td>\n",
       "      <td>-0.596795</td>\n",
       "    </tr>\n",
       "    <tr>\n",
       "      <th>813</th>\n",
       "      <td>0.827377</td>\n",
       "      <td>1.355574</td>\n",
       "      <td>-1.741297</td>\n",
       "      <td>3.154809</td>\n",
       "      <td>2.008933</td>\n",
       "      <td>-0.018709</td>\n",
       "      <td>0.506151</td>\n",
       "      <td>-0.571933</td>\n",
       "      <td>0.263832</td>\n",
       "      <td>2.008162</td>\n",
       "      <td>-1.231645</td>\n",
       "      <td>2.464027</td>\n",
       "      <td>-0.596795</td>\n",
       "    </tr>\n",
       "  </tbody>\n",
       "</table>\n",
       "</div>"
      ],
      "text/plain": [
       "       Pclass       Sex       Age     SibSp     Parch      Fare     Cabin  \\\n",
       "331 -1.566107 -0.737695  1.181540 -0.474545 -0.473674 -0.074583 -2.369389   \n",
       "733 -0.369365 -0.737695 -0.483367 -0.474545 -0.473674 -0.386671  0.506151   \n",
       "382  0.827377 -0.737695  0.182596 -0.474545 -0.473674 -0.488854  0.506151   \n",
       "704  0.827377 -0.737695 -0.261380  0.432793 -0.473674 -0.490280  0.506151   \n",
       "813  0.827377  1.355574 -1.741297  3.154809  2.008933 -0.018709  0.506151   \n",
       "\n",
       "     Embarked     Title  FamillySize   IsAlone   IsChild  TicketSurvivor  \n",
       "331 -0.571933 -0.707550    -0.670389  0.811922 -0.405840       -0.596795  \n",
       "733 -0.571933 -0.707550    -0.670389  0.811922 -0.405840       -0.596795  \n",
       "382 -0.571933 -0.707550    -0.670389  0.811922 -0.405840       -0.596795  \n",
       "704 -0.571933 -0.707550     0.668886 -1.231645 -0.405840       -0.596795  \n",
       "813 -0.571933  0.263832     2.008162 -1.231645  2.464027       -0.596795  "
      ]
     },
     "execution_count": 18,
     "metadata": {},
     "output_type": "execute_result"
    }
   ],
   "source": [
    "# Let's divide the train dataset in two datasets to evaluate perfomance of the machine learning models we'll use\n",
    "train_df = train_df_raw.copy()\n",
    "X = train_df.drop(['Survived'], 1)\n",
    "Y = train_df['Survived']\n",
    "\n",
    "X = preprocess_data(X)\n",
    "# We scale our data, it is essential for a smooth working of the models. Scaling means that each columns as a 0 mean and a 1 variance\n",
    "sc = StandardScaler()\n",
    "X = pd.DataFrame(sc.fit_transform(X.values), index=X.index, columns=X.columns)\n",
    "    \n",
    "# Split dataset for model testing\n",
    "X_train, X_test, Y_train, Y_test = train_test_split(X, Y, test_size=0.2, random_state=42)\n",
    "\n",
    "X_train.head()"
   ]
  },
  {
   "cell_type": "code",
   "execution_count": 19,
   "metadata": {},
   "outputs": [
    {
     "ename": "NameError",
     "evalue": "name 'display_confusion_matrix' is not defined",
     "output_type": "error",
     "traceback": [
      "\u001b[0;31m---------------------------------------------------------------------------\u001b[0m",
      "\u001b[0;31mNameError\u001b[0m                                 Traceback (most recent call last)",
      "\u001b[0;32m<ipython-input-19-02b8a47d9202>\u001b[0m in \u001b[0;36m<module>\u001b[0;34m()\u001b[0m\n\u001b[1;32m      4\u001b[0m \u001b[0;34m\u001b[0m\u001b[0m\n\u001b[1;32m      5\u001b[0m \u001b[0mscore\u001b[0m \u001b[0;34m=\u001b[0m \u001b[0mmetrics\u001b[0m\u001b[0;34m.\u001b[0m\u001b[0maccuracy_score\u001b[0m\u001b[0;34m(\u001b[0m\u001b[0mY_test\u001b[0m\u001b[0;34m,\u001b[0m \u001b[0mdt_prediction\u001b[0m\u001b[0;34m)\u001b[0m\u001b[0;34m\u001b[0m\u001b[0m\n\u001b[0;32m----> 6\u001b[0;31m \u001b[0mdisplay_confusion_matrix\u001b[0m\u001b[0;34m(\u001b[0m\u001b[0mY_test\u001b[0m\u001b[0;34m,\u001b[0m \u001b[0mdt_prediction\u001b[0m\u001b[0;34m,\u001b[0m \u001b[0mscore\u001b[0m\u001b[0;34m=\u001b[0m\u001b[0mscore\u001b[0m\u001b[0;34m)\u001b[0m\u001b[0;34m\u001b[0m\u001b[0m\n\u001b[0m",
      "\u001b[0;31mNameError\u001b[0m: name 'display_confusion_matrix' is not defined"
     ]
    }
   ],
   "source": [
    "dt = DecisionTreeClassifier(min_samples_split=15, min_samples_leaf=20, random_state=42)\n",
    "dt.fit(X_train, Y_train)\n",
    "dt_prediction = dt.predict(X_test)\n",
    "\n",
    "score = metrics.accuracy_score(Y_test, dt_prediction)\n",
    "display_confusion_matrix(Y_test, dt_prediction, score=score)"
   ]
  },
  {
   "cell_type": "code",
   "execution_count": 20,
   "metadata": {},
   "outputs": [
    {
     "ename": "NameError",
     "evalue": "name 'visualize_tree' is not defined",
     "output_type": "error",
     "traceback": [
      "\u001b[0;31m---------------------------------------------------------------------------\u001b[0m",
      "\u001b[0;31mNameError\u001b[0m                                 Traceback (most recent call last)",
      "\u001b[0;32m<ipython-input-20-01ed4b74a148>\u001b[0m in \u001b[0;36m<module>\u001b[0;34m()\u001b[0m\n\u001b[0;32m----> 1\u001b[0;31m \u001b[0mvisualize_tree\u001b[0m\u001b[0;34m(\u001b[0m\u001b[0mdt\u001b[0m\u001b[0;34m,\u001b[0m \u001b[0mX_test\u001b[0m\u001b[0;34m.\u001b[0m\u001b[0mcolumns\u001b[0m\u001b[0;34m)\u001b[0m\u001b[0;34m\u001b[0m\u001b[0m\n\u001b[0m\u001b[1;32m      2\u001b[0m \u001b[0mget_ipython\u001b[0m\u001b[0;34m(\u001b[0m\u001b[0;34m)\u001b[0m\u001b[0;34m.\u001b[0m\u001b[0msystem\u001b[0m\u001b[0;34m(\u001b[0m\u001b[0;34mu' dot -Tpng dt.dot > dt.png'\u001b[0m\u001b[0;34m)\u001b[0m\u001b[0;34m\u001b[0m\u001b[0m\n",
      "\u001b[0;31mNameError\u001b[0m: name 'visualize_tree' is not defined"
     ]
    }
   ],
   "source": [
    "visualize_tree(dt, X_test.columns)\n",
    "! dot -Tpng dt.dot > dt.png"
   ]
  },
  {
   "cell_type": "code",
   "execution_count": 21,
   "metadata": {},
   "outputs": [],
   "source": [
    "from sklearn import tree\n",
    "X = [[0, 0], [1, 1]]\n",
    "Y = [0, 1]\n",
    "clf = tree.DecisionTreeClassifier()\n",
    "clf = clf.fit(X, Y)"
   ]
  },
  {
   "cell_type": "code",
   "execution_count": 22,
   "metadata": {},
   "outputs": [
    {
     "data": {
      "text/plain": [
       "array([1])"
      ]
     },
     "execution_count": 22,
     "metadata": {},
     "output_type": "execute_result"
    }
   ],
   "source": [
    "clf.predict([[2., 2.]])"
   ]
  },
  {
   "cell_type": "code",
   "execution_count": 23,
   "metadata": {},
   "outputs": [],
   "source": [
    "from sklearn.datasets import load_iris\n",
    "from sklearn import tree\n",
    "iris = load_iris()\n",
    "clf = tree.DecisionTreeClassifier()\n",
    "clf = clf.fit(iris.data, iris.target)"
   ]
  },
  {
   "cell_type": "code",
   "execution_count": 36,
   "metadata": {},
   "outputs": [
    {
     "ename": "AttributeError",
     "evalue": "'module' object has no attribute 'plot_tree'",
     "output_type": "error",
     "traceback": [
      "\u001b[0;31m---------------------------------------------------------------------------\u001b[0m",
      "\u001b[0;31mAttributeError\u001b[0m                            Traceback (most recent call last)",
      "\u001b[0;32m<ipython-input-36-e72b33a93ee6>\u001b[0m in \u001b[0;36m<module>\u001b[0;34m()\u001b[0m\n\u001b[0;32m----> 1\u001b[0;31m \u001b[0mtree\u001b[0m\u001b[0;34m.\u001b[0m\u001b[0mplot_tree\u001b[0m\u001b[0;34m(\u001b[0m\u001b[0mclf\u001b[0m\u001b[0;34m.\u001b[0m\u001b[0mfit\u001b[0m\u001b[0;34m(\u001b[0m\u001b[0miris\u001b[0m\u001b[0;34m.\u001b[0m\u001b[0mdata\u001b[0m\u001b[0;34m,\u001b[0m \u001b[0miris\u001b[0m\u001b[0;34m.\u001b[0m\u001b[0mtarget\u001b[0m\u001b[0;34m)\u001b[0m\u001b[0;34m)\u001b[0m\u001b[0;34m\u001b[0m\u001b[0m\n\u001b[0m",
      "\u001b[0;31mAttributeError\u001b[0m: 'module' object has no attribute 'plot_tree'"
     ]
    }
   ],
   "source": [
    "tree.plot_tree(clf.fit(iris.data, iris.target))"
   ]
  },
  {
   "cell_type": "code",
   "execution_count": 34,
   "metadata": {},
   "outputs": [
    {
     "ename": "ExecutableNotFound",
     "evalue": "failed to execute ['dot', '-Tpdf', '-O', 'iris'], make sure the Graphviz executables are on your systems' PATH",
     "output_type": "error",
     "traceback": [
      "\u001b[0;31m---------------------------------------------------------------------------\u001b[0m",
      "\u001b[0;31mExecutableNotFound\u001b[0m                        Traceback (most recent call last)",
      "\u001b[0;32m<ipython-input-34-21cd8f554c7e>\u001b[0m in \u001b[0;36m<module>\u001b[0;34m()\u001b[0m\n\u001b[1;32m      2\u001b[0m \u001b[0mdot_data\u001b[0m \u001b[0;34m=\u001b[0m \u001b[0mtree\u001b[0m\u001b[0;34m.\u001b[0m\u001b[0mexport_graphviz\u001b[0m\u001b[0;34m(\u001b[0m\u001b[0mclf\u001b[0m\u001b[0;34m,\u001b[0m \u001b[0mout_file\u001b[0m\u001b[0;34m=\u001b[0m\u001b[0mNone\u001b[0m\u001b[0;34m)\u001b[0m\u001b[0;34m\u001b[0m\u001b[0m\n\u001b[1;32m      3\u001b[0m \u001b[0mgraph\u001b[0m \u001b[0;34m=\u001b[0m \u001b[0mgraphviz\u001b[0m\u001b[0;34m.\u001b[0m\u001b[0mSource\u001b[0m\u001b[0;34m(\u001b[0m\u001b[0mdot_data\u001b[0m\u001b[0;34m)\u001b[0m\u001b[0;34m\u001b[0m\u001b[0m\n\u001b[0;32m----> 4\u001b[0;31m \u001b[0mgraph\u001b[0m\u001b[0;34m.\u001b[0m\u001b[0mrender\u001b[0m\u001b[0;34m(\u001b[0m\u001b[0;34m\"iris\"\u001b[0m\u001b[0;34m)\u001b[0m\u001b[0;34m\u001b[0m\u001b[0m\n\u001b[0m",
      "\u001b[0;32m/Users/luis/anaconda2/lib/python2.7/site-packages/graphviz/files.pyc\u001b[0m in \u001b[0;36mrender\u001b[0;34m(self, filename, directory, view, cleanup)\u001b[0m\n\u001b[1;32m    174\u001b[0m         \u001b[0mfilepath\u001b[0m \u001b[0;34m=\u001b[0m \u001b[0mself\u001b[0m\u001b[0;34m.\u001b[0m\u001b[0msave\u001b[0m\u001b[0;34m(\u001b[0m\u001b[0mfilename\u001b[0m\u001b[0;34m,\u001b[0m \u001b[0mdirectory\u001b[0m\u001b[0;34m)\u001b[0m\u001b[0;34m\u001b[0m\u001b[0m\n\u001b[1;32m    175\u001b[0m \u001b[0;34m\u001b[0m\u001b[0m\n\u001b[0;32m--> 176\u001b[0;31m         \u001b[0mrendered\u001b[0m \u001b[0;34m=\u001b[0m \u001b[0mbackend\u001b[0m\u001b[0;34m.\u001b[0m\u001b[0mrender\u001b[0m\u001b[0;34m(\u001b[0m\u001b[0mself\u001b[0m\u001b[0;34m.\u001b[0m\u001b[0m_engine\u001b[0m\u001b[0;34m,\u001b[0m \u001b[0mself\u001b[0m\u001b[0;34m.\u001b[0m\u001b[0m_format\u001b[0m\u001b[0;34m,\u001b[0m \u001b[0mfilepath\u001b[0m\u001b[0;34m)\u001b[0m\u001b[0;34m\u001b[0m\u001b[0m\n\u001b[0m\u001b[1;32m    177\u001b[0m \u001b[0;34m\u001b[0m\u001b[0m\n\u001b[1;32m    178\u001b[0m         \u001b[0;32mif\u001b[0m \u001b[0mcleanup\u001b[0m\u001b[0;34m:\u001b[0m\u001b[0;34m\u001b[0m\u001b[0m\n",
      "\u001b[0;32m/Users/luis/anaconda2/lib/python2.7/site-packages/graphviz/backend.pyc\u001b[0m in \u001b[0;36mrender\u001b[0;34m(engine, format, filepath, quiet)\u001b[0m\n\u001b[1;32m    130\u001b[0m         \u001b[0;32mexcept\u001b[0m \u001b[0mOSError\u001b[0m \u001b[0;32mas\u001b[0m \u001b[0me\u001b[0m\u001b[0;34m:\u001b[0m\u001b[0;34m\u001b[0m\u001b[0m\n\u001b[1;32m    131\u001b[0m             \u001b[0;32mif\u001b[0m \u001b[0me\u001b[0m\u001b[0;34m.\u001b[0m\u001b[0merrno\u001b[0m \u001b[0;34m==\u001b[0m \u001b[0merrno\u001b[0m\u001b[0;34m.\u001b[0m\u001b[0mENOENT\u001b[0m\u001b[0;34m:\u001b[0m\u001b[0;34m\u001b[0m\u001b[0m\n\u001b[0;32m--> 132\u001b[0;31m                 \u001b[0;32mraise\u001b[0m \u001b[0mExecutableNotFound\u001b[0m\u001b[0;34m(\u001b[0m\u001b[0margs\u001b[0m\u001b[0;34m)\u001b[0m\u001b[0;34m\u001b[0m\u001b[0m\n\u001b[0m\u001b[1;32m    133\u001b[0m             \u001b[0;32melse\u001b[0m\u001b[0;34m:\u001b[0m  \u001b[0;31m# pragma: no cover\u001b[0m\u001b[0;34m\u001b[0m\u001b[0m\n\u001b[1;32m    134\u001b[0m                 \u001b[0;32mraise\u001b[0m\u001b[0;34m\u001b[0m\u001b[0m\n",
      "\u001b[0;31mExecutableNotFound\u001b[0m: failed to execute ['dot', '-Tpdf', '-O', 'iris'], make sure the Graphviz executables are on your systems' PATH"
     ]
    }
   ],
   "source": [
    "import graphviz \n",
    "dot_data = tree.export_graphviz(clf, out_file=None) \n",
    "graph = graphviz.Source(dot_data) \n",
    "graph.render(\"iris\") "
   ]
  },
  {
   "cell_type": "code",
   "execution_count": 32,
   "metadata": {},
   "outputs": [],
   "source": [
    "import os\n",
    "os.environ[\"PATH\"] += os.pathsep + 'D:/Program Files (x86)/Graphviz2.38/bin/'"
   ]
  },
  {
   "cell_type": "code",
   "execution_count": 38,
   "metadata": {},
   "outputs": [],
   "source": [
    "import graphviz"
   ]
  },
  {
   "cell_type": "code",
   "execution_count": 39,
   "metadata": {},
   "outputs": [
    {
     "ename": "AttributeError",
     "evalue": "'module' object has no attribute 'plot_tree'",
     "output_type": "error",
     "traceback": [
      "\u001b[0;31m---------------------------------------------------------------------------\u001b[0m",
      "\u001b[0;31mAttributeError\u001b[0m                            Traceback (most recent call last)",
      "\u001b[0;32m<ipython-input-39-997d2cc4628c>\u001b[0m in \u001b[0;36m<module>\u001b[0;34m()\u001b[0m\n\u001b[0;32m----> 1\u001b[0;31m \u001b[0mtree\u001b[0m\u001b[0;34m.\u001b[0m\u001b[0mplot_tree\u001b[0m\u001b[0;34m\u001b[0m\u001b[0m\n\u001b[0m",
      "\u001b[0;31mAttributeError\u001b[0m: 'module' object has no attribute 'plot_tree'"
     ]
    }
   ],
   "source": [
    "tree.plot_tree"
   ]
  },
  {
   "cell_type": "code",
   "execution_count": null,
   "metadata": {},
   "outputs": [],
   "source": []
  }
 ],
 "metadata": {
  "kernelspec": {
   "display_name": "Python 2",
   "language": "python",
   "name": "python2"
  },
  "language_info": {
   "codemirror_mode": {
    "name": "ipython",
    "version": 2
   },
   "file_extension": ".py",
   "mimetype": "text/x-python",
   "name": "python",
   "nbconvert_exporter": "python",
   "pygments_lexer": "ipython2",
   "version": "2.7.15"
  }
 },
 "nbformat": 4,
 "nbformat_minor": 2
}
